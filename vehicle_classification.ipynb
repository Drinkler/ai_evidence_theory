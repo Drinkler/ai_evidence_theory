{
  "nbformat": 4,
  "nbformat_minor": 0,
  "metadata": {
    "colab": {
      "name": "Kopie von vehicle_classification.ipynb",
      "provenance": [],
      "collapsed_sections": [],
      "include_colab_link": true
    },
    "kernelspec": {
      "name": "python3",
      "display_name": "Python 3"
    }
  },
  "cells": [
    {
      "cell_type": "markdown",
      "metadata": {
        "id": "view-in-github",
        "colab_type": "text"
      },
      "source": [
        "<a href=\"https://colab.research.google.com/github/lucastanger/vehicle_classification/blob/main/vehicle_classification.ipynb\" target=\"_parent\"><img src=\"https://colab.research.google.com/assets/colab-badge.svg\" alt=\"Open In Colab\"/></a>"
      ]
    },
    {
      "cell_type": "markdown",
      "metadata": {
        "id": "2kcQaAVhx1gX"
      },
      "source": [
        "# Evidencetheory / Dempsters Rule"
      ]
    },
    {
      "cell_type": "code",
      "metadata": {
        "colab": {
          "base_uri": "https://localhost:8080/"
        },
        "id": "3URZn9Xgx1fM",
        "outputId": "7a3e4143-af7c-4d07-babb-db3a6c068498"
      },
      "source": [
        "!pip install py_dempster_shafer"
      ],
      "execution_count": 110,
      "outputs": [
        {
          "output_type": "stream",
          "text": [
            "Requirement already satisfied: py_dempster_shafer in /usr/local/lib/python3.6/dist-packages (0.7)\n"
          ],
          "name": "stdout"
        }
      ]
    },
    {
      "cell_type": "code",
      "metadata": {
        "id": "WmQGZ7L-b7oe"
      },
      "source": [
        "# Imports\r\n",
        "import pandas as pd\r\n",
        "from pyds import MassFunction"
      ],
      "execution_count": 111,
      "outputs": []
    },
    {
      "cell_type": "markdown",
      "metadata": {
        "id": "_3dXW_yU2WTe"
      },
      "source": [
        "# Settings"
      ]
    },
    {
      "cell_type": "code",
      "metadata": {
        "cellView": "form",
        "id": "K6yyZih62XpF"
      },
      "source": [
        "#@title Define classification bounds\n",
        "# \n",
        "SPEED_LOWER_BOUND = 60 #@param {type:\"integer\"}\n",
        "SPEED_UPPER_BOUND = 90 #@param {type:\"integer\"}\n",
        "#@markdown ---\n",
        "REFLECT_LOWER_BOUND = 0.1 #@param {type:\"number\"}\n",
        "REFLECT_UPPER_BOUND = 0.6 #@param {type:\"number\"}\n",
        "#@markdown ---\n",
        "CAR_WIDTH_LOWER_BOUND = 1.6 #@param {type:\"number\"}\n",
        "CAR_WIDTH_UPPER_BOUND = 2.15 #@param {type:\"number\"}\n",
        "#@markdown ---\n",
        "TRUCK_WIDTH_LOWER_BOUND = 1.9 #@param {type:\"number\"}\n",
        "TRUCK_WIDTH_UPPER_BOUND = 2.5 #@param {type:\"number\"}\n",
        "#@markdown ---\n",
        "TWOWHEEL_WIDTH_LOWER_BOUND = 0.7 #@param {type:\"number\"}\n",
        "TWOWHEEL_WIDTH_UPPER_BOUND = 1.1 #@param {type:\"number\"}\n",
        "#@markdown ---\n",
        "DISTANCE_PERCENTAGE_THRESHOLD = 1.05 #@param {type:\"number\"}"
      ],
      "execution_count": 112,
      "outputs": []
    },
    {
      "cell_type": "markdown",
      "metadata": {
        "id": "sIQ_v8_Oz_YW"
      },
      "source": [
        "# Load data\r\n",
        "\r\n",
        "We received 6 datasets, containing different radar measurements. The data consists of the following features:\r\n",
        "\r\n",
        "* Takt (*Clock*) - A 100ms interval\r\n",
        "* Radar/Distanz (*Radar/Distance in meters*) - The distance to the object in front\r\n",
        "* Breite (*Width in meters*) - The width of the object in front\r\n",
        "* Reflektionsstärke (*Reflection strength*) - The measured reflection strength of the object in front\r\n",
        "* Geschwindigkeit (*Speed/Velocity*) - The measured velocity of the object in front"
      ]
    },
    {
      "cell_type": "code",
      "metadata": {
        "colab": {
          "base_uri": "https://localhost:8080/"
        },
        "id": "3hdE5v-HdYi2",
        "outputId": "7eb920f2-b30d-41ee-8e0a-c022d9ed26cb"
      },
      "source": [
        "dfs = []\r\n",
        "\r\n",
        "# Load data iteratively\r\n",
        "for i in range(1, 7):\r\n",
        "  # Store dataframes in list for later access\r\n",
        "  dfs.append(pd.read_csv('https://raw.githubusercontent.com/lucastanger/vehicle_classification/main/data/DE11_{}.csv'.format(i), sep=\";\"))\r\n",
        "\r\n",
        "# Print out the head of the dataframes\r\n",
        "for df in dfs: print(df.head(3))"
      ],
      "execution_count": 113,
      "outputs": [
        {
          "output_type": "stream",
          "text": [
            "   Takt Radar / Distanz (m) Breite (m) Reflektionsstaerke Geschwindigkeit\n",
            "0     1                61,2      0,735           0,050715          119,56\n",
            "1     2                60,8       0,63         0,03803625          119,92\n",
            "2     3                60,5       0,42           0,050715          120,64\n",
            "   Takt Radar / Distanz (m) Breite (m) Reflektionsstaerke Geschwindigkeit\n",
            "0     1                  75       2,52              0,432           81,36\n",
            "1     2                75,1        2,4             0,4032           81,36\n",
            "2     3                75,2       2,52               0,36              81\n",
            "   Takt Radar / Distanz (m) Breite (m) Reflektionsstaerke Geschwindigkeit\n",
            "0     1                  60        1,1              0,072            90,5\n",
            "1     2                  58        1,2              0,069            82,8\n",
            "2     3                  56       1,21              0,073            82,8\n",
            "   Takt Radar / Distanz (m) Breite (m) Reflektionsstaerke Geschwindigkeit\n",
            "0     1                  40       0,86               0,09          122,08\n",
            "1     2                40,3       0,92              0,087          121,72\n",
            "2     3                40,5       0,85              0,084           126,4\n",
            "   Takt Radar / Distanz (m) Breite (m) Reflektionsstaerke Geschwindigkeit\n",
            "0     1                  70        0,6              0,025            27,6\n",
            "1     2                  61       0,74               0,03            31,2\n",
            "2     3                  53       0,63              0,035            31,2\n",
            "   Takt Radar / Distanz (m) Breite (m) Reflektionsstaerke Geschwindigkeit\n",
            "0     1                  75          2               0,63            73,2\n",
            "1     2                74,5        2,1               0,67            73,2\n",
            "2     3                  74        2,2               0,69           72,48\n"
          ],
          "name": "stdout"
        }
      ]
    },
    {
      "cell_type": "code",
      "metadata": {
        "id": "1z7Z2KUwk18-"
      },
      "source": [
        "# Define omega\r\n",
        "# p = PKW\r\n",
        "# l = LKW\r\n",
        "# m = Motorrad\r\n",
        "# f = Fahrrad\r\n",
        "omega = 'plmf'"
      ],
      "execution_count": 114,
      "outputs": []
    },
    {
      "cell_type": "markdown",
      "metadata": {
        "id": "UL9ojn56zEB6"
      },
      "source": [
        "Vorliegende Daten:\r\n",
        "\r\n",
        "* **Geschwindigkeit** - Mittlere Geschwindigkeiten von 60-90\r\n",
        "km/h sprechen für PKW, LKW oder\r\n",
        "Motorrad. Höhere Geschwindigkeiten\r\n",
        "über 90 km/h sprechen für PKW oder\r\n",
        "Motorrad. \r\n",
        "\r\n",
        "* **Distanz** - Distanz zum vorausfahrenden Objekt - Sehr schnell schwankende Änderungen der Distanz (bei gleichbleibender\r\n",
        "Eigengeschwindigkeit, d.h. Beschleunigungen), weisen auf ein Motorrad\r\n",
        "hin, schnelle auf einen PKW oder\r\n",
        "Motorrad.\r\n",
        "\r\n",
        "* **Breite (m)** - Breiten zwischen 1,60 und 2,15\r\n",
        "weisen auf PKW hin, Breiten zwischen 1,90 und 2,50 auf einen LKW\r\n",
        "und Breiten zwischen 0,70 und 1,10\r\n",
        "auf ein Motorrad oder ein Fahrrad.\r\n",
        "\r\n",
        "* **Reflektionsstaerke** - LKW und PKW liefern eine große\r\n",
        "Reflektionsstärke. Motorräder und\r\n",
        "Fahrräder liefern deutlich geringere\r\n",
        "Reflektionsstärken.\r\n",
        "\r\n"
      ]
    },
    {
      "cell_type": "code",
      "metadata": {
        "id": "clvUVPbq0wXG"
      },
      "source": [
        "def speed(speed: float) -> str: \n",
        "  \"\"\"Classify a given speed. Limits are defined by lower and upper bounds\"\"\"\n",
        "  if speed <= SPEED_LOWER_BOUND:\n",
        "    return 'f'\n",
        "  elif SPEED_LOWER_BOUND < speed < SPEED_UPPER_BOUND:\n",
        "    return 'plm'\n",
        "  elif speed >= SPEED_UPPER_BOUND:\n",
        "    return 'pm'\n",
        "\n",
        "def reflective_strength(reflective_strength: float) -> str:\n",
        "  \"\"\"Classify a given reflective strength. Limits are defined by lower and upper bounds\"\"\"\n",
        "  if reflective_strength < REFLECT_LOWER_BOUND:\n",
        "    return 'fm'\n",
        "  elif REFLECT_LOWER_BOUND >= reflective_strength > REFLECT_UPPER_BOUND:\n",
        "    return 'pl'\n",
        "  elif reflective_strength > REFLECT_UPPER_BOUND:\n",
        "    return 'l'\n",
        "\n",
        "def width(width: float) -> str:\n",
        "  \"\"\"Classify a given width. Limits are definied by lower and upper bounds\"\"\"\n",
        "  if CAR_WIDTH_LOWER_BOUND <= width <= CAR_WIDTH_UPPER_BOUND:\n",
        "    return 'p'\n",
        "  elif TRUCK_WIDTH_LOWER_BOUND <= width <= TRUCK_WIDTH_UPPER_BOUND:\n",
        "    return 'l'\n",
        "  elif TWOWHEEL_WIDTH_LOWER_BOUND <= width <= TWOWHEEL_WIDTH_UPPER_BOUND:\n",
        "    return 'fm'\n",
        "  else:\n",
        "    # Return nothing if measurement is meaningless\n",
        "    return ''\n",
        "\n",
        "def distance(distance: float, old_distance: float) -> str:\n",
        "  \"\"\"Classify a given distance by its predecessor\"\"\"\n",
        "  # Check if ahead driving object gained x% of distance within 100ms\n",
        "  if distance > old_distance*DISTANCE_PERCENTAGE_THRESHOLD:\n",
        "    return 'm'\n",
        "  else:\n",
        "    return ''\n"
      ],
      "execution_count": 115,
      "outputs": []
    },
    {
      "cell_type": "markdown",
      "metadata": {
        "id": "x_zAlmCEh_wV"
      },
      "source": [
        "Laut Aufgabenbeschreibung funktionieren die Sensoren im Nahbereich gut und werden auf Entfernung immer schlechter. \r\n",
        "\r\n",
        "**Annahme:** Die Evidenz steigt in Abhängigkeit der Distanz:\r\n",
        "\r\n",
        "Evidenz = 1 - Distanz/2 /100\r\n",
        "\r\n",
        "Omega = 1 - Evidenz\r\n",
        "\r\n"
      ]
    },
    {
      "cell_type": "code",
      "metadata": {
        "id": "lLHFIQxRjF2q"
      },
      "source": [
        "def compute_evidence(distance: float) -> float:\r\n",
        "  return 1-distance/2/100"
      ],
      "execution_count": 116,
      "outputs": []
    },
    {
      "cell_type": "code",
      "metadata": {
        "id": "Bw7hYTehRZwK"
      },
      "source": [
        "def createMassFunction(om: list, distance: float) -> MassFunction:\n",
        "  \"\"\" Wrapper function for creation of pyds MassFunction \"\"\"\n",
        "  # Remove empty elements\n",
        "  om = list(filter(None, om)) \n",
        "  # Remove duplicates\n",
        "  om = list(dict.fromkeys(om))\n",
        "  # Create param list\n",
        "  param = {}\n",
        "\n",
        "  for elem in om:\n",
        "    param[elem] = compute_evidence(distance=distance)/len(om)\n",
        "\n",
        "  param[omega] = 1 - compute_evidence(distance=distance)\n",
        "\n",
        "  m = MassFunction(param)\n",
        "\n",
        "  return m"
      ],
      "execution_count": 117,
      "outputs": []
    },
    {
      "cell_type": "code",
      "metadata": {
        "colab": {
          "base_uri": "https://localhost:8080/"
        },
        "id": "2VeaW1Gnz9D8",
        "outputId": "d9f91347-9a2e-4558-ac96-919f81132206"
      },
      "source": [
        "#@title Select dataset\n",
        "old_dist = 0\n",
        "\n",
        "mass_functions = []\n",
        "\n",
        "dataset_number = 4 #@param [\"0\", \"1\", \"2\", \"3\", \"4\", \"5\"] {type:\"raw\"}\n",
        "\n",
        "for row in dfs[dataset_number].iloc:\n",
        "  omega_ = []\n",
        "  for i in range(1,5):\n",
        "    s = row[i]\n",
        "    s = s.replace(',', '.')\n",
        "    if i == 1:\n",
        "      if old_dist == 0:\n",
        "        omega_.append(distance(float(s), float(s)))\n",
        "        old_dist = float(s)\n",
        "      else:\n",
        "        omega_.append(distance(float(s), old_dist))\n",
        "        old_dist = float(s)\n",
        "    elif i == 2:\n",
        "      omega_.append(width(float(s)))\n",
        "    elif i == 3:\n",
        "      omega_.append(reflective_strength(float(s)))\n",
        "    elif i == 4:\n",
        "      omega_.append(speed(float(s)))\n",
        "\n",
        "  print(f'Takt {row[0]}: {omega_}')\n",
        "  mass_functions.append(createMassFunction(omega_, float(row[1].replace(',', '.'))))"
      ],
      "execution_count": 118,
      "outputs": [
        {
          "output_type": "stream",
          "text": [
            "Takt 1: ['', '', 'fm', 'f']\n",
            "Takt 2: ['', 'fm', 'fm', 'f']\n",
            "Takt 3: ['', '', 'fm', 'f']\n",
            "Takt 4: ['', 'fm', 'fm', 'f']\n",
            "Takt 5: ['', 'fm', 'fm', 'f']\n",
            "Takt 6: ['', '', 'fm', 'f']\n",
            "Takt 7: ['', 'fm', 'fm', 'f']\n",
            "Takt 8: ['', '', 'fm', 'f']\n",
            "Takt 9: ['', 'fm', 'fm', 'f']\n",
            "Takt 10: ['', 'fm', 'fm', 'f']\n",
            "Takt 11: ['', '', 'fm', 'f']\n",
            "Takt 12: ['', '', 'fm', 'f']\n",
            "Takt 13: ['', 'fm', 'fm', 'f']\n",
            "Takt 14: ['', 'fm', 'fm', 'f']\n",
            "Takt 15: ['', 'fm', 'fm', 'f']\n",
            "Takt 16: ['', 'fm', 'fm', 'f']\n",
            "Takt 17: ['', 'fm', 'fm', 'f']\n",
            "Takt 18: ['', 'fm', 'fm', 'f']\n"
          ],
          "name": "stdout"
        }
      ]
    },
    {
      "cell_type": "code",
      "metadata": {
        "colab": {
          "base_uri": "https://localhost:8080/"
        },
        "id": "tAwAD72ZW-p7",
        "outputId": "70c0102f-4dcf-42a6-fedf-f66285c07af8"
      },
      "source": [
        "c = None\r\n",
        "\r\n",
        "for i, func in enumerate(mass_functions): \r\n",
        "  if i == 0:\r\n",
        "    c = func\r\n",
        "  else:\r\n",
        "    c = c.combine_conjunctive(mass_function=mass_functions[i-1])\r\n",
        "  print(f'{c}')\r\n",
        "\r\n",
        "print(f'Final Massfunction: {c}')"
      ],
      "execution_count": 119,
      "outputs": [
        {
          "output_type": "stream",
          "text": [
            "{{'m', 'p', 'f', 'l'}:0.35; {'m', 'f'}:0.325; {'f'}:0.325}\n",
            "{{'f'}:0.544375; {'m', 'f'}:0.333125; {'m', 'p', 'f', 'l'}:0.12249999999999998}\n",
            "{{'f'}:0.7027046875; {'m', 'f'}:0.25993281249999994; {'m', 'p', 'f', 'l'}:0.03736249999999998}\n",
            "{{'f'}:0.8119607148437501; {'m', 'f'}:0.17813822265624998; {'m', 'p', 'f', 'l'}:0.009901062499999997}\n",
            "{{'f'}:0.884825937841797; {'m', 'f'}:0.1129463230957031; {'m', 'p', 'f', 'l'}:0.002227739062499999}\n",
            "{{'f'}:0.9314714330158692; {'m', 'f'}:0.06810529656225583; {'m', 'p', 'f', 'l'}:0.0004232704218749997}\n",
            "{{'f'}:0.9602534311492041; {'m', 'f'}:0.03967884558329588; {'m', 'p', 'f', 'l'}:6.772326749999996e-05}\n",
            "{{'f'}:0.9774935053882368; {'m', 'f'}:0.022497521278819415; {'m', 'p', 'f', 'l'}:8.973332943749998e-06}\n",
            "{{'f'}:0.9875088954904715; {'m', 'f'}:0.012490117442904746; {'m', 'p', 'f', 'l'}:9.870666238124998e-07}\n",
            "{{'f'}:0.9931923480423068; {'m', 'f'}:0.006807563121696919; {'m', 'p', 'f', 'l'}:8.883599614312494e-08}\n",
            "{{'f'}:0.9963323775077929; {'m', 'f'}:0.003667615607417436; {'m', 'p', 'f', 'l'}:6.884789701092185e-09}\n",
            "{{'f'}:0.9980378219666691; {'m', 'f'}:0.001962177551395539; {'m', 'p', 'f', 'l'}:4.819352790764533e-10}\n",
            "{{'f'}:0.9989551401972513; {'m', 'f'}:0.0010448597714228674; {'m', 'p', 'f', 'l'}:3.132579313996944e-11}\n",
            "{{'f'}:0.9994462243045432; {'m', 'f'}:0.0005537756935772425; {'m', 'p', 'f', 'l'}:1.879547588398168e-12}\n",
            "{{'f'}:0.9997078833206465; {'m', 'f'}:0.00029211667925008167; {'m', 'p', 'f', 'l'}:1.0337511736189934e-13}\n",
            "{{'f'}:0.9998462735974902; {'m', 'f'}:0.00015372640250432943; {'m', 'p', 'f', 'l'}:5.427193661499714e-15}\n",
            "{{'f'}:0.9999192936386824; {'m', 'f'}:8.070636131735087e-05; {'m', 'p', 'f', 'l'}:2.7135968307498597e-16}\n",
            "{{'f'}:0.9999575282773566; {'m', 'f'}:4.2471722643384464e-05; {'m', 'p', 'f', 'l'}:1.4246383361436763e-17}\n",
            "Final Massfunction: {{'f'}:0.9999575282773566; {'m', 'f'}:4.2471722643384464e-05; {'m', 'p', 'f', 'l'}:1.4246383361436763e-17}\n"
          ],
          "name": "stdout"
        }
      ]
    },
    {
      "cell_type": "code",
      "metadata": {
        "id": "SpB9azx2Zu1f"
      },
      "source": [
        "def compute_plausibility(mass_function: MassFunction) -> None:\r\n",
        "  for elem in omega:\r\n",
        "    print(f'Plausibility of {elem}: {mass_function.pl({elem})}')\r\n",
        "\r\n",
        "def compute_belief(mass_function: MassFunction) -> None:\r\n",
        "  for elem in omega:\r\n",
        "    print(f'B({elem}): {mass_function.bel({elem})}')\r\n",
        "\r\n",
        "  print(f'B(four wheels) = B(p,l) = {c.bel(\"pl\")}')\r\n",
        "  print(f'B(two wheels) = B(f,m) = {c.bel(\"fm\")}')\r\n",
        "\r\n",
        "def compute_doubt(mass_function: MassFunction, lbl: str) -> None: \r\n",
        "  print(f'Doubt on classification of {lbl}: {mass_function.bel(omega.replace(lbl, \"\"))}')"
      ],
      "execution_count": 120,
      "outputs": []
    },
    {
      "cell_type": "code",
      "metadata": {
        "colab": {
          "base_uri": "https://localhost:8080/"
        },
        "id": "QS05oezZao6K",
        "outputId": "f9258639-7763-447f-ec83-c4729846836c"
      },
      "source": [
        "compute_plausibility(c)"
      ],
      "execution_count": 121,
      "outputs": [
        {
          "output_type": "stream",
          "text": [
            "Plausibility of p: 1.4246383361436763e-17\n",
            "Plausibility of l: 1.4246383361436763e-17\n",
            "Plausibility of m: 4.247172264339871e-05\n",
            "Plausibility of f: 1.0\n"
          ],
          "name": "stdout"
        }
      ]
    },
    {
      "cell_type": "code",
      "metadata": {
        "colab": {
          "base_uri": "https://localhost:8080/"
        },
        "id": "kLQxQZcXdoqP",
        "outputId": "bef758f8-791c-482b-aa63-5cc9bca3841f"
      },
      "source": [
        "compute_belief(c)"
      ],
      "execution_count": 122,
      "outputs": [
        {
          "output_type": "stream",
          "text": [
            "B(p): 0.0\n",
            "B(l): 0.0\n",
            "B(m): 0.0\n",
            "B(f): 0.9999575282773566\n",
            "B(four wheels) = B(p,l) = 0.0\n",
            "B(two wheels) = B(f,m) = 1.0\n"
          ],
          "name": "stdout"
        }
      ]
    },
    {
      "cell_type": "code",
      "metadata": {
        "colab": {
          "base_uri": "https://localhost:8080/"
        },
        "id": "QLpUecXDeurV",
        "outputId": "79475928-d901-4799-a9ef-9752a270fd6e"
      },
      "source": [
        "#@title Compute Doubt for given label\n",
        "doubt = \"m\" #@param [\"p\", \"l\", \"m\", \"f\"]\n",
        "\n",
        "compute_doubt(c, doubt)"
      ],
      "execution_count": 129,
      "outputs": [
        {
          "output_type": "stream",
          "text": [
            "Doubt on classification of m: 0.9999575282773566\n"
          ],
          "name": "stdout"
        }
      ]
    },
    {
      "cell_type": "code",
      "metadata": {
        "colab": {
          "base_uri": "https://localhost:8080/"
        },
        "id": "179nTJMRmzVm",
        "outputId": "b373a81e-d456-45d8-c4f1-868e8a2be15f"
      },
      "source": [
        "for i, fun in enumerate(mass_functions):\r\n",
        "  print(f'MassFuntion at {i*100}ms: {fun}')"
      ],
      "execution_count": 124,
      "outputs": [
        {
          "output_type": "stream",
          "text": [
            "MassFuntion at 0ms: {{'m', 'p', 'f', 'l'}:0.35; {'m', 'f'}:0.325; {'f'}:0.325}\n",
            "MassFuntion at 100ms: {{'m', 'f'}:0.34750000000000003; {'f'}:0.34750000000000003; {'m', 'p', 'f', 'l'}:0.30499999999999994}\n",
            "MassFuntion at 200ms: {{'m', 'f'}:0.3675; {'f'}:0.3675; {'m', 'p', 'f', 'l'}:0.265}\n",
            "MassFuntion at 300ms: {{'m', 'f'}:0.3875; {'f'}:0.3875; {'m', 'p', 'f', 'l'}:0.22499999999999998}\n",
            "MassFuntion at 400ms: {{'m', 'f'}:0.405; {'f'}:0.405; {'m', 'p', 'f', 'l'}:0.18999999999999995}\n",
            "MassFuntion at 500ms: {{'m', 'f'}:0.42; {'f'}:0.42; {'m', 'p', 'f', 'l'}:0.16000000000000003}\n",
            "MassFuntion at 600ms: {{'m', 'f'}:0.43374999999999997; {'f'}:0.43374999999999997; {'m', 'p', 'f', 'l'}:0.13250000000000006}\n",
            "MassFuntion at 700ms: {{'m', 'f'}:0.445; {'f'}:0.445; {'m', 'p', 'f', 'l'}:0.10999999999999999}\n",
            "MassFuntion at 800ms: {{'m', 'f'}:0.455; {'f'}:0.455; {'m', 'p', 'f', 'l'}:0.08999999999999997}\n",
            "MassFuntion at 900ms: {{'m', 'f'}:0.46125; {'f'}:0.46125; {'m', 'p', 'f', 'l'}:0.07750000000000001}\n",
            "MassFuntion at 1000ms: {{'m', 'f'}:0.46499999999999997; {'f'}:0.46499999999999997; {'m', 'p', 'f', 'l'}:0.07000000000000006}\n",
            "MassFuntion at 1100ms: {{'m', 'f'}:0.4675; {'f'}:0.4675; {'m', 'p', 'f', 'l'}:0.06499999999999995}\n",
            "MassFuntion at 1200ms: {{'m', 'f'}:0.47; {'f'}:0.47; {'m', 'p', 'f', 'l'}:0.06000000000000005}\n",
            "MassFuntion at 1300ms: {{'m', 'f'}:0.4725; {'f'}:0.4725; {'m', 'p', 'f', 'l'}:0.05500000000000005}\n",
            "MassFuntion at 1400ms: {{'m', 'f'}:0.47375; {'f'}:0.47375; {'m', 'p', 'f', 'l'}:0.05249999999999999}\n",
            "MassFuntion at 1500ms: {{'m', 'f'}:0.475; {'f'}:0.475; {'m', 'p', 'f', 'l'}:0.050000000000000044}\n",
            "MassFuntion at 1600ms: {{'m', 'f'}:0.47375; {'f'}:0.47375; {'m', 'p', 'f', 'l'}:0.05249999999999999}\n",
            "MassFuntion at 1700ms: {{'m', 'f'}:0.4725; {'f'}:0.4725; {'m', 'p', 'f', 'l'}:0.05500000000000005}\n"
          ],
          "name": "stdout"
        }
      ]
    }
  ]
}