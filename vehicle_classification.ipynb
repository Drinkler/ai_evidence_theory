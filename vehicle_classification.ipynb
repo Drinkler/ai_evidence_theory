{
  "nbformat": 4,
  "nbformat_minor": 0,
  "metadata": {
    "colab": {
      "name": "Kopie von vehicle_classification.ipynb",
      "provenance": [],
      "collapsed_sections": [],
      "include_colab_link": true
    },
    "kernelspec": {
      "name": "python3",
      "display_name": "Python 3"
    }
  },
  "cells": [
    {
      "cell_type": "markdown",
      "metadata": {
        "id": "view-in-github",
        "colab_type": "text"
      },
      "source": [
        "<a href=\"https://colab.research.google.com/github/lucastanger/vehicle_classification/blob/main/vehicle_classification.ipynb\" target=\"_parent\"><img src=\"https://colab.research.google.com/assets/colab-badge.svg\" alt=\"Open In Colab\"/></a>"
      ]
    },
    {
      "cell_type": "markdown",
      "metadata": {
        "id": "2kcQaAVhx1gX"
      },
      "source": [
        "# Evidencetheory / Dempsters Rule"
      ]
    },
    {
      "cell_type": "code",
      "metadata": {
        "colab": {
          "base_uri": "https://localhost:8080/"
        },
        "id": "3URZn9Xgx1fM",
        "outputId": "0f369ebb-42d8-4b14-e24b-aa7de5d3c6fa"
      },
      "source": [
        "!pip install py_dempster_shafer"
      ],
      "execution_count": 106,
      "outputs": [
        {
          "output_type": "stream",
          "text": [
            "Requirement already satisfied: py_dempster_shafer in /usr/local/lib/python3.6/dist-packages (0.7)\n"
          ],
          "name": "stdout"
        }
      ]
    },
    {
      "cell_type": "code",
      "metadata": {
        "id": "WmQGZ7L-b7oe"
      },
      "source": [
        "# Imports\r\n",
        "import pandas as pd\r\n",
        "from pyds import MassFunction"
      ],
      "execution_count": 107,
      "outputs": []
    },
    {
      "cell_type": "markdown",
      "metadata": {
        "id": "_3dXW_yU2WTe"
      },
      "source": [
        "# Settings"
      ]
    },
    {
      "cell_type": "code",
      "metadata": {
        "id": "K6yyZih62XpF"
      },
      "source": [
        "#@title Define classification bounds\n",
        "# \n",
        "SPEED_LOWER_BOUND = 60 #@param {type:\"integer\"}\n",
        "SPEED_UPPER_BOUND = 90 #@param {type:\"integer\"}\n",
        "#@markdown ---\n",
        "REFLECT_LOWER_BOUND = 0.1 #@param {type:\"number\"}\n",
        "REFLECT_UPPER_BOUND = 0.6 #@param {type:\"number\"}\n",
        "#@markdown ---\n",
        "CAR_WIDTH_LOWER_BOUND = 1.6 #@param {type:\"number\"}\n",
        "CAR_WIDTH_UPPER_BOUND = 2.15 #@param {type:\"number\"}\n",
        "#@markdown ---\n",
        "TRUCK_WIDTH_LOWER_BOUND = 1.9 #@param {type:\"number\"}\n",
        "TRUCK_WIDTH_UPPER_BOUND = 2.5 #@param {type:\"number\"}\n",
        "#@markdown ---\n",
        "TWOWHEEL_WIDTH_LOWER_BOUND = 0.7 #@param {type:\"number\"}\n",
        "TWOWHEEL_WIDTH_UPPER_BOUND = 1.1 #@param {type:\"number\"}\n",
        "#@markdown ---\n",
        "DISTANCE_PERCENTAGE_THRESHOLD = 1.05 #@param {type:\"number\"}"
      ],
      "execution_count": 108,
      "outputs": []
    },
    {
      "cell_type": "markdown",
      "metadata": {
        "id": "sIQ_v8_Oz_YW"
      },
      "source": [
        "# Load data\r\n",
        "\r\n",
        "We received 6 datasets, containing different radar measurements. The data consists of the following features:\r\n",
        "\r\n",
        "* Takt (*Clock*) - A 100ms interval\r\n",
        "* Radar/Distanz (*Radar/Distance in meters*) - The distance to the object in front\r\n",
        "* Breite (*Width in meters*) - The width of the object in front\r\n",
        "* Reflektionsstärke (*Reflection strength*) - The measured reflection strength of the object in front\r\n",
        "* Geschwindigkeit (*Speed/Velocity*) - The measured velocity of the object in front"
      ]
    },
    {
      "cell_type": "code",
      "metadata": {
        "colab": {
          "base_uri": "https://localhost:8080/"
        },
        "id": "3hdE5v-HdYi2",
        "outputId": "0b0da490-4897-41b2-b4d7-0f292085aa08"
      },
      "source": [
        "dfs = []\r\n",
        "\r\n",
        "# Load data iteratively\r\n",
        "for i in range(1, 7):\r\n",
        "  # Store dataframes in list for later access\r\n",
        "  dfs.append(pd.read_csv('https://raw.githubusercontent.com/lucastanger/vehicle_classification/main/data/DE11_{}.csv'.format(i), sep=\";\"))\r\n",
        "\r\n",
        "# Print out the head of the dataframes\r\n",
        "for df in dfs: print(df.head(3))"
      ],
      "execution_count": 109,
      "outputs": [
        {
          "output_type": "stream",
          "text": [
            "   Takt Radar / Distanz (m) Breite (m) Reflektionsstaerke Geschwindigkeit\n",
            "0     1                61,2      0,735           0,050715          119,56\n",
            "1     2                60,8       0,63         0,03803625          119,92\n",
            "2     3                60,5       0,42           0,050715          120,64\n",
            "   Takt Radar / Distanz (m) Breite (m) Reflektionsstaerke Geschwindigkeit\n",
            "0     1                  75       2,52              0,432           81,36\n",
            "1     2                75,1        2,4             0,4032           81,36\n",
            "2     3                75,2       2,52               0,36              81\n",
            "   Takt Radar / Distanz (m) Breite (m) Reflektionsstaerke Geschwindigkeit\n",
            "0     1                  60        1,1              0,072            90,5\n",
            "1     2                  58        1,2              0,069            82,8\n",
            "2     3                  56       1,21              0,073            82,8\n",
            "   Takt Radar / Distanz (m) Breite (m) Reflektionsstaerke Geschwindigkeit\n",
            "0     1                  40       0,86               0,09          122,08\n",
            "1     2                40,3       0,92              0,087          121,72\n",
            "2     3                40,5       0,85              0,084           126,4\n",
            "   Takt Radar / Distanz (m) Breite (m) Reflektionsstaerke Geschwindigkeit\n",
            "0     1                  70        0,6              0,025            27,6\n",
            "1     2                  61       0,74               0,03            31,2\n",
            "2     3                  53       0,63              0,035            31,2\n",
            "   Takt Radar / Distanz (m) Breite (m) Reflektionsstaerke Geschwindigkeit\n",
            "0     1                  75          2               0,63            73,2\n",
            "1     2                74,5        2,1               0,67            73,2\n",
            "2     3                  74        2,2               0,69           72,48\n"
          ],
          "name": "stdout"
        }
      ]
    },
    {
      "cell_type": "code",
      "metadata": {
        "id": "1z7Z2KUwk18-"
      },
      "source": [
        "# Define omega\r\n",
        "# p = PKW\r\n",
        "# l = LKW\r\n",
        "# m = Motorrad\r\n",
        "# f = Fahrrad\r\n",
        "omega = 'plmf'"
      ],
      "execution_count": 110,
      "outputs": []
    },
    {
      "cell_type": "markdown",
      "metadata": {
        "id": "UL9ojn56zEB6"
      },
      "source": [
        "Vorliegende Daten:\r\n",
        "\r\n",
        "* **Geschwindigkeit** - Mittlere Geschwindigkeiten von 60-90\r\n",
        "km/h sprechen für PKW, LKW oder\r\n",
        "Motorrad. Höhere Geschwindigkeiten\r\n",
        "über 90 km/h sprechen für PKW oder\r\n",
        "Motorrad. \r\n",
        "\r\n",
        "* **Distanz** - Distanz zum vorausfahrenden Objekt - Sehr schnell schwankende Änderungen der Distanz (bei gleichbleibender\r\n",
        "Eigengeschwindigkeit, d.h. Beschleunigungen), weisen auf ein Motorrad\r\n",
        "hin, schnelle auf einen PKW oder\r\n",
        "Motorrad.\r\n",
        "\r\n",
        "* **Breite (m)** - Breiten zwischen 1,60 und 2,15\r\n",
        "weisen auf PKW hin, Breiten zwischen 1,90 und 2,50 auf einen LKW\r\n",
        "und Breiten zwischen 0,70 und 1,10\r\n",
        "auf ein Motorrad oder ein Fahrrad.\r\n",
        "\r\n",
        "* **Reflektionsstaerke** - LKW und PKW liefern eine große\r\n",
        "Reflektionsstärke. Motorräder und\r\n",
        "Fahrräder liefern deutlich geringere\r\n",
        "Reflektionsstärken.\r\n",
        "\r\n"
      ]
    },
    {
      "cell_type": "code",
      "metadata": {
        "id": "clvUVPbq0wXG"
      },
      "source": [
        "def speed(speed: float) -> str: \n",
        "  \"\"\"Classify a given speed. Limits are defined by lower and upper bounds\"\"\"\n",
        "  if speed <= SPEED_LOWER_BOUND:\n",
        "    return 'f'\n",
        "  elif SPEED_LOWER_BOUND < speed < SPEED_UPPER_BOUND:\n",
        "    return 'plm'\n",
        "  elif speed >= SPEED_UPPER_BOUND:\n",
        "    return 'pm'\n",
        "\n",
        "def reflective_strength(reflective_strength: float) -> str:\n",
        "  \"\"\"Classify a given reflective strength. Limits are defined by lower and upper bounds\"\"\"\n",
        "  if reflective_strength < REFLECT_LOWER_BOUND:\n",
        "    return 'fm'\n",
        "  elif REFLECT_LOWER_BOUND <= reflective_strength <= REFLECT_UPPER_BOUND:\n",
        "    return 'pl'\n",
        "  elif reflective_strength > REFLECT_UPPER_BOUND:\n",
        "    return 'l'\n",
        "\n",
        "def width(width: float) -> str:\n",
        "  \"\"\"Classify a given width. Limits are definied by lower and upper bounds\"\"\"\n",
        "  if CAR_WIDTH_LOWER_BOUND <= width <= CAR_WIDTH_UPPER_BOUND:\n",
        "    return 'p'\n",
        "  elif TRUCK_WIDTH_LOWER_BOUND <= width <= TRUCK_WIDTH_UPPER_BOUND:\n",
        "    return 'l'\n",
        "  elif TWOWHEEL_WIDTH_LOWER_BOUND <= width <= TWOWHEEL_WIDTH_UPPER_BOUND:\n",
        "    return 'fm'\n",
        "  else:\n",
        "    # Return nothing if measurement is meaningless\n",
        "    return ''\n",
        "\n",
        "def distance(distance: float, old_distance: float) -> str:\n",
        "  \"\"\"Classify a given distance by its predecessor\"\"\"\n",
        "  # Check if ahead driving object gained x% of distance within 100ms\n",
        "  if distance > old_distance*DISTANCE_PERCENTAGE_THRESHOLD:\n",
        "    return 'm'\n",
        "  else:\n",
        "    return ''\n"
      ],
      "execution_count": 111,
      "outputs": []
    },
    {
      "cell_type": "markdown",
      "metadata": {
        "id": "x_zAlmCEh_wV"
      },
      "source": [
        "Laut Aufgabenbeschreibung funktionieren die Sensoren im Nahbereich gut und werden auf Entfernung immer schlechter. \r\n",
        "\r\n",
        "**Assumption:** Evidence increases as a function of distance:\r\n",
        "\r\n",
        "evidence = 1 - distance/2 /100\r\n",
        "\r\n",
        "omega = 1 - evidence\r\n",
        "\r\n"
      ]
    },
    {
      "cell_type": "code",
      "metadata": {
        "id": "lLHFIQxRjF2q"
      },
      "source": [
        "def compute_evidence(distance: float) -> float:\r\n",
        "  \"\"\"Compute an evidence value dependent on a given distance\"\"\"\r\n",
        "  return 1-distance/2/100"
      ],
      "execution_count": 112,
      "outputs": []
    },
    {
      "cell_type": "code",
      "metadata": {
        "id": "Bw7hYTehRZwK"
      },
      "source": [
        "def createMassFunction(om: list, distance: float) -> MassFunction:\n",
        "  \"\"\" Wrapper function for creation of pyds MassFunction \"\"\"\n",
        "  # Remove empty elements\n",
        "  om = list(filter(None, om)) \n",
        "  # Remove duplicates\n",
        "  om = list(dict.fromkeys(om))\n",
        "  # Create param list\n",
        "  param = {}\n",
        "\n",
        "  # Iterate over all elements of omega\n",
        "  for elem in om:\n",
        "    # Create param entry with computed evidence score\n",
        "    param[elem] = compute_evidence(distance=distance)/len(om)\n",
        "\n",
        "  # Set omega as the counter probability of the evidence\n",
        "  param[omega] = 1 - compute_evidence(distance=distance)\n",
        "\n",
        "  return MassFunction(param)"
      ],
      "execution_count": 113,
      "outputs": []
    },
    {
      "cell_type": "code",
      "metadata": {
        "id": "8G2fRw57TAGJ"
      },
      "source": [
        "# TODO Dataset 0 FEHLER"
      ],
      "execution_count": 114,
      "outputs": []
    },
    {
      "cell_type": "code",
      "metadata": {
        "colab": {
          "base_uri": "https://localhost:8080/"
        },
        "id": "2VeaW1Gnz9D8",
        "outputId": "7261bbff-c6bc-4297-f64c-9a107ff03e42"
      },
      "source": [
        "#@title Select dataset\n",
        "# Storage of distance predecessor\n",
        "old_dist = 0\n",
        "# Storage of all mass functions\n",
        "mass_functions = []\n",
        "# Select the dataset\n",
        "dataset_number = 4 #@param [\"0\", \"1\", \"2\", \"3\", \"4\", \"5\"] {type:\"raw\"}\n",
        "\n",
        "for row in dfs[dataset_number].iloc:\n",
        "  # Omega, which is calculated using the measurement limits\n",
        "  omega_ = []\n",
        "  # Iterate over the features\n",
        "  for i in range(1,5):\n",
        "    # Reformat for float casting\n",
        "    s = row[i].replace(',', '.')\n",
        "    # Feature 1: Distance\n",
        "    if i == 1:\n",
        "      # If there is no predecessor\n",
        "      if old_dist == 0:\n",
        "        # Get object prediction for distance\n",
        "        omega_.append(distance(float(s), float(s)))\n",
        "        # Set current distance as predecessor\n",
        "        old_dist = float(s)\n",
        "      # If there is a predecessor\n",
        "      else:\n",
        "        # Get object prediction for distance\n",
        "        omega_.append(distance(float(s), old_dist))\n",
        "        # Set current distance as predecessor\n",
        "        old_dist = float(s)\n",
        "      # Feature 2: Width\n",
        "    elif i == 2:\n",
        "      # Get object prediction for width\n",
        "      omega_.append(width(float(s)))\n",
        "    # Feature 3: Reflective Strength\n",
        "    elif i == 3:\n",
        "      # Get object prediction for reflective strength\n",
        "      omega_.append(reflective_strength(float(s)))\n",
        "    # Feature 4: Speed/Velocity\n",
        "    elif i == 4:\n",
        "      # Get object prediction for speed\n",
        "      omega_.append(speed(float(s)))\n",
        "\n",
        "  # Print current iteration\n",
        "  print(f'Takt {row[0]}: {omega_}')\n",
        "  # Append the newly created massfunction to the list\n",
        "  mass_functions.append(createMassFunction(omega_, float(row[1].replace(',', '.'))))"
      ],
      "execution_count": 115,
      "outputs": [
        {
          "output_type": "stream",
          "text": [
            "Takt 1: ['', '', 'fm', 'f']\n",
            "Takt 2: ['', 'fm', 'fm', 'f']\n",
            "Takt 3: ['', '', 'fm', 'f']\n",
            "Takt 4: ['', 'fm', 'fm', 'f']\n",
            "Takt 5: ['', 'fm', 'fm', 'f']\n",
            "Takt 6: ['', '', 'fm', 'f']\n",
            "Takt 7: ['', 'fm', 'fm', 'f']\n",
            "Takt 8: ['', '', 'fm', 'f']\n",
            "Takt 9: ['', 'fm', 'fm', 'f']\n",
            "Takt 10: ['', 'fm', 'fm', 'f']\n",
            "Takt 11: ['', '', 'fm', 'f']\n",
            "Takt 12: ['', '', 'fm', 'f']\n",
            "Takt 13: ['', 'fm', 'fm', 'f']\n",
            "Takt 14: ['', 'fm', 'fm', 'f']\n",
            "Takt 15: ['', 'fm', 'fm', 'f']\n",
            "Takt 16: ['', 'fm', 'fm', 'f']\n",
            "Takt 17: ['', 'fm', 'fm', 'f']\n",
            "Takt 18: ['', 'fm', 'fm', 'f']\n"
          ],
          "name": "stdout"
        }
      ]
    },
    {
      "cell_type": "code",
      "metadata": {
        "colab": {
          "base_uri": "https://localhost:8080/"
        },
        "id": "179nTJMRmzVm",
        "outputId": "36a71a58-a585-4bc2-fad4-71c0ae51179c"
      },
      "source": [
        "# Show all massfunctions (without dempster rule applied to them)\r\n",
        "for i, fun in enumerate(mass_functions):\r\n",
        "  print(f'MassFuntion at {i*100}ms: {fun}')"
      ],
      "execution_count": 116,
      "outputs": [
        {
          "output_type": "stream",
          "text": [
            "MassFuntion at 0ms: {{'l', 'm', 'f', 'p'}:0.35; {'m', 'f'}:0.325; {'f'}:0.325}\n",
            "MassFuntion at 100ms: {{'m', 'f'}:0.34750000000000003; {'f'}:0.34750000000000003; {'l', 'm', 'f', 'p'}:0.30499999999999994}\n",
            "MassFuntion at 200ms: {{'m', 'f'}:0.3675; {'f'}:0.3675; {'l', 'm', 'f', 'p'}:0.265}\n",
            "MassFuntion at 300ms: {{'m', 'f'}:0.3875; {'f'}:0.3875; {'l', 'm', 'f', 'p'}:0.22499999999999998}\n",
            "MassFuntion at 400ms: {{'m', 'f'}:0.405; {'f'}:0.405; {'l', 'm', 'f', 'p'}:0.18999999999999995}\n",
            "MassFuntion at 500ms: {{'m', 'f'}:0.42; {'f'}:0.42; {'l', 'm', 'f', 'p'}:0.16000000000000003}\n",
            "MassFuntion at 600ms: {{'m', 'f'}:0.43374999999999997; {'f'}:0.43374999999999997; {'l', 'm', 'f', 'p'}:0.13250000000000006}\n",
            "MassFuntion at 700ms: {{'m', 'f'}:0.445; {'f'}:0.445; {'l', 'm', 'f', 'p'}:0.10999999999999999}\n",
            "MassFuntion at 800ms: {{'m', 'f'}:0.455; {'f'}:0.455; {'l', 'm', 'f', 'p'}:0.08999999999999997}\n",
            "MassFuntion at 900ms: {{'m', 'f'}:0.46125; {'f'}:0.46125; {'l', 'm', 'f', 'p'}:0.07750000000000001}\n",
            "MassFuntion at 1000ms: {{'m', 'f'}:0.46499999999999997; {'f'}:0.46499999999999997; {'l', 'm', 'f', 'p'}:0.07000000000000006}\n",
            "MassFuntion at 1100ms: {{'m', 'f'}:0.4675; {'f'}:0.4675; {'l', 'm', 'f', 'p'}:0.06499999999999995}\n",
            "MassFuntion at 1200ms: {{'m', 'f'}:0.47; {'f'}:0.47; {'l', 'm', 'f', 'p'}:0.06000000000000005}\n",
            "MassFuntion at 1300ms: {{'m', 'f'}:0.4725; {'f'}:0.4725; {'l', 'm', 'f', 'p'}:0.05500000000000005}\n",
            "MassFuntion at 1400ms: {{'m', 'f'}:0.47375; {'f'}:0.47375; {'l', 'm', 'f', 'p'}:0.05249999999999999}\n",
            "MassFuntion at 1500ms: {{'m', 'f'}:0.475; {'f'}:0.475; {'l', 'm', 'f', 'p'}:0.050000000000000044}\n",
            "MassFuntion at 1600ms: {{'m', 'f'}:0.47375; {'f'}:0.47375; {'l', 'm', 'f', 'p'}:0.05249999999999999}\n",
            "MassFuntion at 1700ms: {{'m', 'f'}:0.4725; {'f'}:0.4725; {'l', 'm', 'f', 'p'}:0.05500000000000005}\n"
          ],
          "name": "stdout"
        }
      ]
    },
    {
      "cell_type": "markdown",
      "metadata": {
        "id": "i2C-ayh9DEnp"
      },
      "source": [
        "# Dempster Rule"
      ]
    },
    {
      "cell_type": "code",
      "metadata": {
        "colab": {
          "base_uri": "https://localhost:8080/"
        },
        "id": "tAwAD72ZW-p7",
        "outputId": "ab6591b0-7df2-4670-e8a2-b33bc5c47d7d"
      },
      "source": [
        "dempster_list = []\r\n",
        "\r\n",
        "# Empty object for storage of massfunction predecessor\r\n",
        "c = None\r\n",
        "# Iterate over all functions\r\n",
        "for i, func in enumerate(mass_functions):\r\n",
        "  # If there is no predecessor \r\n",
        "  if i == 0:\r\n",
        "    # Set current function as predecessor\r\n",
        "    c = func\r\n",
        "  else:\r\n",
        "    # Apply dempster rule on predecessor\r\n",
        "    print(c)\r\n",
        "    print(mass_functions[i], \"\\n\")\r\n",
        "    c = c.combine_conjunctive(mass_function=mass_functions[i])\r\n",
        "\r\n",
        "  # Iteratively print massfunctions\r\n",
        "  #print(f'{c}')\r\n",
        "  dempster_list.append(c)\r\n",
        "\r\n",
        "# Show final massfunction\r\n",
        "print(f'Final Massfunction: {c}')"
      ],
      "execution_count": 117,
      "outputs": [
        {
          "output_type": "stream",
          "text": [
            "{{'l', 'm', 'f', 'p'}:0.35; {'m', 'f'}:0.325; {'f'}:0.325}\n",
            "{{'m', 'f'}:0.34750000000000003; {'f'}:0.34750000000000003; {'l', 'm', 'f', 'p'}:0.30499999999999994} \n",
            "\n",
            "{{'f'}:0.5595625000000001; {'m', 'f'}:0.3336875; {'l', 'm', 'f', 'p'}:0.10674999999999998}\n",
            "{{'m', 'f'}:0.3675; {'f'}:0.3675; {'l', 'm', 'f', 'p'}:0.265} \n",
            "\n",
            "{{'f'}:0.72142328125; {'m', 'f'}:0.25028796875; {'l', 'm', 'f', 'p'}:0.02828874999999999}\n",
            "{{'m', 'f'}:0.3875; {'f'}:0.3875; {'l', 'm', 'f', 'p'}:0.22499999999999998} \n",
            "\n",
            "{{'f'}:0.829371759765625; {'m', 'f'}:0.164263271484375; {'l', 'm', 'f', 'p'}:0.006364968749999998}\n",
            "{{'m', 'f'}:0.405; {'f'}:0.405; {'l', 'm', 'f', 'p'}:0.18999999999999995} \n",
            "\n",
            "{{'f'}:0.8984761970605469; {'m', 'f'}:0.10031445887695313; {'l', 'm', 'f', 'p'}:0.0012093440624999993}\n",
            "{{'m', 'f'}:0.42; {'f'}:0.42; {'l', 'm', 'f', 'p'}:0.16000000000000003} \n",
            "\n",
            "{{'f'}:0.9411161942951173; {'m', 'f'}:0.05869031065488282; {'l', 'm', 'f', 'p'}:0.00019349504999999993}\n",
            "{{'m', 'f'}:0.43374999999999997; {'f'}:0.43374999999999997; {'l', 'm', 'f', 'p'}:0.13250000000000006} \n",
            "\n",
            "{{'f'}:0.96665704501961; {'m', 'f'}:0.033317316886264894; {'l', 'm', 'f', 'p'}:2.5638094124999994e-05}\n",
            "{{'m', 'f'}:0.445; {'f'}:0.445; {'l', 'm', 'f', 'p'}:0.10999999999999999} \n",
            "\n",
            "{{'f'}:0.9814946599858836; {'m', 'f'}:0.01850251982376264; {'l', 'm', 'f', 'p'}:2.820190353749999e-06}\n",
            "{{'m', 'f'}:0.455; {'f'}:0.455; {'l', 'm', 'f', 'p'}:0.08999999999999997} \n",
            "\n",
            "{{'f'}:0.9899145896923066; {'m', 'f'}:0.010085156490561596; {'l', 'm', 'f', 'p'}:2.538171318374999e-07}\n",
            "{{'m', 'f'}:0.46125; {'f'}:0.46125; {'l', 'm', 'f', 'p'}:0.07750000000000001} \n",
            "\n",
            "{{'f'}:0.9945664851967302; {'m', 'f'}:0.00543349513244212; {'l', 'm', 'f', 'p'}:1.9670827717406247e-08}\n",
            "{{'m', 'f'}:0.46499999999999997; {'f'}:0.46499999999999997; {'l', 'm', 'f', 'p'}:0.07000000000000006} \n",
            "\n",
            "{{'f'}:0.9970930695802506; {'m', 'f'}:0.0029069290427914223; {'l', 'm', 'f', 'p'}:1.3769579402184382e-09}\n",
            "{{'m', 'f'}:0.4675; {'f'}:0.4675; {'l', 'm', 'f', 'p'}:0.06499999999999995} \n",
            "\n",
            "{{'f'}:0.9984520595514834; {'m', 'f'}:0.0015479403590142695; {'l', 'm', 'f', 'p'}:8.950226611419841e-11}\n",
            "{{'m', 'f'}:0.47; {'f'}:0.47; {'l', 'm', 'f', 'p'}:0.06000000000000005} \n",
            "\n",
            "{{'f'}:0.9991795915622862; {'m', 'f'}:0.0008204084323436279; {'l', 'm', 'f', 'p'}:5.37013596685191e-12}\n",
            "{{'m', 'f'}:0.4725; {'f'}:0.4725; {'l', 'm', 'f', 'p'}:0.05500000000000005} \n",
            "\n",
            "{{'f'}:0.999567234549106; {'m', 'f'}:0.000432765450598653; {'l', 'm', 'f', 'p'}:2.953574781768553e-13}\n",
            "{{'m', 'f'}:0.47375; {'f'}:0.47375; {'l', 'm', 'f', 'p'}:0.05249999999999999} \n",
            "\n",
            "{{'f'}:0.999772257181467; {'m', 'f'}:0.00022774281851746674; {'l', 'm', 'f', 'p'}:1.55062676042849e-14}\n",
            "{{'m', 'f'}:0.475; {'f'}:0.475; {'l', 'm', 'f', 'p'}:0.050000000000000044} \n",
            "\n",
            "{{'f'}:0.9998804350202702; {'m', 'f'}:0.00011956497972903554; {'l', 'm', 'f', 'p'}:7.753133802142459e-16}\n",
            "{{'m', 'f'}:0.47375; {'f'}:0.47375; {'l', 'm', 'f', 'p'}:0.05249999999999999} \n",
            "\n",
            "{{'f'}:0.9999370789294172; {'m', 'f'}:6.292107058277226e-05; {'l', 'm', 'f', 'p'}:4.07039524612479e-17}\n",
            "{{'m', 'f'}:0.4725; {'f'}:0.4725; {'l', 'm', 'f', 'p'}:0.05500000000000005} \n",
            "\n",
            "Final Massfunction: {{'f'}:0.9999668091352676; {'m', 'f'}:3.3190864732431594e-05; {'l', 'm', 'f', 'p'}:2.2387173853686364e-18}\n"
          ],
          "name": "stdout"
        }
      ]
    },
    {
      "cell_type": "code",
      "metadata": {
        "colab": {
          "base_uri": "https://localhost:8080/"
        },
        "id": "hYHElaH_nPCq",
        "outputId": "1120e8f8-f457-4527-a986-105a92fc9fa1"
      },
      "source": [
        "dempster_list[-1]"
      ],
      "execution_count": 118,
      "outputs": [
        {
          "output_type": "execute_result",
          "data": {
            "text/plain": [
              "{frozenset({'f'}): 0.9999668091352676,\n",
              " frozenset({'f', 'm'}): 3.3190864732431594e-05,\n",
              " frozenset({'f', 'l', 'm', 'p'}): 2.2387173853686364e-18}"
            ]
          },
          "metadata": {
            "tags": []
          },
          "execution_count": 118
        }
      ]
    },
    {
      "cell_type": "code",
      "metadata": {
        "id": "SpB9azx2Zu1f"
      },
      "source": [
        "def compute_plausibility(mass_function: MassFunction) -> None:\r\n",
        "  for elem in omega:\r\n",
        "    # Print out every possible plausibility in omega\r\n",
        "    print(f'Plausibility of {elem}: {mass_function.pl({elem})}')\r\n",
        "\r\n",
        "def compute_belief(mass_function: MassFunction) -> None:\r\n",
        "  for elem in omega:\r\n",
        "    # Print out every possible believe in omega\r\n",
        "    print(f'B({elem}): {mass_function.bel({elem})}')\r\n",
        "\r\n",
        "  # Some additional believes\r\n",
        "  print(f'B(four wheels) = B(p,l) = {c.bel(\"pl\")}')\r\n",
        "  print(f'B(two wheels) = B(f,m) = {c.bel(\"fm\")}')\r\n",
        "\r\n",
        "def compute_doubt(mass_function: MassFunction, lbl: str) -> None: \r\n",
        "  # Print doubt of massfunction with given label\r\n",
        "  print(f'Doubt on classification of {lbl}: {mass_function.bel(omega.replace(lbl, \"\"))}')"
      ],
      "execution_count": 119,
      "outputs": []
    },
    {
      "cell_type": "code",
      "metadata": {
        "colab": {
          "base_uri": "https://localhost:8080/"
        },
        "id": "QS05oezZao6K",
        "outputId": "496f26df-e96d-4a0e-a34b-1514fae01945"
      },
      "source": [
        "compute_plausibility(c)"
      ],
      "execution_count": 120,
      "outputs": [
        {
          "output_type": "stream",
          "text": [
            "Plausibility of p: 2.2387173853686364e-18\n",
            "Plausibility of l: 2.2387173853686364e-18\n",
            "Plausibility of m: 3.319086473243383e-05\n",
            "Plausibility of f: 1.0\n"
          ],
          "name": "stdout"
        }
      ]
    },
    {
      "cell_type": "code",
      "metadata": {
        "colab": {
          "base_uri": "https://localhost:8080/"
        },
        "id": "kLQxQZcXdoqP",
        "outputId": "c4624757-1b52-4ec0-dca5-7c577567700a"
      },
      "source": [
        "compute_belief(c)"
      ],
      "execution_count": 121,
      "outputs": [
        {
          "output_type": "stream",
          "text": [
            "B(p): 0.0\n",
            "B(l): 0.0\n",
            "B(m): 0.0\n",
            "B(f): 0.9999668091352676\n",
            "B(four wheels) = B(p,l) = 0.0\n",
            "B(two wheels) = B(f,m) = 1.0\n"
          ],
          "name": "stdout"
        }
      ]
    },
    {
      "cell_type": "code",
      "metadata": {
        "colab": {
          "base_uri": "https://localhost:8080/"
        },
        "id": "QLpUecXDeurV",
        "outputId": "79440e26-d353-458c-a7c8-d83f726a79d4"
      },
      "source": [
        "#@title Compute Doubt for given label\n",
        "doubt = \"m\" #@param [\"p\", \"l\", \"m\", \"f\"]\n",
        "\n",
        "compute_doubt(c, doubt)"
      ],
      "execution_count": 122,
      "outputs": [
        {
          "output_type": "stream",
          "text": [
            "Doubt on classification of m: 0.9999668091352676\n"
          ],
          "name": "stdout"
        }
      ]
    },
    {
      "cell_type": "markdown",
      "metadata": {
        "id": "pT5ShEcQFTFv"
      },
      "source": [
        "# Evaluation"
      ]
    },
    {
      "cell_type": "code",
      "metadata": {
        "id": "pbUl1MlcFUwU"
      },
      "source": [
        "import matplotlib.pyplot as plt\r\n",
        "\r\n",
        "import seaborn as sns"
      ],
      "execution_count": 123,
      "outputs": []
    },
    {
      "cell_type": "code",
      "metadata": {
        "id": "JQSvNY9RfYZB",
        "colab": {
          "base_uri": "https://localhost:8080/"
        },
        "outputId": "c9ae6962-92fc-409a-8e18-5e60ca90f039"
      },
      "source": [
        "mass_functions"
      ],
      "execution_count": 124,
      "outputs": [
        {
          "output_type": "execute_result",
          "data": {
            "text/plain": [
              "[{frozenset({'f'}): 0.325,\n",
              "  frozenset({'f', 'm'}): 0.325,\n",
              "  frozenset({'f', 'l', 'm', 'p'}): 0.35},\n",
              " {frozenset({'f'}): 0.34750000000000003,\n",
              "  frozenset({'f', 'm'}): 0.34750000000000003,\n",
              "  frozenset({'f', 'l', 'm', 'p'}): 0.30499999999999994},\n",
              " {frozenset({'f'}): 0.3675,\n",
              "  frozenset({'f', 'm'}): 0.3675,\n",
              "  frozenset({'f', 'l', 'm', 'p'}): 0.265},\n",
              " {frozenset({'f'}): 0.3875,\n",
              "  frozenset({'f', 'm'}): 0.3875,\n",
              "  frozenset({'f', 'l', 'm', 'p'}): 0.22499999999999998},\n",
              " {frozenset({'f'}): 0.405,\n",
              "  frozenset({'f', 'm'}): 0.405,\n",
              "  frozenset({'f', 'l', 'm', 'p'}): 0.18999999999999995},\n",
              " {frozenset({'f'}): 0.42,\n",
              "  frozenset({'f', 'm'}): 0.42,\n",
              "  frozenset({'f', 'l', 'm', 'p'}): 0.16000000000000003},\n",
              " {frozenset({'f'}): 0.43374999999999997,\n",
              "  frozenset({'f', 'm'}): 0.43374999999999997,\n",
              "  frozenset({'f', 'l', 'm', 'p'}): 0.13250000000000006},\n",
              " {frozenset({'f'}): 0.445,\n",
              "  frozenset({'f', 'm'}): 0.445,\n",
              "  frozenset({'f', 'l', 'm', 'p'}): 0.10999999999999999},\n",
              " {frozenset({'f'}): 0.455,\n",
              "  frozenset({'f', 'm'}): 0.455,\n",
              "  frozenset({'f', 'l', 'm', 'p'}): 0.08999999999999997},\n",
              " {frozenset({'f'}): 0.46125,\n",
              "  frozenset({'f', 'm'}): 0.46125,\n",
              "  frozenset({'f', 'l', 'm', 'p'}): 0.07750000000000001},\n",
              " {frozenset({'f'}): 0.46499999999999997,\n",
              "  frozenset({'f', 'm'}): 0.46499999999999997,\n",
              "  frozenset({'f', 'l', 'm', 'p'}): 0.07000000000000006},\n",
              " {frozenset({'f'}): 0.4675,\n",
              "  frozenset({'f', 'm'}): 0.4675,\n",
              "  frozenset({'f', 'l', 'm', 'p'}): 0.06499999999999995},\n",
              " {frozenset({'f'}): 0.47,\n",
              "  frozenset({'f', 'm'}): 0.47,\n",
              "  frozenset({'f', 'l', 'm', 'p'}): 0.06000000000000005},\n",
              " {frozenset({'f'}): 0.4725,\n",
              "  frozenset({'f', 'm'}): 0.4725,\n",
              "  frozenset({'f', 'l', 'm', 'p'}): 0.05500000000000005},\n",
              " {frozenset({'f'}): 0.47375,\n",
              "  frozenset({'f', 'm'}): 0.47375,\n",
              "  frozenset({'f', 'l', 'm', 'p'}): 0.05249999999999999},\n",
              " {frozenset({'f'}): 0.475,\n",
              "  frozenset({'f', 'm'}): 0.475,\n",
              "  frozenset({'f', 'l', 'm', 'p'}): 0.050000000000000044},\n",
              " {frozenset({'f'}): 0.47375,\n",
              "  frozenset({'f', 'm'}): 0.47375,\n",
              "  frozenset({'f', 'l', 'm', 'p'}): 0.05249999999999999},\n",
              " {frozenset({'f'}): 0.4725,\n",
              "  frozenset({'f', 'm'}): 0.4725,\n",
              "  frozenset({'f', 'l', 'm', 'p'}): 0.05500000000000005}]"
            ]
          },
          "metadata": {
            "tags": []
          },
          "execution_count": 124
        }
      ]
    },
    {
      "cell_type": "code",
      "metadata": {
        "id": "xmJK4DbaNeSV"
      },
      "source": [
        "def append_value(dict_obj, key, value):\r\n",
        "    # Check if key exist in dict or not\r\n",
        "    if key in dict_obj:\r\n",
        "        # Key exist in dict.\r\n",
        "        # Check if type of value of key is list or not\r\n",
        "        if not isinstance(dict_obj[key], list):\r\n",
        "            # If type is not list then make it list\r\n",
        "            dict_obj[key] = [dict_obj[key]]\r\n",
        "        # Append the value in list\r\n",
        "        dict_obj[key].append(value)\r\n",
        "    else:\r\n",
        "        # As key is not in dict,\r\n",
        "        # so, add key-value pair\r\n",
        "        dict_obj[key] = [value]"
      ],
      "execution_count": 125,
      "outputs": []
    },
    {
      "cell_type": "code",
      "metadata": {
        "id": "IWQqw4-UJzlK",
        "colab": {
          "base_uri": "https://localhost:8080/",
          "height": 265
        },
        "outputId": "520ba2e3-3e92-4560-fa65-9b621efc2622"
      },
      "source": [
        "dic = {}\r\n",
        "\r\n",
        "for mf in dempster_list:\r\n",
        "  for i in mf:\r\n",
        "    val = mf[i]\r\n",
        "    key = ''.join(list(i))\r\n",
        "    # dic[key] = [val]\r\n",
        "    append_value(dic, key, val)\r\n",
        "\r\n",
        "d = pd.DataFrame(dic)\r\n",
        "\r\n",
        "# dic\r\n",
        "\r\n",
        "d\r\n",
        "\r\n",
        "ax = plt.plot(d)"
      ],
      "execution_count": 126,
      "outputs": [
        {
          "output_type": "display_data",
          "data": {
            "image/png": "[encoded data removed]",
            "text/plain": [
              "<Figure size 432x288 with 1 Axes>"
            ]
          },
          "metadata": {
            "tags": [],
            "needs_background": "light"
          }
        }
      ]
    }
  ]
}