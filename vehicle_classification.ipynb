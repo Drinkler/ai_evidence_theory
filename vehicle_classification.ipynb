{
  "nbformat": 4,
  "nbformat_minor": 0,
  "metadata": {
    "colab": {
      "name": "Kopie von vehicle_classification.ipynb",
      "provenance": [],
      "collapsed_sections": [],
      "include_colab_link": true
    },
    "kernelspec": {
      "name": "python3",
      "display_name": "Python 3"
    }
  },
  "cells": [
    {
      "cell_type": "markdown",
      "metadata": {
        "id": "view-in-github",
        "colab_type": "text"
      },
      "source": [
        "<a href=\"https://colab.research.google.com/github/lucastanger/vehicle_classification/blob/main/vehicle_classification.ipynb\" target=\"_parent\"><img src=\"https://colab.research.google.com/assets/colab-badge.svg\" alt=\"Open In Colab\"/></a>"
      ]
    },
    {
      "cell_type": "markdown",
      "metadata": {
        "id": "2kcQaAVhx1gX"
      },
      "source": [
        "# Evidencetheory / Dempsters Rule"
      ]
    },
    {
      "cell_type": "code",
      "metadata": {
        "colab": {
          "base_uri": "https://localhost:8080/"
        },
        "id": "3URZn9Xgx1fM",
        "outputId": "fed54d8e-2bdb-4112-ffc7-374c9cbede66"
      },
      "source": [
        "!pip install py_dempster_shafer"
      ],
      "execution_count": 154,
      "outputs": [
        {
          "output_type": "stream",
          "text": [
            "Requirement already satisfied: py_dempster_shafer in /usr/local/lib/python3.6/dist-packages (0.7)\n"
          ],
          "name": "stdout"
        }
      ]
    },
    {
      "cell_type": "code",
      "metadata": {
        "id": "WmQGZ7L-b7oe"
      },
      "source": [
        "# Imports\r\n",
        "import pandas as pd\r\n",
        "from pyds import MassFunction"
      ],
      "execution_count": 155,
      "outputs": []
    },
    {
      "cell_type": "markdown",
      "metadata": {
        "id": "_3dXW_yU2WTe"
      },
      "source": [
        "# Settings"
      ]
    },
    {
      "cell_type": "code",
      "metadata": {
        "id": "K6yyZih62XpF"
      },
      "source": [
        "#@title Define classification bounds\n",
        "# \n",
        "SPEED_LOWER_BOUND = 60 #@param {type:\"integer\"}\n",
        "SPEED_UPPER_BOUND = 90 #@param {type:\"integer\"}\n",
        "#@markdown ---\n",
        "REFLECT_LOWER_BOUND = 0.1 #@param {type:\"number\"}\n",
        "REFLECT_UPPER_BOUND = 0.6 #@param {type:\"number\"}\n",
        "#@markdown ---\n",
        "CAR_WIDTH_LOWER_BOUND = 1.6 #@param {type:\"number\"}\n",
        "CAR_WIDTH_UPPER_BOUND = 2.15 #@param {type:\"number\"}\n",
        "#@markdown ---\n",
        "TRUCK_WIDTH_LOWER_BOUND = 1.9 #@param {type:\"number\"}\n",
        "TRUCK_WIDTH_UPPER_BOUND = 2.5 #@param {type:\"number\"}\n",
        "#@markdown ---\n",
        "TWOWHEEL_WIDTH_LOWER_BOUND = 0.7 #@param {type:\"number\"}\n",
        "TWOWHEEL_WIDTH_UPPER_BOUND = 1.1 #@param {type:\"number\"}\n",
        "#@markdown ---\n",
        "DISTANCE_PERCENTAGE_THRESHOLD = 1.05 #@param {type:\"number\"}"
      ],
      "execution_count": 156,
      "outputs": []
    },
    {
      "cell_type": "markdown",
      "metadata": {
        "id": "sIQ_v8_Oz_YW"
      },
      "source": [
        "# Load data\r\n",
        "\r\n",
        "We received 6 datasets, containing different radar measurements. The data consists of the following features:\r\n",
        "\r\n",
        "* Takt (*Clock*) - A 100ms interval\r\n",
        "* Radar/Distanz (*Radar/Distance in meters*) - The distance to the object in front\r\n",
        "* Breite (*Width in meters*) - The width of the object in front\r\n",
        "* Reflektionsstärke (*Reflection strength*) - The measured reflection strength of the object in front\r\n",
        "* Geschwindigkeit (*Speed/Velocity*) - The measured velocity of the object in front"
      ]
    },
    {
      "cell_type": "code",
      "metadata": {
        "colab": {
          "base_uri": "https://localhost:8080/"
        },
        "id": "3hdE5v-HdYi2",
        "outputId": "60b58ee8-38d3-4775-f37d-afe4e194700e"
      },
      "source": [
        "dfs = []\r\n",
        "\r\n",
        "# Load data iteratively\r\n",
        "for i in range(1, 7):\r\n",
        "  # Store dataframes in list for later access\r\n",
        "  dfs.append(pd.read_csv('https://raw.githubusercontent.com/lucastanger/vehicle_classification/main/data/DE11_{}.csv'.format(i), sep=\";\"))\r\n",
        "\r\n",
        "# Print out the head of the dataframes\r\n",
        "for df in dfs: print(df.head(3))"
      ],
      "execution_count": 157,
      "outputs": [
        {
          "output_type": "stream",
          "text": [
            "   Takt Radar / Distanz (m) Breite (m) Reflektionsstaerke Geschwindigkeit\n",
            "0     1                61,2      0,735           0,050715          119,56\n",
            "1     2                60,8       0,63         0,03803625          119,92\n",
            "2     3                60,5       0,42           0,050715          120,64\n",
            "   Takt Radar / Distanz (m) Breite (m) Reflektionsstaerke Geschwindigkeit\n",
            "0     1                  75       2,52              0,432           81,36\n",
            "1     2                75,1        2,4             0,4032           81,36\n",
            "2     3                75,2       2,52               0,36              81\n",
            "   Takt Radar / Distanz (m) Breite (m) Reflektionsstaerke Geschwindigkeit\n",
            "0     1                  60        1,1              0,072            90,5\n",
            "1     2                  58        1,2              0,069            82,8\n",
            "2     3                  56       1,21              0,073            82,8\n",
            "   Takt Radar / Distanz (m) Breite (m) Reflektionsstaerke Geschwindigkeit\n",
            "0     1                  40       0,86               0,09          122,08\n",
            "1     2                40,3       0,92              0,087          121,72\n",
            "2     3                40,5       0,85              0,084           126,4\n",
            "   Takt Radar / Distanz (m) Breite (m) Reflektionsstaerke Geschwindigkeit\n",
            "0     1                  70        0,6              0,025            27,6\n",
            "1     2                  61       0,74               0,03            31,2\n",
            "2     3                  53       0,63              0,035            31,2\n",
            "   Takt Radar / Distanz (m) Breite (m) Reflektionsstaerke Geschwindigkeit\n",
            "0     1                  75          2               0,63            73,2\n",
            "1     2                74,5        2,1               0,67            73,2\n",
            "2     3                  74        2,2               0,69           72,48\n"
          ],
          "name": "stdout"
        }
      ]
    },
    {
      "cell_type": "code",
      "metadata": {
        "id": "1z7Z2KUwk18-"
      },
      "source": [
        "# Define omega\r\n",
        "# p = PKW\r\n",
        "# l = LKW\r\n",
        "# m = Motorrad\r\n",
        "# f = Fahrrad\r\n",
        "omega = 'plmf'"
      ],
      "execution_count": 158,
      "outputs": []
    },
    {
      "cell_type": "markdown",
      "metadata": {
        "id": "UL9ojn56zEB6"
      },
      "source": [
        "Vorliegende Daten:\r\n",
        "\r\n",
        "* **Geschwindigkeit** - Mittlere Geschwindigkeiten von 60-90\r\n",
        "km/h sprechen für PKW, LKW oder\r\n",
        "Motorrad. Höhere Geschwindigkeiten\r\n",
        "über 90 km/h sprechen für PKW oder\r\n",
        "Motorrad. \r\n",
        "\r\n",
        "* **Distanz** - Distanz zum vorausfahrenden Objekt - Sehr schnell schwankende Änderungen der Distanz (bei gleichbleibender\r\n",
        "Eigengeschwindigkeit, d.h. Beschleunigungen), weisen auf ein Motorrad\r\n",
        "hin, schnelle auf einen PKW oder\r\n",
        "Motorrad.\r\n",
        "\r\n",
        "* **Breite (m)** - Breiten zwischen 1,60 und 2,15\r\n",
        "weisen auf PKW hin, Breiten zwischen 1,90 und 2,50 auf einen LKW\r\n",
        "und Breiten zwischen 0,70 und 1,10\r\n",
        "auf ein Motorrad oder ein Fahrrad.\r\n",
        "\r\n",
        "* **Reflektionsstaerke** - LKW und PKW liefern eine große\r\n",
        "Reflektionsstärke. Motorräder und\r\n",
        "Fahrräder liefern deutlich geringere\r\n",
        "Reflektionsstärken.\r\n",
        "\r\n"
      ]
    },
    {
      "cell_type": "code",
      "metadata": {
        "id": "clvUVPbq0wXG"
      },
      "source": [
        "def speed(speed: float) -> str: \n",
        "  \"\"\"Classify a given speed. Limits are defined by lower and upper bounds\"\"\"\n",
        "  if speed <= SPEED_LOWER_BOUND:\n",
        "    return 'f'\n",
        "  elif SPEED_LOWER_BOUND < speed < SPEED_UPPER_BOUND:\n",
        "    return 'plm'\n",
        "  elif speed >= SPEED_UPPER_BOUND:\n",
        "    return 'pm'\n",
        "\n",
        "def reflective_strength(reflective_strength: float) -> str:\n",
        "  \"\"\"Classify a given reflective strength. Limits are defined by lower and upper bounds\"\"\"\n",
        "  if reflective_strength < REFLECT_LOWER_BOUND:\n",
        "    return 'fm'\n",
        "  elif REFLECT_LOWER_BOUND <= reflective_strength <= REFLECT_UPPER_BOUND:\n",
        "    return 'pl'\n",
        "  elif reflective_strength > REFLECT_UPPER_BOUND:\n",
        "    return 'l'\n",
        "\n",
        "def width(width: float) -> str:\n",
        "  \"\"\"Classify a given width. Limits are definied by lower and upper bounds\"\"\"\n",
        "  if CAR_WIDTH_LOWER_BOUND <= width <= CAR_WIDTH_UPPER_BOUND:\n",
        "    return 'p'\n",
        "  elif TRUCK_WIDTH_LOWER_BOUND <= width <= TRUCK_WIDTH_UPPER_BOUND:\n",
        "    return 'l'\n",
        "  elif TWOWHEEL_WIDTH_LOWER_BOUND <= width <= TWOWHEEL_WIDTH_UPPER_BOUND:\n",
        "    return 'fm'\n",
        "  else:\n",
        "    # Return nothing if measurement is meaningless\n",
        "    return ''\n",
        "\n",
        "def distance(distance: float, old_distance: float) -> str:\n",
        "  \"\"\"Classify a given distance by its predecessor\"\"\"\n",
        "  # Check if ahead driving object gained x% of distance within 100ms\n",
        "  if distance > old_distance*DISTANCE_PERCENTAGE_THRESHOLD:\n",
        "    return 'm'\n",
        "  else:\n",
        "    return ''\n"
      ],
      "execution_count": 159,
      "outputs": []
    },
    {
      "cell_type": "markdown",
      "metadata": {
        "id": "x_zAlmCEh_wV"
      },
      "source": [
        "Laut Aufgabenbeschreibung funktionieren die Sensoren im Nahbereich gut und werden auf Entfernung immer schlechter. \r\n",
        "\r\n",
        "**Assumption:** Evidence increases as a function of distance:\r\n",
        "\r\n",
        "evidence = 1 - distance/2 /100\r\n",
        "\r\n",
        "omega = 1 - evidence\r\n",
        "\r\n"
      ]
    },
    {
      "cell_type": "code",
      "metadata": {
        "id": "lLHFIQxRjF2q"
      },
      "source": [
        "def compute_evidence(distance: float) -> float:\r\n",
        "  \"\"\"Compute an evidence value dependent on a given distance\"\"\"\r\n",
        "  return 1-distance/2/100"
      ],
      "execution_count": 160,
      "outputs": []
    },
    {
      "cell_type": "code",
      "metadata": {
        "id": "Bw7hYTehRZwK"
      },
      "source": [
        "def createMassFunction(om: list, distance: float) -> MassFunction:\n",
        "  \"\"\" Wrapper function for creation of pyds MassFunction \"\"\"\n",
        "  # Remove empty elements\n",
        "  om = list(filter(None, om)) \n",
        "  # Remove duplicates\n",
        "  om = list(dict.fromkeys(om))\n",
        "  # Create param list\n",
        "  param = {}\n",
        "\n",
        "  # Iterate over all elements of omega\n",
        "  for elem in om:\n",
        "    # Create param entry with computed evidence score\n",
        "    param[elem] = compute_evidence(distance=distance)/len(om)\n",
        "\n",
        "  # Set omega as the counter probability of the evidence\n",
        "  param[omega] = 1 - compute_evidence(distance=distance)\n",
        "\n",
        "  return MassFunction(param)"
      ],
      "execution_count": 161,
      "outputs": []
    },
    {
      "cell_type": "code",
      "metadata": {
        "id": "8G2fRw57TAGJ"
      },
      "source": [
        "# TODO Dataset 0 FEHLER"
      ],
      "execution_count": 162,
      "outputs": []
    },
    {
      "cell_type": "code",
      "metadata": {
        "colab": {
          "base_uri": "https://localhost:8080/"
        },
        "id": "2VeaW1Gnz9D8",
        "outputId": "11922227-0e40-449a-b685-3d452464b6ea"
      },
      "source": [
        "#@title Select dataset\n",
        "# Storage of distance predecessor\n",
        "old_dist = 0\n",
        "# Storage of all mass functions\n",
        "mass_functions = []\n",
        "# Select the dataset\n",
        "dataset_number = 2 #@param [\"0\", \"1\", \"2\", \"3\", \"4\", \"5\"] {type:\"raw\"}\n",
        "\n",
        "for row in dfs[dataset_number].iloc:\n",
        "  # Omega, which is calculated using the measurement limits\n",
        "  omega_ = []\n",
        "  # Iterate over the features\n",
        "  for i in range(1,5):\n",
        "    # Reformat for float casting\n",
        "    s = row[i].replace(',', '.')\n",
        "    # Feature 1: Distance\n",
        "    if i == 1:\n",
        "      # If there is no predecessor\n",
        "      if old_dist == 0:\n",
        "        # Get object prediction for distance\n",
        "        omega_.append(distance(float(s), float(s)))\n",
        "        # Set current distance as predecessor\n",
        "        old_dist = float(s)\n",
        "      # If there is a predecessor\n",
        "      else:\n",
        "        # Get object prediction for distance\n",
        "        omega_.append(distance(float(s), old_dist))\n",
        "        # Set current distance as predecessor\n",
        "        old_dist = float(s)\n",
        "      # Feature 2: Width\n",
        "    elif i == 2:\n",
        "      # Get object prediction for width\n",
        "      omega_.append(width(float(s)))\n",
        "    # Feature 3: Reflective Strength\n",
        "    elif i == 3:\n",
        "      # Get object prediction for reflective strength\n",
        "      omega_.append(reflective_strength(float(s)))\n",
        "    # Feature 4: Speed/Velocity\n",
        "    elif i == 4:\n",
        "      # Get object prediction for speed\n",
        "      omega_.append(speed(float(s)))\n",
        "\n",
        "  # Print current iteration\n",
        "  print(f'Takt {row[0]}: {omega_}')\n",
        "  # Append the newly created massfunction to the list\n",
        "  mass_functions.append(createMassFunction(omega_, float(row[1].replace(',', '.'))))"
      ],
      "execution_count": 163,
      "outputs": [
        {
          "output_type": "stream",
          "text": [
            "Takt 1: ['', 'fm', 'fm', 'pm']\n",
            "Takt 2: ['', '', 'fm', 'plm']\n",
            "Takt 3: ['', '', 'fm', 'plm']\n",
            "Takt 4: ['', 'fm', 'fm', 'plm']\n",
            "Takt 5: ['', 'fm', 'fm', 'plm']\n",
            "Takt 6: ['', '', 'fm', 'pm']\n",
            "Takt 7: ['', 'fm', 'fm', 'pm']\n",
            "Takt 8: ['', 'fm', 'fm', 'plm']\n",
            "Takt 9: ['', '', 'fm', 'pm']\n",
            "Takt 10: ['', 'fm', 'fm', 'pm']\n",
            "Takt 11: ['', 'fm', 'fm', 'pm']\n",
            "Takt 12: ['m', '', 'fm', 'pm']\n",
            "Takt 13: ['m', '', 'fm', 'pm']\n",
            "Takt 14: ['m', 'fm', 'fm', 'pm']\n",
            "Takt 15: ['m', 'fm', 'fm', 'pm']\n",
            "Takt 16: ['m', 'fm', 'fm', 'pm']\n",
            "Takt 17: ['m', 'fm', 'fm', 'pm']\n",
            "Takt 18: ['m', '', 'fm', 'pm']\n",
            "Takt 19: ['m', 'fm', 'fm', 'pm']\n",
            "Takt 20: ['m', 'fm', 'fm', 'pm']\n"
          ],
          "name": "stdout"
        }
      ]
    },
    {
      "cell_type": "code",
      "metadata": {
        "colab": {
          "base_uri": "https://localhost:8080/"
        },
        "id": "179nTJMRmzVm",
        "outputId": "f88614c5-02d0-449d-efa6-431c84365536"
      },
      "source": [
        "# Show all massfunctions (without dempster rule applied to them)\r\n",
        "for i, fun in enumerate(mass_functions):\r\n",
        "  print(f'MassFuntion at {i*100}ms: {fun}')"
      ],
      "execution_count": 164,
      "outputs": [
        {
          "output_type": "stream",
          "text": [
            "MassFuntion at 0ms: {{'f', 'm'}:0.35; {'p', 'm'}:0.35; {'f', 'p', 'm', 'l'}:0.30000000000000004}\n",
            "MassFuntion at 100ms: {{'f', 'm'}:0.355; {'p', 'm', 'l'}:0.355; {'f', 'p', 'm', 'l'}:0.29000000000000004}\n",
            "MassFuntion at 200ms: {{'f', 'm'}:0.36; {'p', 'm', 'l'}:0.36; {'f', 'p', 'm', 'l'}:0.28}\n",
            "MassFuntion at 300ms: {{'f', 'm'}:0.365; {'p', 'm', 'l'}:0.365; {'f', 'p', 'm', 'l'}:0.27}\n",
            "MassFuntion at 400ms: {{'f', 'm'}:0.3675; {'p', 'm', 'l'}:0.3675; {'f', 'p', 'm', 'l'}:0.265}\n",
            "MassFuntion at 500ms: {{'f', 'm'}:0.3675; {'p', 'm'}:0.3675; {'f', 'p', 'm', 'l'}:0.265}\n",
            "MassFuntion at 600ms: {{'f', 'm'}:0.37; {'p', 'm'}:0.37; {'f', 'p', 'm', 'l'}:0.26}\n",
            "MassFuntion at 700ms: {{'f', 'm'}:0.3725; {'p', 'm', 'l'}:0.3725; {'f', 'p', 'm', 'l'}:0.255}\n",
            "MassFuntion at 800ms: {{'f', 'm'}:0.37; {'p', 'm'}:0.37; {'f', 'p', 'm', 'l'}:0.26}\n",
            "MassFuntion at 900ms: {{'f', 'm'}:0.36875; {'p', 'm'}:0.36875; {'f', 'p', 'm', 'l'}:0.26249999999999996}\n",
            "MassFuntion at 1000ms: {{'f', 'm'}:0.3625; {'p', 'm'}:0.3625; {'f', 'p', 'm', 'l'}:0.275}\n",
            "MassFuntion at 1100ms: {{'f', 'p', 'm', 'l'}:0.32000000000000006; {'f', 'm'}:0.22666666666666666; {'p', 'm'}:0.22666666666666666; {'m'}:0.22666666666666666}\n",
            "MassFuntion at 1200ms: {{'f', 'p', 'm', 'l'}:0.39; {'f', 'm'}:0.20333333333333334; {'p', 'm'}:0.20333333333333334; {'m'}:0.20333333333333334}\n",
            "MassFuntion at 1300ms: {{'f', 'p', 'm', 'l'}:0.45500000000000007; {'f', 'm'}:0.18166666666666664; {'p', 'm'}:0.18166666666666664; {'m'}:0.18166666666666664}\n",
            "MassFuntion at 1400ms: {{'f', 'p', 'm', 'l'}:0.525; {'f', 'm'}:0.15833333333333333; {'p', 'm'}:0.15833333333333333; {'m'}:0.15833333333333333}\n",
            "MassFuntion at 1500ms: {{'f', 'p', 'm', 'l'}:0.59; {'f', 'm'}:0.1366666666666667; {'p', 'm'}:0.1366666666666667; {'m'}:0.1366666666666667}\n",
            "MassFuntion at 1600ms: {{'f', 'p', 'm', 'l'}:0.64; {'f', 'm'}:0.12; {'p', 'm'}:0.12; {'m'}:0.12}\n",
            "MassFuntion at 1700ms: {{'f', 'p', 'm', 'l'}:0.68; {'f', 'm'}:0.10666666666666665; {'p', 'm'}:0.10666666666666665; {'m'}:0.10666666666666665}\n",
            "MassFuntion at 1800ms: {{'f', 'p', 'm', 'l'}:0.725; {'f', 'm'}:0.09166666666666667; {'p', 'm'}:0.09166666666666667; {'m'}:0.09166666666666667}\n",
            "MassFuntion at 1900ms: {{'f', 'p', 'm', 'l'}:0.775; {'f', 'm'}:0.075; {'p', 'm'}:0.075; {'m'}:0.075}\n"
          ],
          "name": "stdout"
        }
      ]
    },
    {
      "cell_type": "markdown",
      "metadata": {
        "id": "i2C-ayh9DEnp"
      },
      "source": [
        "# Dempster Rule"
      ]
    },
    {
      "cell_type": "code",
      "metadata": {
        "colab": {
          "base_uri": "https://localhost:8080/"
        },
        "id": "tAwAD72ZW-p7",
        "outputId": "818aa049-5baa-4880-9fd9-2ddce98f33d1"
      },
      "source": [
        "dempster_list = []\r\n",
        "\r\n",
        "# Empty object for storage of massfunction predecessor\r\n",
        "c = None\r\n",
        "# Iterate over all functions\r\n",
        "for i, func in enumerate(mass_functions):\r\n",
        "  # If there is no predecessor \r\n",
        "  if i == 0:\r\n",
        "    # Set current function as predecessor\r\n",
        "    c = func\r\n",
        "  else:\r\n",
        "    # Apply dempster rule on predecessor\r\n",
        "    print(c)\r\n",
        "    print(mass_functions[i], \"\\n\")\r\n",
        "    c = c.combine_conjunctive(mass_function=mass_functions[i])\r\n",
        "\r\n",
        "  # Iteratively print massfunctions\r\n",
        "  #print(f'{c}')\r\n",
        "  dempster_list.append(c)\r\n",
        "\r\n",
        "# Show final massfunction\r\n",
        "print(f'Final Massfunction: {c}')"
      ],
      "execution_count": 165,
      "outputs": [
        {
          "output_type": "stream",
          "text": [
            "{{'f', 'm'}:0.35; {'p', 'm'}:0.35; {'f', 'p', 'm', 'l'}:0.30000000000000004}\n",
            "{{'f', 'm'}:0.355; {'p', 'm', 'l'}:0.355; {'f', 'p', 'm', 'l'}:0.29000000000000004} \n",
            "\n",
            "{{'f', 'm'}:0.33225000000000005; {'m'}:0.24849999999999997; {'p', 'm'}:0.22575; {'p', 'm', 'l'}:0.10650000000000001; {'f', 'p', 'm', 'l'}:0.08700000000000002}\n",
            "{{'f', 'm'}:0.36; {'p', 'm', 'l'}:0.36; {'f', 'p', 'm', 'l'}:0.28} \n",
            "\n",
            "{{'m'}:0.48771999999999993; {'f', 'm'}:0.24396000000000004; {'p', 'm'}:0.14448; {'p', 'm', 'l'}:0.09948000000000001; {'f', 'p', 'm', 'l'}:0.02436000000000001}\n",
            "{{'f', 'm'}:0.365; {'p', 'm', 'l'}:0.365; {'f', 'p', 'm', 'l'}:0.27} \n",
            "\n",
            "{{'m'}:0.6658108; {'f', 'm'}:0.16380600000000003; {'p', 'm'}:0.0917448; {'p', 'm', 'l'}:0.07206120000000002; {'f', 'p', 'm', 'l'}:0.006577200000000004}\n",
            "{{'f', 'm'}:0.3675; {'p', 'm', 'l'}:0.3675; {'f', 'p', 'm', 'l'}:0.265} \n",
            "\n",
            "{{'m'}:0.7862082099999999; {'f', 'm'}:0.106024416; {'p', 'm'}:0.05802858599999999; {'p', 'm', 'l'}:0.047995829999999996; {'f', 'p', 'm', 'l'}:0.0017429580000000008}\n",
            "{{'f', 'm'}:0.3675; {'p', 'm'}:0.3675; {'f', 'p', 'm', 'l'}:0.265} \n",
            "\n",
            "{{'m'}:0.86413615576; {'f', 'm'}:0.06770098018500001; {'p', 'm'}:0.05498208523500001; {'p', 'm', 'l'}:0.012718894950000004; {'f', 'p', 'm', 'l'}:0.00046188387000000033}\n",
            "{{'f', 'm'}:0.37; {'p', 'm'}:0.37; {'f', 'p', 'm', 'l'}:0.26} \n",
            "\n",
            "{{'m'}:0.9142348810969; {'f', 'm'}:0.04282251454845001; {'p', 'm'}:0.039515601861450006; {'p', 'm', 'l'}:0.003306912687000001; {'f', 'p', 'm', 'l'}:0.00012008980620000009}\n",
            "{{'f', 'm'}:0.3725; {'p', 'm', 'l'}:0.3725; {'f', 'p', 'm', 'l'}:0.255} \n",
            "\n",
            "{{'m'}:0.9461376544354952; {'f', 'm'}:0.026915861331961877; {'p', 'm'}:0.024796040168059877; {'p', 'm', 'l'}:0.0021198211639020005; {'f', 'p', 'm', 'l'}:3.0622900581000025e-05}\n",
            "{{'f', 'm'}:0.37; {'p', 'm'}:0.37; {'f', 'p', 'm', 'l'}:0.26} \n",
            "\n",
            "{{'m'}:0.9660553918211471; {'f', 'm'}:0.01696832311235096; {'p', 'm'}:0.016417169609736437; {'p', 'm', 'l'}:0.0005511535026145203; {'f', 'p', 'm', 'l'}:7.961954151060008e-06}\n",
            "{{'f', 'm'}:0.36875; {'p', 'm'}:0.36875; {'f', 'p', 'm', 'l'}:0.26249999999999996} \n",
            "\n",
            "{{'m'}:0.9785695301165059; {'f', 'm'}:0.010714189935264745; {'p', 'm'}:0.010569512140828435; {'p', 'm', 'l'}:0.00014467779443631156; {'f', 'p', 'm', 'l'}:2.090012964653252e-06}\n",
            "{{'f', 'm'}:0.3625; {'p', 'm'}:0.3625; {'f', 'p', 'm', 'l'}:0.275} \n",
            "\n",
            "{{'m'}:0.9863373178195728; {'f', 'm'}:0.006831053713430962; {'p', 'm'}:0.006791267319960977; {'p', 'm', 'l'}:3.978639346998568e-05; {'f', 'p', 'm', 'l'}:5.747535652796443e-07}\n",
            "{{'f', 'p', 'm', 'l'}:0.32000000000000006; {'f', 'm'}:0.22666666666666666; {'p', 'm'}:0.22666666666666666; {'m'}:0.22666666666666666} \n",
            "\n",
            "{{'m'}:0.992530936797225; {'f', 'm'}:0.0037344396408170565; {'p', 'm'}:0.0037217079949066613; {'p', 'm', 'l'}:1.273164591039542e-05; {'f', 'p', 'm', 'l'}:1.8392114088948621e-07}\n",
            "{{'f', 'p', 'm', 'l'}:0.39; {'f', 'm'}:0.20333333333333334; {'p', 'm'}:0.20333333333333334; {'m'}:0.20333333333333334} \n",
            "\n",
            "{{'m'}:0.9955683184357215; {'f', 'm'}:0.002215804917516768; {'p', 'm'}:0.0022108395756117137; {'p', 'm', 'l'}:4.965341905054214e-06; {'f', 'p', 'm', 'l'}:7.172924494689963e-08}\n",
            "{{'f', 'p', 'm', 'l'}:0.45500000000000007; {'f', 'm'}:0.18166666666666664; {'p', 'm'}:0.18166666666666664; {'m'}:0.18166666666666664} \n",
            "\n",
            "{{'m'}:0.99717848303993; {'f', 'm'}:0.001410742161631841; {'p', 'm'}:0.0014084829310650414; {'p', 'm', 'l'}:2.2592305667996677e-06; {'f', 'p', 'm', 'l'}:3.2636806450839335e-08}\n",
            "{{'f', 'p', 'm', 'l'}:0.525; {'f', 'm'}:0.15833333333333333; {'p', 'm'}:0.15833333333333333; {'m'}:0.15833333333333333} \n",
            "\n",
            "{{'m'}:0.9980719582431243; {'f', 'm'}:0.0009640123112761127; {'p', 'm'}:0.000962826215228543; {'p', 'm', 'l'}:1.1860960475698257e-06; {'f', 'p', 'm', 'l'}:1.713432338669065e-08}\n",
            "{{'f', 'p', 'm', 'l'}:0.59; {'f', 'm'}:0.1366666666666667; {'p', 'm'}:0.1366666666666667; {'m'}:0.1366666666666667} \n",
            "\n",
            "{{'m'}:0.9985989539816462; {'f', 'm'}:0.0007005179545515048; {'p', 'm'}:0.0006998181578834387; {'p', 'm', 'l'}:6.997966680661973e-07; {'f', 'p', 'm', 'l'}:1.0109250798147485e-08}\n",
            "{{'f', 'p', 'm', 'l'}:0.64; {'f', 'm'}:0.12; {'p', 'm'}:0.12; {'m'}:0.12} \n",
            "\n",
            "{{'m'}:0.998935203812941; {'f', 'm'}:0.0005323948585692395; {'p', 'm'}:0.0005319469887016772; {'p', 'm', 'l'}:4.478698675623663e-07; {'f', 'p', 'm', 'l'}:6.469920510814391e-09}\n",
            "{{'f', 'p', 'm', 'l'}:0.68; {'f', 'm'}:0.10666666666666665; {'p', 'm'}:0.10666666666666665; {'m'}:0.10666666666666665} \n",
            "\n",
            "{{'m'}:0.999162359642722; {'f', 'm'}:0.00041881797886598977; {'p', 'm'}:0.00041851342735604744; {'p', 'm', 'l'}:3.045515099424092e-07; {'f', 'p', 'm', 'l'}:4.399545947353788e-09}\n",
            "{{'f', 'p', 'm', 'l'}:0.725; {'f', 'm'}:0.09166666666666667; {'p', 'm'}:0.09166666666666667; {'m'}:0.09166666666666667} \n",
            "\n",
            "{{'m'}:0.9993159266382647; {'f', 'm'}:0.0003420350860322701; {'p', 'm'}:0.00034181428618756195; {'p', 'm', 'l'}:2.2079984470824666e-07; {'f', 'p', 'm', 'l'}:3.189670811831496e-09}\n",
            "{{'f', 'p', 'm', 'l'}:0.775; {'f', 'm'}:0.075; {'p', 'm'}:0.075; {'m'}:0.075} \n",
            "\n",
            "Final Massfunction: {{'m'}:0.9994185374032996; {'f', 'm'}:0.00029073006235274043; {'p', 'm'}:0.00029055894247309165; {'p', 'm', 'l'}:1.7111987964889113e-07; {'f', 'p', 'm', 'l'}:2.471994879169409e-09}\n"
          ],
          "name": "stdout"
        }
      ]
    },
    {
      "cell_type": "code",
      "metadata": {
        "colab": {
          "base_uri": "https://localhost:8080/"
        },
        "id": "hYHElaH_nPCq",
        "outputId": "b0acf5d1-1212-4133-c2e7-6dccc46d6b6c"
      },
      "source": [
        "dempster_list[-1]"
      ],
      "execution_count": 166,
      "outputs": [
        {
          "output_type": "execute_result",
          "data": {
            "text/plain": [
              "{frozenset({'m'}): 0.9994185374032996,\n",
              " frozenset({'f', 'm'}): 0.00029073006235274043,\n",
              " frozenset({'m', 'p'}): 0.00029055894247309165,\n",
              " frozenset({'l', 'm', 'p'}): 1.7111987964889113e-07,\n",
              " frozenset({'f', 'l', 'm', 'p'}): 2.471994879169409e-09}"
            ]
          },
          "metadata": {
            "tags": []
          },
          "execution_count": 166
        }
      ]
    },
    {
      "cell_type": "code",
      "metadata": {
        "id": "SpB9azx2Zu1f"
      },
      "source": [
        "def compute_plausibility(mass_function: MassFunction) -> None:\r\n",
        "  for elem in omega:\r\n",
        "    # Print out every possible plausibility in omega\r\n",
        "    print(f'Plausibility of {elem}: {mass_function.pl({elem})}')\r\n",
        "\r\n",
        "def compute_belief(mass_function: MassFunction) -> None:\r\n",
        "  for elem in omega:\r\n",
        "    # Print out every possible believe in omega\r\n",
        "    print(f'B({elem}): {mass_function.bel({elem})}')\r\n",
        "\r\n",
        "  # Some additional believes\r\n",
        "  print(f'B(four wheels) = B(p,l) = {c.bel(\"pl\")}')\r\n",
        "  print(f'B(two wheels) = B(f,m) = {c.bel(\"fm\")}')\r\n",
        "\r\n",
        "def compute_doubt(mass_function: MassFunction, lbl: str) -> None: \r\n",
        "  # Print doubt of massfunction with given label\r\n",
        "  print(f'Doubt on classification of {lbl}: {mass_function.bel(omega.replace(lbl, \"\"))}')"
      ],
      "execution_count": 167,
      "outputs": []
    },
    {
      "cell_type": "code",
      "metadata": {
        "colab": {
          "base_uri": "https://localhost:8080/"
        },
        "id": "QS05oezZao6K",
        "outputId": "46e8cd19-6235-4ca5-f370-728efdc6e75e"
      },
      "source": [
        "compute_plausibility(c)"
      ],
      "execution_count": 168,
      "outputs": [
        {
          "output_type": "stream",
          "text": [
            "Plausibility of p: 0.00029073253434761973\n",
            "Plausibility of l: 1.7359187452806054e-07\n",
            "Plausibility of m: 0.9999999999999999\n",
            "Plausibility of f: 0.0002907325343476196\n"
          ],
          "name": "stdout"
        }
      ]
    },
    {
      "cell_type": "code",
      "metadata": {
        "colab": {
          "base_uri": "https://localhost:8080/"
        },
        "id": "kLQxQZcXdoqP",
        "outputId": "7a8167e7-2b98-4e33-ef83-97130a48c8c8"
      },
      "source": [
        "compute_belief(c)"
      ],
      "execution_count": 169,
      "outputs": [
        {
          "output_type": "stream",
          "text": [
            "B(p): 0.0\n",
            "B(l): 0.0\n",
            "B(m): 0.9994185374032996\n",
            "B(f): 0.0\n",
            "B(four wheels) = B(p,l) = 0.0\n",
            "B(two wheels) = B(f,m) = 0.9997092674656523\n"
          ],
          "name": "stdout"
        }
      ]
    },
    {
      "cell_type": "code",
      "metadata": {
        "colab": {
          "base_uri": "https://localhost:8080/"
        },
        "id": "QLpUecXDeurV",
        "outputId": "0c9ee2d1-58c0-4ea0-cdc1-e57e5e22d3f7"
      },
      "source": [
        "#@title Compute Doubt for given label\n",
        "doubt = \"m\" #@param [\"p\", \"l\", \"m\", \"f\"]\n",
        "\n",
        "compute_doubt(c, doubt)"
      ],
      "execution_count": 170,
      "outputs": [
        {
          "output_type": "stream",
          "text": [
            "Doubt on classification of m: 0.0\n"
          ],
          "name": "stdout"
        }
      ]
    },
    {
      "cell_type": "markdown",
      "metadata": {
        "id": "pT5ShEcQFTFv"
      },
      "source": [
        "# Evaluation"
      ]
    },
    {
      "cell_type": "code",
      "metadata": {
        "id": "pbUl1MlcFUwU"
      },
      "source": [
        "import matplotlib.pyplot as plt\r\n",
        "\r\n",
        "import seaborn as sns"
      ],
      "execution_count": 171,
      "outputs": []
    },
    {
      "cell_type": "code",
      "metadata": {
        "id": "JQSvNY9RfYZB",
        "colab": {
          "base_uri": "https://localhost:8080/"
        },
        "outputId": "6c507683-9f89-40a8-fec3-69cc56d2174b"
      },
      "source": [
        "mass_functions"
      ],
      "execution_count": 172,
      "outputs": [
        {
          "output_type": "execute_result",
          "data": {
            "text/plain": [
              "[{frozenset({'f', 'm'}): 0.35,\n",
              "  frozenset({'m', 'p'}): 0.35,\n",
              "  frozenset({'f', 'l', 'm', 'p'}): 0.30000000000000004},\n",
              " {frozenset({'f', 'm'}): 0.355,\n",
              "  frozenset({'l', 'm', 'p'}): 0.355,\n",
              "  frozenset({'f', 'l', 'm', 'p'}): 0.29000000000000004},\n",
              " {frozenset({'f', 'm'}): 0.36,\n",
              "  frozenset({'l', 'm', 'p'}): 0.36,\n",
              "  frozenset({'f', 'l', 'm', 'p'}): 0.28},\n",
              " {frozenset({'f', 'm'}): 0.365,\n",
              "  frozenset({'l', 'm', 'p'}): 0.365,\n",
              "  frozenset({'f', 'l', 'm', 'p'}): 0.27},\n",
              " {frozenset({'f', 'm'}): 0.3675,\n",
              "  frozenset({'l', 'm', 'p'}): 0.3675,\n",
              "  frozenset({'f', 'l', 'm', 'p'}): 0.265},\n",
              " {frozenset({'f', 'm'}): 0.3675,\n",
              "  frozenset({'m', 'p'}): 0.3675,\n",
              "  frozenset({'f', 'l', 'm', 'p'}): 0.265},\n",
              " {frozenset({'f', 'm'}): 0.37,\n",
              "  frozenset({'m', 'p'}): 0.37,\n",
              "  frozenset({'f', 'l', 'm', 'p'}): 0.26},\n",
              " {frozenset({'f', 'm'}): 0.3725,\n",
              "  frozenset({'l', 'm', 'p'}): 0.3725,\n",
              "  frozenset({'f', 'l', 'm', 'p'}): 0.255},\n",
              " {frozenset({'f', 'm'}): 0.37,\n",
              "  frozenset({'m', 'p'}): 0.37,\n",
              "  frozenset({'f', 'l', 'm', 'p'}): 0.26},\n",
              " {frozenset({'f', 'm'}): 0.36875,\n",
              "  frozenset({'m', 'p'}): 0.36875,\n",
              "  frozenset({'f', 'l', 'm', 'p'}): 0.26249999999999996},\n",
              " {frozenset({'f', 'm'}): 0.3625,\n",
              "  frozenset({'m', 'p'}): 0.3625,\n",
              "  frozenset({'f', 'l', 'm', 'p'}): 0.275},\n",
              " {frozenset({'m'}): 0.22666666666666666,\n",
              "  frozenset({'f', 'm'}): 0.22666666666666666,\n",
              "  frozenset({'m', 'p'}): 0.22666666666666666,\n",
              "  frozenset({'f', 'l', 'm', 'p'}): 0.32000000000000006},\n",
              " {frozenset({'m'}): 0.20333333333333334,\n",
              "  frozenset({'f', 'm'}): 0.20333333333333334,\n",
              "  frozenset({'m', 'p'}): 0.20333333333333334,\n",
              "  frozenset({'f', 'l', 'm', 'p'}): 0.39},\n",
              " {frozenset({'m'}): 0.18166666666666664,\n",
              "  frozenset({'f', 'm'}): 0.18166666666666664,\n",
              "  frozenset({'m', 'p'}): 0.18166666666666664,\n",
              "  frozenset({'f', 'l', 'm', 'p'}): 0.45500000000000007},\n",
              " {frozenset({'m'}): 0.15833333333333333,\n",
              "  frozenset({'f', 'm'}): 0.15833333333333333,\n",
              "  frozenset({'m', 'p'}): 0.15833333333333333,\n",
              "  frozenset({'f', 'l', 'm', 'p'}): 0.525},\n",
              " {frozenset({'m'}): 0.1366666666666667,\n",
              "  frozenset({'f', 'm'}): 0.1366666666666667,\n",
              "  frozenset({'m', 'p'}): 0.1366666666666667,\n",
              "  frozenset({'f', 'l', 'm', 'p'}): 0.59},\n",
              " {frozenset({'m'}): 0.12,\n",
              "  frozenset({'f', 'm'}): 0.12,\n",
              "  frozenset({'m', 'p'}): 0.12,\n",
              "  frozenset({'f', 'l', 'm', 'p'}): 0.64},\n",
              " {frozenset({'m'}): 0.10666666666666665,\n",
              "  frozenset({'f', 'm'}): 0.10666666666666665,\n",
              "  frozenset({'m', 'p'}): 0.10666666666666665,\n",
              "  frozenset({'f', 'l', 'm', 'p'}): 0.68},\n",
              " {frozenset({'m'}): 0.09166666666666667,\n",
              "  frozenset({'f', 'm'}): 0.09166666666666667,\n",
              "  frozenset({'m', 'p'}): 0.09166666666666667,\n",
              "  frozenset({'f', 'l', 'm', 'p'}): 0.725},\n",
              " {frozenset({'m'}): 0.075,\n",
              "  frozenset({'f', 'm'}): 0.075,\n",
              "  frozenset({'m', 'p'}): 0.075,\n",
              "  frozenset({'f', 'l', 'm', 'p'}): 0.775}]"
            ]
          },
          "metadata": {
            "tags": []
          },
          "execution_count": 172
        }
      ]
    },
    {
      "cell_type": "code",
      "metadata": {
        "id": "xmJK4DbaNeSV"
      },
      "source": [
        "def append_value(dict_obj, key, value):\r\n",
        "    # Check if key exist in dict or not\r\n",
        "    if key in dict_obj:\r\n",
        "        # Key exist in dict.\r\n",
        "        # Check if type of value of key is list or not\r\n",
        "        if not isinstance(dict_obj[key], list):\r\n",
        "            # If type is not list then make it list\r\n",
        "            dict_obj[key] = [dict_obj[key]]\r\n",
        "        # Append the value in list\r\n",
        "        dict_obj[key].append(value)\r\n",
        "    else:\r\n",
        "        # As key is not in dict,\r\n",
        "        # so, add key-value pair\r\n",
        "        dict_obj[key] = [value]"
      ],
      "execution_count": 173,
      "outputs": []
    },
    {
      "cell_type": "code",
      "metadata": {
        "id": "biNKOCN6vm_P"
      },
      "source": [
        "def correct_data(dict_obj):\r\n",
        "  max_key = max(dict_obj, key= lambda x: len(set(dict_obj[x])))\r\n",
        "  for key, value in dict_obj.items():\r\n",
        "    missing_values = len(dict_obj[max_key])-len(value)\r\n",
        "    for _ in range(missing_values):\r\n",
        "      dict_obj[key].insert(0, None)\r\n",
        "  return dict_obj"
      ],
      "execution_count": 174,
      "outputs": []
    },
    {
      "cell_type": "code",
      "metadata": {
        "id": "IWQqw4-UJzlK",
        "colab": {
          "base_uri": "https://localhost:8080/",
          "height": 537
        },
        "outputId": "83765a3b-914d-4c32-e8f2-9ae47cda2d86"
      },
      "source": [
        "dic = {}\r\n",
        "\r\n",
        "for mf in dempster_list:\r\n",
        "  for i in mf:\r\n",
        "    val = mf[i]\r\n",
        "    key = ''.join(list(i))\r\n",
        "    # dic[key] = [val]\r\n",
        "    append_value(dic, key, val)\r\n",
        "\r\n",
        "dic = correct_data(dic)\r\n",
        "d = pd.DataFrame(dic)\r\n",
        "\r\n",
        "plt.figure(figsize=(15,9))\r\n",
        "plt.plot(d)\r\n",
        "plt.legend(d)\r\n",
        "plt.show()"
      ],
      "execution_count": 175,
      "outputs": [
        {
          "output_type": "display_data",
          "data": {
            "image/png": "[encoded data removed]",
            "text/plain": [
              "<Figure size 1080x648 with 1 Axes>"
            ]
          },
          "metadata": {
            "tags": [],
            "needs_background": "light"
          }
        }
      ]
    },
    {
      "cell_type": "code",
      "metadata": {
        "id": "BNXgk5v8zfpI",
        "outputId": "de0a1d02-1426-46f1-f1e9-a3f1a8abb642",
        "colab": {
          "base_uri": "https://localhost:8080/",
          "height": 669
        }
      },
      "source": [
        "d"
      ],
      "execution_count": 176,
      "outputs": [
        {
          "output_type": "execute_result",
          "data": {
            "text/html": [
              "<div>\n",
              "<style scoped>\n",
              "    .dataframe tbody tr th:only-of-type {\n",
              "        vertical-align: middle;\n",
              "    }\n",
              "\n",
              "    .dataframe tbody tr th {\n",
              "        vertical-align: top;\n",
              "    }\n",
              "\n",
              "    .dataframe thead th {\n",
              "        text-align: right;\n",
              "    }\n",
              "</style>\n",
              "<table border=\"1\" class=\"dataframe\">\n",
              "  <thead>\n",
              "    <tr style=\"text-align: right;\">\n",
              "      <th></th>\n",
              "      <th>fm</th>\n",
              "      <th>pm</th>\n",
              "      <th>fpml</th>\n",
              "      <th>m</th>\n",
              "      <th>pml</th>\n",
              "    </tr>\n",
              "  </thead>\n",
              "  <tbody>\n",
              "    <tr>\n",
              "      <th>0</th>\n",
              "      <td>0.350000</td>\n",
              "      <td>0.350000</td>\n",
              "      <td>3.000000e-01</td>\n",
              "      <td>NaN</td>\n",
              "      <td>NaN</td>\n",
              "    </tr>\n",
              "    <tr>\n",
              "      <th>1</th>\n",
              "      <td>0.332250</td>\n",
              "      <td>0.225750</td>\n",
              "      <td>8.700000e-02</td>\n",
              "      <td>0.248500</td>\n",
              "      <td>1.065000e-01</td>\n",
              "    </tr>\n",
              "    <tr>\n",
              "      <th>2</th>\n",
              "      <td>0.243960</td>\n",
              "      <td>0.144480</td>\n",
              "      <td>2.436000e-02</td>\n",
              "      <td>0.487720</td>\n",
              "      <td>9.948000e-02</td>\n",
              "    </tr>\n",
              "    <tr>\n",
              "      <th>3</th>\n",
              "      <td>0.163806</td>\n",
              "      <td>0.091745</td>\n",
              "      <td>6.577200e-03</td>\n",
              "      <td>0.665811</td>\n",
              "      <td>7.206120e-02</td>\n",
              "    </tr>\n",
              "    <tr>\n",
              "      <th>4</th>\n",
              "      <td>0.106024</td>\n",
              "      <td>0.058029</td>\n",
              "      <td>1.742958e-03</td>\n",
              "      <td>0.786208</td>\n",
              "      <td>4.799583e-02</td>\n",
              "    </tr>\n",
              "    <tr>\n",
              "      <th>5</th>\n",
              "      <td>0.067701</td>\n",
              "      <td>0.054982</td>\n",
              "      <td>4.618839e-04</td>\n",
              "      <td>0.864136</td>\n",
              "      <td>1.271889e-02</td>\n",
              "    </tr>\n",
              "    <tr>\n",
              "      <th>6</th>\n",
              "      <td>0.042823</td>\n",
              "      <td>0.039516</td>\n",
              "      <td>1.200898e-04</td>\n",
              "      <td>0.914235</td>\n",
              "      <td>3.306913e-03</td>\n",
              "    </tr>\n",
              "    <tr>\n",
              "      <th>7</th>\n",
              "      <td>0.026916</td>\n",
              "      <td>0.024796</td>\n",
              "      <td>3.062290e-05</td>\n",
              "      <td>0.946138</td>\n",
              "      <td>2.119821e-03</td>\n",
              "    </tr>\n",
              "    <tr>\n",
              "      <th>8</th>\n",
              "      <td>0.016968</td>\n",
              "      <td>0.016417</td>\n",
              "      <td>7.961954e-06</td>\n",
              "      <td>0.966055</td>\n",
              "      <td>5.511535e-04</td>\n",
              "    </tr>\n",
              "    <tr>\n",
              "      <th>9</th>\n",
              "      <td>0.010714</td>\n",
              "      <td>0.010570</td>\n",
              "      <td>2.090013e-06</td>\n",
              "      <td>0.978570</td>\n",
              "      <td>1.446778e-04</td>\n",
              "    </tr>\n",
              "    <tr>\n",
              "      <th>10</th>\n",
              "      <td>0.006831</td>\n",
              "      <td>0.006791</td>\n",
              "      <td>5.747536e-07</td>\n",
              "      <td>0.986337</td>\n",
              "      <td>3.978639e-05</td>\n",
              "    </tr>\n",
              "    <tr>\n",
              "      <th>11</th>\n",
              "      <td>0.003734</td>\n",
              "      <td>0.003722</td>\n",
              "      <td>1.839211e-07</td>\n",
              "      <td>0.992531</td>\n",
              "      <td>1.273165e-05</td>\n",
              "    </tr>\n",
              "    <tr>\n",
              "      <th>12</th>\n",
              "      <td>0.002216</td>\n",
              "      <td>0.002211</td>\n",
              "      <td>7.172924e-08</td>\n",
              "      <td>0.995568</td>\n",
              "      <td>4.965342e-06</td>\n",
              "    </tr>\n",
              "    <tr>\n",
              "      <th>13</th>\n",
              "      <td>0.001411</td>\n",
              "      <td>0.001408</td>\n",
              "      <td>3.263681e-08</td>\n",
              "      <td>0.997178</td>\n",
              "      <td>2.259231e-06</td>\n",
              "    </tr>\n",
              "    <tr>\n",
              "      <th>14</th>\n",
              "      <td>0.000964</td>\n",
              "      <td>0.000963</td>\n",
              "      <td>1.713432e-08</td>\n",
              "      <td>0.998072</td>\n",
              "      <td>1.186096e-06</td>\n",
              "    </tr>\n",
              "    <tr>\n",
              "      <th>15</th>\n",
              "      <td>0.000701</td>\n",
              "      <td>0.000700</td>\n",
              "      <td>1.010925e-08</td>\n",
              "      <td>0.998599</td>\n",
              "      <td>6.997967e-07</td>\n",
              "    </tr>\n",
              "    <tr>\n",
              "      <th>16</th>\n",
              "      <td>0.000532</td>\n",
              "      <td>0.000532</td>\n",
              "      <td>6.469921e-09</td>\n",
              "      <td>0.998935</td>\n",
              "      <td>4.478699e-07</td>\n",
              "    </tr>\n",
              "    <tr>\n",
              "      <th>17</th>\n",
              "      <td>0.000419</td>\n",
              "      <td>0.000419</td>\n",
              "      <td>4.399546e-09</td>\n",
              "      <td>0.999162</td>\n",
              "      <td>3.045515e-07</td>\n",
              "    </tr>\n",
              "    <tr>\n",
              "      <th>18</th>\n",
              "      <td>0.000342</td>\n",
              "      <td>0.000342</td>\n",
              "      <td>3.189671e-09</td>\n",
              "      <td>0.999316</td>\n",
              "      <td>2.207998e-07</td>\n",
              "    </tr>\n",
              "    <tr>\n",
              "      <th>19</th>\n",
              "      <td>0.000291</td>\n",
              "      <td>0.000291</td>\n",
              "      <td>2.471995e-09</td>\n",
              "      <td>0.999419</td>\n",
              "      <td>1.711199e-07</td>\n",
              "    </tr>\n",
              "  </tbody>\n",
              "</table>\n",
              "</div>"
            ],
            "text/plain": [
              "          fm        pm          fpml         m           pml\n",
              "0   0.350000  0.350000  3.000000e-01       NaN           NaN\n",
              "1   0.332250  0.225750  8.700000e-02  0.248500  1.065000e-01\n",
              "2   0.243960  0.144480  2.436000e-02  0.487720  9.948000e-02\n",
              "3   0.163806  0.091745  6.577200e-03  0.665811  7.206120e-02\n",
              "4   0.106024  0.058029  1.742958e-03  0.786208  4.799583e-02\n",
              "5   0.067701  0.054982  4.618839e-04  0.864136  1.271889e-02\n",
              "6   0.042823  0.039516  1.200898e-04  0.914235  3.306913e-03\n",
              "7   0.026916  0.024796  3.062290e-05  0.946138  2.119821e-03\n",
              "8   0.016968  0.016417  7.961954e-06  0.966055  5.511535e-04\n",
              "9   0.010714  0.010570  2.090013e-06  0.978570  1.446778e-04\n",
              "10  0.006831  0.006791  5.747536e-07  0.986337  3.978639e-05\n",
              "11  0.003734  0.003722  1.839211e-07  0.992531  1.273165e-05\n",
              "12  0.002216  0.002211  7.172924e-08  0.995568  4.965342e-06\n",
              "13  0.001411  0.001408  3.263681e-08  0.997178  2.259231e-06\n",
              "14  0.000964  0.000963  1.713432e-08  0.998072  1.186096e-06\n",
              "15  0.000701  0.000700  1.010925e-08  0.998599  6.997967e-07\n",
              "16  0.000532  0.000532  6.469921e-09  0.998935  4.478699e-07\n",
              "17  0.000419  0.000419  4.399546e-09  0.999162  3.045515e-07\n",
              "18  0.000342  0.000342  3.189671e-09  0.999316  2.207998e-07\n",
              "19  0.000291  0.000291  2.471995e-09  0.999419  1.711199e-07"
            ]
          },
          "metadata": {
            "tags": []
          },
          "execution_count": 176
        }
      ]
    }
  ]
}