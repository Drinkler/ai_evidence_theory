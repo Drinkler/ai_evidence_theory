{
  "nbformat": 4,
  "nbformat_minor": 0,
  "metadata": {
    "colab": {
      "name": "Kopie von vehicle_classification.ipynb",
      "provenance": [],
      "collapsed_sections": [],
      "include_colab_link": true
    },
    "kernelspec": {
      "name": "python3",
      "display_name": "Python 3"
    }
  },
  "cells": [
    {
      "cell_type": "markdown",
      "metadata": {
        "id": "view-in-github",
        "colab_type": "text"
      },
      "source": [
        "<a href=\"https://colab.research.google.com/github/lucastanger/vehicle_classification/blob/main/vehicle_classification.ipynb\" target=\"_parent\"><img src=\"https://colab.research.google.com/assets/colab-badge.svg\" alt=\"Open In Colab\"/></a>"
      ]
    },
    {
      "cell_type": "code",
      "metadata": {
        "colab": {
          "base_uri": "https://localhost:8080/"
        },
        "id": "3URZn9Xgx1fM",
        "outputId": "9d30a822-ec41-4398-dce7-677e9dc50582"
      },
      "source": [
        "!pip install py_dempster_shafer"
      ],
      "execution_count": 37,
      "outputs": [
        {
          "output_type": "stream",
          "text": [
            "Requirement already satisfied: py_dempster_shafer in /usr/local/lib/python3.6/dist-packages (0.7)\n"
          ],
          "name": "stdout"
        }
      ]
    },
    {
      "cell_type": "code",
      "metadata": {
        "id": "WmQGZ7L-b7oe"
      },
      "source": [
        "import pandas as pd"
      ],
      "execution_count": 38,
      "outputs": []
    },
    {
      "cell_type": "code",
      "metadata": {
        "colab": {
          "base_uri": "https://localhost:8080/"
        },
        "id": "3hdE5v-HdYi2",
        "outputId": "a2cd49b5-61bd-49cc-b6af-9bb3e3ca00db"
      },
      "source": [
        "dfs = []\r\n",
        "\r\n",
        "for i in range(1, 7):\r\n",
        "  dfs.append(pd.read_csv('https://raw.githubusercontent.com/lucastanger/vehicle_classification/main/data/DE11_{}.csv'.format(i), sep=\";\"))\r\n",
        "\r\n",
        "\r\n",
        "dfs"
      ],
      "execution_count": 39,
      "outputs": [
        {
          "output_type": "execute_result",
          "data": {
            "text/plain": [
              "[    Takt Radar / Distanz (m) Breite (m) Reflektionsstaerke Geschwindigkeit\n",
              " 0      1                61,2      0,735           0,050715          119,56\n",
              " 1      2                60,8       0,63         0,03803625          119,92\n",
              " 2      3                60,5       0,42           0,050715          120,64\n",
              " 3      4                60,4       0,63         0,06339375          119,92\n",
              " 4      5                60,1       0,63          0,0760725          119,56\n",
              " 5      6                59,7      0,525          0,0760725          119,56\n",
              " 6      7                59,3       0,63         0,08875125          119,56\n",
              " 7      8                58,9       0,63         0,08875125          119,92\n",
              " 8      9                58,6      0,735            0,10143          119,92\n",
              " 9     10                58,3      0,067            0,10143          120,28\n",
              " 10    11                58,1       0,63            0,10143          119,56\n",
              " 11    12                57,7       0,67         0,08875125          119,92\n",
              " 12    13                57,4       0,74            0,10143          120,64\n",
              " 13    14                57,3       0,78         0,11410875          119,92\n",
              " 14    15                  57        1,2            0,10143          119,56\n",
              " 15    16                56,6        0,7         0,11410875          119,56\n",
              " 16    17                56,2       0,64          0,1267875          120,28\n",
              " 17    18                  56       0,74          0,1267875             120,\n",
              "    Takt Radar / Distanz (m) Breite (m) Reflektionsstaerke Geschwindigkeit\n",
              " 0     1                  75       2,52              0,432           81,36\n",
              " 1     2                75,1        2,4             0,4032           81,36\n",
              " 2     3                75,2       2,52               0,36              81\n",
              " 3     4                75,2        2,4              0,432           81,36\n",
              " 4     5                75,3       2,64              0,504           80,64\n",
              " 5     6                75,2        2,4               0,36           80,28\n",
              " 6     7                  75       2,28               0,72           80,64\n",
              " 7     8                74,9       2,52             0,3168           80,64\n",
              " 8     9                74,8        2,4             0,4032           80,64\n",
              " 9    10                74,7        2,5               0,42              81,\n",
              "     Takt Radar / Distanz (m) Breite (m) Reflektionsstaerke Geschwindigkeit\n",
              " 0      1                  60        1,1              0,072            90,5\n",
              " 1      2                  58        1,2              0,069            82,8\n",
              " 2      3                  56       1,21              0,073            82,8\n",
              " 3      4                  54       1,02              0,075            82,8\n",
              " 4      5                  53       1,05               0,08            86,4\n",
              " 5      6                  53       1,12              0,085              90\n",
              " 6      7                  52        1,1               0,08            90,5\n",
              " 7      8                  51       1,05              0,081            86,4\n",
              " 8      9                  52       1,12              0,073            93,6\n",
              " 9     10                52,5       0,99              0,069            91,8\n",
              " 10    11                  55       1,05              0,052              99\n",
              " 11    12                  64       1,12              0,048           122,4\n",
              " 12    13                  78       1,18              0,062           140,4\n",
              " 13    14                  91       1,03              0,049           136,8\n",
              " 14    15                 105        1,1              0,045           140,4\n",
              " 15    16                 118       1,08              0,041           136,8\n",
              " 16    17                 128       1,02              0,029             126\n",
              " 17    18                 136       1,11              0,032           118,8\n",
              " 18    19                 145       1,01              0,023           122,4\n",
              " 19    20                 155       1,02               0,02             126,\n",
              "     Takt Radar / Distanz (m) Breite (m) Reflektionsstaerke Geschwindigkeit\n",
              " 0      1                  40       0,86               0,09          122,08\n",
              " 1      2                40,3       0,92              0,087          121,72\n",
              " 2      3                40,5       0,85              0,084           126,4\n",
              " 3      4                  42       0,88         0,06339375          128,92\n",
              " 4      5                44,2       0,77          0,0760725          129,28\n",
              " 5      6                46,5       0,85              0,065           122,8\n",
              " 6      7                  47       0,76              0,071          122,08\n",
              " 7      8                47,3       0,81              0,075          121,72\n",
              " 8      9                47,5       0,73               0,07           119,2\n",
              " 9     10                  47       0,78               0,08          125,32\n",
              " 10    11                48,2       0,82              0,081           126,4\n",
              " 11    12                49,7       0,87              0,064           126,4\n",
              " 12    13                51,2       0,69              0,062          127,48\n",
              " 13    14                  53       0,72               0,07          126,76\n",
              " 14    15                54,6       0,79              0,064          126,76\n",
              " 15    16                56,2       0,81              0,058          127,48\n",
              " 16    17                  58       0,75              0,052          128,56\n",
              " 17    18                60,1       0,74              0,049             130,\n",
              "     Takt Radar / Distanz (m) Breite (m) Reflektionsstaerke Geschwindigkeit\n",
              " 0      1                  70        0,6              0,025            27,6\n",
              " 1      2                  61       0,74               0,03            31,2\n",
              " 2      3                  53       0,63              0,035            31,2\n",
              " 3      4                  45       0,79              0,038            30,8\n",
              " 4      5                  38       0,84              0,034            30,4\n",
              " 5      6                  32       0,65              0,041            30,2\n",
              " 6      7                26,5       0,81              0,045            30,8\n",
              " 7      8                  22       0,49               0,04            30,6\n",
              " 8      9                  18       0,87              0,046              31\n",
              " 9     10                15,5        0,9              0,051            31,6\n",
              " 10    11                  14       0,59              0,055            31,4\n",
              " 11    12                  13       0,66               0,05            31,4\n",
              " 12    13                  12        0,7              0,061            31,4\n",
              " 13    14                  11       0,75              0,062            31,2\n",
              " 14    15                10,5       0,74               0,07            30,2\n",
              " 15    16                  10       0,76              0,059            31,8\n",
              " 16    17                10,5       0,77              0,069            31,8\n",
              " 17    18                  11       0,75              0,067            31,5,\n",
              "     Takt Radar / Distanz (m) Breite (m) Reflektionsstaerke Geschwindigkeit\n",
              " 0      1                  75          2               0,63            73,2\n",
              " 1      2                74,5        2,1               0,67            73,2\n",
              " 2      3                  74        2,2               0,69           72,48\n",
              " 3      4                73,3        2,1               0,77           72,84\n",
              " 4      5                72,7          2               0,72           72,48\n",
              " 5      6                  72       2,15                0,8           72,84\n",
              " 6      7                71,4       2,06               0,83           69,24\n",
              " 7      8                69,8        2,1                0,9           72,84\n",
              " 8      9                69,2       2,05               0,88           72,48\n",
              " 9     10                68,5          2               0,97           72,12\n",
              " 10    10                67,7        2,1               0,94           72,48\n",
              " 11    10                  67       2,05               1,05              73]"
            ]
          },
          "metadata": {
            "tags": []
          },
          "execution_count": 39
        }
      ]
    },
    {
      "cell_type": "code",
      "metadata": {
        "id": "1z7Z2KUwk18-"
      },
      "source": [
        "from pyds import MassFunction\r\n",
        "\r\n",
        "omega = 'plmf'"
      ],
      "execution_count": 40,
      "outputs": []
    },
    {
      "cell_type": "markdown",
      "metadata": {
        "id": "UL9ojn56zEB6"
      },
      "source": [
        "Vorliegende Daten:\r\n",
        "\r\n",
        "* **Geschwindigkeit** - Mittlere Geschwindigkeiten von 60-90\r\n",
        "km/h sprechen für PKW, LKW oder\r\n",
        "Motorrad. Höhere Geschwindigkeiten\r\n",
        "über 90 km/h sprechen für PKW oder\r\n",
        "Motorrad. \r\n",
        "\r\n",
        "* **Distanz** - Distanz zum vorausfahrenden Objekt - Sehr schnell schwankende Änderungen der Distanz (bei gleichbleibender\r\n",
        "Eigengeschwindigkeit, d.h. Beschleunigungen), weisen auf ein Motorrad\r\n",
        "hin, schnelle auf einen PKW oder\r\n",
        "Motorrad.\r\n",
        "\r\n",
        "* **Breite (m)** - Breiten zwischen 1,60 und 2,15\r\n",
        "weisen auf PKW hin, Breiten zwischen 1,90 und 2,50 auf einen LKW\r\n",
        "und Breiten zwischen 0,70 und 1,10\r\n",
        "auf ein Motorrad oder ein Fahrrad.\r\n",
        "\r\n",
        "* **Reflektionsstaerke** - LKW und PKW liefern eine große\r\n",
        "Reflektionsstärke. Motorräder und\r\n",
        "Fahrräder liefern deutlich geringere\r\n",
        "Reflektionsstärken.\r\n",
        "\r\n",
        "*Die Sensoren arbeiten im Nahbereich recht gut, werden aber bei größeren Entfernungen immer unzuverlässiger* - Diese Information wird zur Bestimmung der Evidenz verwendet.\r\n",
        "\r\n",
        "\r\n"
      ]
    },
    {
      "cell_type": "code",
      "metadata": {
        "id": "clvUVPbq0wXG"
      },
      "source": [
        "def speed(speed: float) -> str: \r\n",
        "  if speed <= 60:\r\n",
        "    return 'f'\r\n",
        "  if 60 < speed < 90:\r\n",
        "    return 'plm'\r\n",
        "  if speed >= 90:\r\n",
        "    return 'pm'\r\n",
        "\r\n",
        "def reflective_strength(reflective_strength: float) -> str:\r\n",
        "  if reflective_strength < 0.1:\r\n",
        "    return 'fm'\r\n",
        "  if 0.1 >= reflective_strength > 0.6:\r\n",
        "    return 'pl'\r\n",
        "  elif reflective_strength > 0.6:\r\n",
        "    return 'l'\r\n",
        "\r\n",
        "def width(width: float) -> str:\r\n",
        "  if 1.6 <= width <= 2.15:\r\n",
        "    return 'p'\r\n",
        "  if 1.9 <= width <= 2.5:\r\n",
        "    return 'l'\r\n",
        "  if 0.7 <= width <= 1.1:\r\n",
        "    return 'fm'\r\n",
        "  else:\r\n",
        "    return ''\r\n",
        "\r\n",
        "def distance(distance: float, old_distance: float) -> str:\r\n",
        "  # Check if ahead driving object gained 5% of distance within 100ms\r\n",
        "  if distance > old_distance*1.05:\r\n",
        "    return 'm'\r\n",
        "  else:\r\n",
        "    return ''\r\n"
      ],
      "execution_count": 41,
      "outputs": []
    },
    {
      "cell_type": "markdown",
      "metadata": {
        "id": "x_zAlmCEh_wV"
      },
      "source": [
        "Laut Aufgabenbeschreibung funktionieren die Sensoren im Nahbereich gut und werden auf Entfernung immer schlechter. \r\n",
        "\r\n",
        "**Annahme:** Die Evidenz steigt in Abhängigkeit der Distanz:\r\n",
        "\r\n",
        "Evidenz = 1 - Distanz/2 /100\r\n",
        "\r\n",
        "Omega = 1 - Evidenz\r\n",
        "\r\n"
      ]
    },
    {
      "cell_type": "code",
      "metadata": {
        "id": "lLHFIQxRjF2q"
      },
      "source": [
        "def compute_evidence(distance: float) -> float:\r\n",
        "  return 1-distance/2/100"
      ],
      "execution_count": 42,
      "outputs": []
    },
    {
      "cell_type": "code",
      "metadata": {
        "id": "Bw7hYTehRZwK"
      },
      "source": [
        "def createMassFunction(om: list, distance: float) -> MassFunction:\r\n",
        "  \"\"\" Wrapper function for creation of pyds MassFunction \"\"\"\r\n",
        "  # Remove empty elements\r\n",
        "  om = list(filter(None, om)) \r\n",
        "  # Remove duplicates\r\n",
        "  om = list(dict.fromkeys(om))\r\n",
        "  # Create param list\r\n",
        "  param = {}\r\n",
        "\r\n",
        "  for elem in om:\r\n",
        "    param[elem] = compute_evidence(distance=distance)/len(om)\r\n",
        "\r\n",
        "  param[omega] = 1 - compute_evidence(distance=distance)\r\n",
        "\r\n",
        "  m = MassFunction(param)\r\n",
        "\r\n",
        "  return m"
      ],
      "execution_count": 43,
      "outputs": []
    },
    {
      "cell_type": "code",
      "metadata": {
        "colab": {
          "base_uri": "https://localhost:8080/"
        },
        "id": "2VeaW1Gnz9D8",
        "outputId": "5e054a2b-b74b-496a-86e8-9371ee949f96"
      },
      "source": [
        "old_dist = 0\r\n",
        "\r\n",
        "mass_functions = []\r\n",
        "\r\n",
        "for row in dfs[5].iloc:\r\n",
        "  omega_ = []\r\n",
        "  for i in range(1,5):\r\n",
        "    s = row[i]\r\n",
        "    s = s.replace(',', '.')\r\n",
        "    if i == 1:\r\n",
        "      if old_dist == 0:\r\n",
        "        omega_.append(distance(float(s), float(s)))\r\n",
        "        old_dist = float(s)\r\n",
        "      else:\r\n",
        "        omega_.append(distance(float(s), old_dist))\r\n",
        "        old_dist = float(s)\r\n",
        "    elif i == 2:\r\n",
        "      omega_.append(width(float(s)))\r\n",
        "    elif i == 3:\r\n",
        "      omega_.append(reflective_strength(float(s)))\r\n",
        "    elif i == 4:\r\n",
        "      omega_.append(speed(float(s)))\r\n",
        "\r\n",
        "  print(f'Takt {row[0]}: {omega_}')\r\n",
        "  mass_functions.append(createMassFunction(omega_, float(row[1].replace(',', '.'))))"
      ],
      "execution_count": 45,
      "outputs": [
        {
          "output_type": "stream",
          "text": [
            "Takt 1: ['', 'p', 'pl', 'plm']\n",
            "Takt 2: ['', 'p', 'pl', 'plm']\n",
            "Takt 3: ['', 'l', 'pl', 'plm']\n",
            "Takt 4: ['', 'p', 'pl', 'plm']\n",
            "Takt 5: ['', 'p', 'pl', 'plm']\n",
            "Takt 6: ['', 'p', 'pl', 'plm']\n",
            "Takt 7: ['', 'p', 'pl', 'plm']\n",
            "Takt 8: ['', 'p', 'pl', 'plm']\n",
            "Takt 9: ['', 'p', 'pl', 'plm']\n",
            "Takt 10: ['', 'p', 'pl', 'plm']\n",
            "Takt 10: ['', 'p', 'pl', 'plm']\n",
            "Takt 10: ['', 'p', 'pl', 'plm']\n"
          ],
          "name": "stdout"
        }
      ]
    },
    {
      "cell_type": "code",
      "metadata": {
        "colab": {
          "base_uri": "https://localhost:8080/"
        },
        "id": "tAwAD72ZW-p7",
        "outputId": "0611ce30-3bbc-4fdd-aacb-a844c191bb1f"
      },
      "source": [
        "c = None\r\n",
        "\r\n",
        "for i, func in enumerate(mass_functions): \r\n",
        "  if i == 0:\r\n",
        "    c = func\r\n",
        "  else:\r\n",
        "    c = c.combine_conjunctive(mass_function=mass_functions[i-1])\r\n",
        "  print(f'{c}')\r\n",
        "\r\n",
        "print(f'Final Massfunction: {c}')"
      ],
      "execution_count": 46,
      "outputs": [
        {
          "output_type": "stream",
          "text": [
            "{{'m', 'p', 'f', 'l'}:0.375; {'m', 'p', 'l'}:0.20833333333333334; {'p', 'l'}:0.20833333333333334; {'p'}:0.20833333333333334}\n",
            "{{'p'}:0.3732638888888889; {'p', 'l'}:0.28645833333333337; {'m', 'p', 'l'}:0.1996527777777778; {'m', 'p', 'f', 'l'}:0.140625}\n",
            "{{'p'}:0.5043561921296296; {'p', 'l'}:0.29771556712962965; {'m', 'p', 'l'}:0.14554542824074074; {'m', 'p', 'f', 'l'}:0.05238281250000001}\n",
            "{{'p'}:0.4456414130746644; {'p', 'l'}:0.30954569955463324; {'l'}:0.11641530325432045; {'m', 'p', 'l'}:0.10671996252894599; {'m', 'p', 'f', 'l'}:0.02167762158743591}\n",
            "{{'p'}:0.5516824638847276; {'p', 'l'}:0.2781305478744466; {'l'}:0.09414668258420715; {'m', 'p', 'l'}:0.0678952266097409; {'m', 'p', 'f', 'l'}:0.008145079046877677}\n",
            "{{'p'}:0.6396016199579234; {'p', 'l'}:0.24004865578336765; {'l'}:0.07568365980883608; {'m', 'p', 'l'}:0.041644982750394036; {'m', 'p', 'f', 'l'}:0.003021081699478893}\n",
            "{{'p'}:0.7118339221743443; {'p', 'l'}:0.2016224008201719; {'l'}:0.06051487634338769; {'m', 'p', 'l'}:0.024923363022821162; {'m', 'p', 'f', 'l'}:0.0011054376392749653}\n",
            "{{'p'}:0.7706224093714396; {'p', 'l'}:0.16614175677910964; {'l'}:0.04816929403199768; {'m', 'p', 'l'}:0.014666712680258737; {'m', 'p', 'f', 'l'}:0.000399827137194352}\n",
            "{{'p'}:0.8185001766542604; {'p', 'l'}:0.1347671199330506; {'l'}:0.0381149629026053; {'m', 'p', 'l'}:0.008476726860639277; {'m', 'p', 'f', 'l'}:0.00014101364944437548}\n",
            "{{'p'}:0.8568779279861852; {'p', 'l'}:0.10816530745530349; {'l'}:0.030055635122901096; {'m', 'p', 'l'}:0.00485192991100639; {'m', 'p', 'f', 'l'}:4.919952460376536e-05}\n",
            "{{'p'}:0.8875044857307566; {'p', 'l'}:0.08610040176785451; {'l'}:0.023624057996541138; {'m', 'p', 'l'}:0.002754091931923259; {'m', 'p', 'f', 'l'}:1.6962572924602337e-05}\n",
            "{{'p'}:0.9118505669935705; {'p', 'l'}:0.06808092134975216; {'l'}:0.0185113809313502; {'m', 'p', 'l'}:0.0015513588279740503; {'m', 'p', 'f', 'l'}:5.771897353117229e-06}\n",
            "Final Massfunction: {{'p'}:0.9118505669935705; {'p', 'l'}:0.06808092134975216; {'l'}:0.0185113809313502; {'m', 'p', 'l'}:0.0015513588279740503; {'m', 'p', 'f', 'l'}:5.771897353117229e-06}\n"
          ],
          "name": "stdout"
        }
      ]
    },
    {
      "cell_type": "code",
      "metadata": {
        "id": "SpB9azx2Zu1f"
      },
      "source": [
        "def compute_plausibility(mass_function: MassFunction) -> None:\r\n",
        "  for elem in omega:\r\n",
        "    print(f'Plausibility of {elem}: {mass_function.pl({elem})}')\r\n",
        "\r\n",
        "def compute_belief(mass_function: MassFunction) -> None:\r\n",
        "  for elem in omega:\r\n",
        "    print(f'B({elem}): {mass_function.bel({elem})}')\r\n",
        "\r\n",
        "  print(f'B(four wheels) = B(p,l) = {c.bel(\"pl\")}')\r\n",
        "  print(f'B(two wheels) = B(f,m) = {c.bel(\"fm\")}')\r\n",
        "\r\n",
        "def compute_doubt(mass_function: MassFunction, lbl: str) -> None: \r\n",
        "  print(f'Doubt on classification of {lbl}: {mass_function.bel(omega.replace(lbl, \"\"))}')"
      ],
      "execution_count": 47,
      "outputs": []
    },
    {
      "cell_type": "code",
      "metadata": {
        "colab": {
          "base_uri": "https://localhost:8080/"
        },
        "id": "QS05oezZao6K",
        "outputId": "98eb9aa8-cd3c-4427-a2f3-bf8291541e40"
      },
      "source": [
        "compute_plausibility(c)"
      ],
      "execution_count": 48,
      "outputs": [
        {
          "output_type": "stream",
          "text": [
            "Plausibility of p: 0.9814886190686498\n",
            "Plausibility of l: 0.08814943300642952\n",
            "Plausibility of m: 0.0015571307253271676\n",
            "Plausibility of f: 5.771897353117229e-06\n"
          ],
          "name": "stdout"
        }
      ]
    },
    {
      "cell_type": "code",
      "metadata": {
        "colab": {
          "base_uri": "https://localhost:8080/"
        },
        "id": "kLQxQZcXdoqP",
        "outputId": "a362b3df-f33b-483a-d435-865d2540ac93"
      },
      "source": [
        "compute_belief(c)"
      ],
      "execution_count": 49,
      "outputs": [
        {
          "output_type": "stream",
          "text": [
            "B(p): 0.9118505669935705\n",
            "B(l): 0.0185113809313502\n",
            "B(m): 0.0\n",
            "B(f): 0.0\n",
            "B(four wheels) = B(p,l) = 0.9984428692746729\n",
            "B(two wheels) = B(f,m) = 0.0\n"
          ],
          "name": "stdout"
        }
      ]
    },
    {
      "cell_type": "code",
      "metadata": {
        "colab": {
          "base_uri": "https://localhost:8080/"
        },
        "id": "QLpUecXDeurV",
        "outputId": "6a7d1028-8f34-44d9-c0cc-6b71dbb48893"
      },
      "source": [
        "compute_doubt(c, 'p')"
      ],
      "execution_count": 50,
      "outputs": [
        {
          "output_type": "stream",
          "text": [
            "Doubt on classification of p: 0.0185113809313502\n"
          ],
          "name": "stdout"
        }
      ]
    },
    {
      "cell_type": "code",
      "metadata": {
        "colab": {
          "base_uri": "https://localhost:8080/"
        },
        "id": "179nTJMRmzVm",
        "outputId": "a523c821-b88e-40c9-98b8-f29a919cf12a"
      },
      "source": [
        "for i, fun in enumerate(mass_functions):\r\n",
        "  print(f'MassFuntion at {i*100}ms: {fun}')"
      ],
      "execution_count": 51,
      "outputs": [
        {
          "output_type": "stream",
          "text": [
            "MassFuntion at 0ms: {{'m', 'p', 'f', 'l'}:0.375; {'m', 'p', 'l'}:0.20833333333333334; {'p', 'l'}:0.20833333333333334; {'p'}:0.20833333333333334}\n",
            "MassFuntion at 100ms: {{'m', 'p', 'f', 'l'}:0.37250000000000005; {'m', 'p', 'l'}:0.20916666666666664; {'p', 'l'}:0.20916666666666664; {'p'}:0.20916666666666664}\n",
            "MassFuntion at 200ms: {{'m', 'p', 'f', 'l'}:0.37; {'m', 'p', 'l'}:0.21; {'p', 'l'}:0.21; {'l'}:0.21}\n",
            "MassFuntion at 300ms: {{'m', 'p', 'f', 'l'}:0.36650000000000005; {'m', 'p', 'l'}:0.21116666666666664; {'p', 'l'}:0.21116666666666664; {'p'}:0.21116666666666664}\n",
            "MassFuntion at 400ms: {{'m', 'p', 'f', 'l'}:0.36349999999999993; {'m', 'p', 'l'}:0.2121666666666667; {'p', 'l'}:0.2121666666666667; {'p'}:0.2121666666666667}\n",
            "MassFuntion at 500ms: {{'m', 'p', 'f', 'l'}:0.36; {'m', 'p', 'l'}:0.21333333333333335; {'p', 'l'}:0.21333333333333335; {'p'}:0.21333333333333335}\n",
            "MassFuntion at 600ms: {{'m', 'p', 'f', 'l'}:0.357; {'m', 'p', 'l'}:0.21433333333333335; {'p', 'l'}:0.21433333333333335; {'p'}:0.21433333333333335}\n",
            "MassFuntion at 700ms: {{'m', 'p', 'f', 'l'}:0.349; {'m', 'p', 'l'}:0.217; {'p', 'l'}:0.217; {'p'}:0.217}\n",
            "MassFuntion at 800ms: {{'m', 'p', 'f', 'l'}:0.3460000000000001; {'m', 'p', 'l'}:0.21799999999999997; {'p', 'l'}:0.21799999999999997; {'p'}:0.21799999999999997}\n",
            "MassFuntion at 900ms: {{'m', 'p', 'f', 'l'}:0.3425; {'m', 'p', 'l'}:0.21916666666666665; {'p', 'l'}:0.21916666666666665; {'p'}:0.21916666666666665}\n",
            "MassFuntion at 1000ms: {{'m', 'p', 'f', 'l'}:0.3385; {'m', 'p', 'l'}:0.2205; {'p', 'l'}:0.2205; {'p'}:0.2205}\n",
            "MassFuntion at 1100ms: {{'m', 'p', 'f', 'l'}:0.33499999999999996; {'m', 'p', 'l'}:0.22166666666666668; {'p', 'l'}:0.22166666666666668; {'p'}:0.22166666666666668}\n"
          ],
          "name": "stdout"
        }
      ]
    }
  ]
}