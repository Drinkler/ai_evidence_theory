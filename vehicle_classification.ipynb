{
  "nbformat": 4,
  "nbformat_minor": 0,
  "metadata": {
    "colab": {
      "name": "Kopie von vehicle_classification.ipynb",
      "provenance": [],
      "collapsed_sections": [],
      "include_colab_link": true
    },
    "kernelspec": {
      "name": "python3",
      "display_name": "Python 3"
    }
  },
  "cells": [
    {
      "cell_type": "markdown",
      "metadata": {
        "id": "view-in-github",
        "colab_type": "text"
      },
      "source": [
        "<a href=\"https://colab.research.google.com/github/lucastanger/ai_evidence_theory/blob/main/vehicle_classification.ipynb\" target=\"_parent\"><img src=\"https://colab.research.google.com/assets/colab-badge.svg\" alt=\"Open In Colab\"/></a>"
      ]
    },
    {
      "cell_type": "markdown",
      "metadata": {
        "id": "2kcQaAVhx1gX"
      },
      "source": [
        "# Evidencetheory / Dempsters Rule"
      ]
    },
    {
      "cell_type": "code",
      "metadata": {
        "colab": {
          "base_uri": "https://localhost:8080/"
        },
        "id": "3URZn9Xgx1fM",
        "outputId": "e6c232d6-392e-4e44-adfd-b6d321f4d1c0"
      },
      "source": [
        "!pip install py_dempster_shafer"
      ],
      "execution_count": 1,
      "outputs": [
        {
          "output_type": "stream",
          "text": [
            "Collecting py_dempster_shafer\n",
            "  Downloading https://files.pythonhosted.org/packages/85/49/c18d1b2801192ebbf9f77738f4dae0e4cea55059be2bb1812e9b4703d484/py_dempster_shafer-0.7.tar.gz\n",
            "Building wheels for collected packages: py-dempster-shafer\n",
            "  Building wheel for py-dempster-shafer (setup.py) ... \u001b[?25l\u001b[?25hdone\n",
            "  Created wheel for py-dempster-shafer: filename=py_dempster_shafer-0.7-cp36-none-any.whl size=13379 sha256=f273d09866bf16173f2c54bf40940fce2bb81eab68b4fc9e06d71aa7c98fe8f7\n",
            "  Stored in directory: /root/.cache/pip/wheels/ae/dd/c2/fbaf328dc4ef2c28df280f1a9291b9a3b18af78c99519b29c6\n",
            "Successfully built py-dempster-shafer\n",
            "Installing collected packages: py-dempster-shafer\n",
            "Successfully installed py-dempster-shafer-0.7\n"
          ],
          "name": "stdout"
        }
      ]
    },
    {
      "cell_type": "code",
      "metadata": {
        "id": "WmQGZ7L-b7oe"
      },
      "source": [
        "# Imports\r\n",
        "import pandas as pd\r\n",
        "from pyds import MassFunction"
      ],
      "execution_count": 2,
      "outputs": []
    },
    {
      "cell_type": "markdown",
      "metadata": {
        "id": "_3dXW_yU2WTe"
      },
      "source": [
        "# Settings"
      ]
    },
    {
      "cell_type": "code",
      "metadata": {
        "id": "K6yyZih62XpF"
      },
      "source": [
        "#@title Define classification bounds\n",
        "# \n",
        "SPEED_LOWER_BOUND = 60 #@param {type:\"integer\"}\n",
        "SPEED_UPPER_BOUND = 90 #@param {type:\"integer\"}\n",
        "#@markdown ---\n",
        "REFLECT_LOWER_BOUND = 0.1 #@param {type:\"number\"}\n",
        "REFLECT_UPPER_BOUND = 0.6 #@param {type:\"number\"}\n",
        "#@markdown ---\n",
        "CAR_WIDTH_LOWER_BOUND = 1.6 #@param {type:\"number\"}\n",
        "CAR_WIDTH_UPPER_BOUND = 2.15 #@param {type:\"number\"}\n",
        "#@markdown ---\n",
        "TRUCK_WIDTH_LOWER_BOUND = 1.9 #@param {type:\"number\"}\n",
        "TRUCK_WIDTH_UPPER_BOUND = 2.5 #@param {type:\"number\"}\n",
        "#@markdown ---\n",
        "TWOWHEEL_WIDTH_LOWER_BOUND = 0.7 #@param {type:\"number\"}\n",
        "TWOWHEEL_WIDTH_UPPER_BOUND = 1.1 #@param {type:\"number\"}\n",
        "#@markdown ---\n",
        "DISTANCE_PERCENTAGE_THRESHOLD = 1.05 #@param {type:\"number\"}"
      ],
      "execution_count": 3,
      "outputs": []
    },
    {
      "cell_type": "markdown",
      "metadata": {
        "id": "sIQ_v8_Oz_YW"
      },
      "source": [
        "# Load data\r\n",
        "\r\n",
        "We received 6 datasets, containing different radar measurements. The data consists of the following features:\r\n",
        "\r\n",
        "* Takt (*Clock*) - A 100ms interval\r\n",
        "* Radar/Distanz (*Radar/Distance in meters*) - The distance to the object in front\r\n",
        "* Breite (*Width in meters*) - The width of the object in front\r\n",
        "* Reflektionsstärke (*Reflection strength*) - The measured reflection strength of the object in front\r\n",
        "* Geschwindigkeit (*Speed/Velocity*) - The measured velocity of the object in front"
      ]
    },
    {
      "cell_type": "code",
      "metadata": {
        "colab": {
          "base_uri": "https://localhost:8080/"
        },
        "id": "3hdE5v-HdYi2",
        "outputId": "83ff61aa-c7d8-491c-cfed-fb0a2bd7de6a"
      },
      "source": [
        "dfs = []\r\n",
        "\r\n",
        "# Load data iteratively\r\n",
        "for i in range(1, 7):\r\n",
        "  # Store dataframes in list for later access\r\n",
        "  dfs.append(pd.read_csv('https://raw.githubusercontent.com/lucastanger/vehicle_classification/main/data/DE11_{}.csv'.format(i), sep=\";\"))\r\n",
        "\r\n",
        "# Print out the head of the dataframes\r\n",
        "for df in dfs: print(df.head(3))"
      ],
      "execution_count": 4,
      "outputs": [
        {
          "output_type": "stream",
          "text": [
            "   Takt Radar / Distanz (m) Breite (m) Reflektionsstaerke Geschwindigkeit\n",
            "0     1                61,2      0,735           0,050715          119,56\n",
            "1     2                60,8       0,63         0,03803625          119,92\n",
            "2     3                60,5       0,42           0,050715          120,64\n",
            "   Takt Radar / Distanz (m) Breite (m) Reflektionsstaerke Geschwindigkeit\n",
            "0     1                  75       2,52              0,432           81,36\n",
            "1     2                75,1        2,4             0,4032           81,36\n",
            "2     3                75,2       2,52               0,36              81\n",
            "   Takt Radar / Distanz (m) Breite (m) Reflektionsstaerke Geschwindigkeit\n",
            "0     1                  60        1,1              0,072            90,5\n",
            "1     2                  58        1,2              0,069            82,8\n",
            "2     3                  56       1,21              0,073            82,8\n",
            "   Takt Radar / Distanz (m) Breite (m) Reflektionsstaerke Geschwindigkeit\n",
            "0     1                  40       0,86               0,09          122,08\n",
            "1     2                40,3       0,92              0,087          121,72\n",
            "2     3                40,5       0,85              0,084           126,4\n",
            "   Takt Radar / Distanz (m) Breite (m) Reflektionsstaerke Geschwindigkeit\n",
            "0     1                  70        0,6              0,025            27,6\n",
            "1     2                  61       0,74               0,03            31,2\n",
            "2     3                  53       0,63              0,035            31,2\n",
            "   Takt Radar / Distanz (m) Breite (m) Reflektionsstaerke Geschwindigkeit\n",
            "0     1                  75          2               0,63            73,2\n",
            "1     2                74,5        2,1               0,67            73,2\n",
            "2     3                  74        2,2               0,69           72,48\n"
          ],
          "name": "stdout"
        }
      ]
    },
    {
      "cell_type": "code",
      "metadata": {
        "id": "1z7Z2KUwk18-"
      },
      "source": [
        "# Define omega\r\n",
        "# p = PKW\r\n",
        "# l = LKW\r\n",
        "# m = Motorrad\r\n",
        "# f = Fahrrad\r\n",
        "omega = 'plmf'"
      ],
      "execution_count": 5,
      "outputs": []
    },
    {
      "cell_type": "markdown",
      "metadata": {
        "id": "UL9ojn56zEB6"
      },
      "source": [
        "Vorliegende Daten:\r\n",
        "\r\n",
        "* **Geschwindigkeit** - Mittlere Geschwindigkeiten von 60-90\r\n",
        "km/h sprechen für PKW, LKW oder\r\n",
        "Motorrad. Höhere Geschwindigkeiten\r\n",
        "über 90 km/h sprechen für PKW oder\r\n",
        "Motorrad. \r\n",
        "\r\n",
        "* **Distanz** - Distanz zum vorausfahrenden Objekt - Sehr schnell schwankende Änderungen der Distanz (bei gleichbleibender\r\n",
        "Eigengeschwindigkeit, d.h. Beschleunigungen), weisen auf ein Motorrad\r\n",
        "hin, schnelle auf einen PKW oder\r\n",
        "Motorrad.\r\n",
        "\r\n",
        "* **Breite (m)** - Breiten zwischen 1,60 und 2,15\r\n",
        "weisen auf PKW hin, Breiten zwischen 1,90 und 2,50 auf einen LKW\r\n",
        "und Breiten zwischen 0,70 und 1,10\r\n",
        "auf ein Motorrad oder ein Fahrrad.\r\n",
        "\r\n",
        "* **Reflektionsstaerke** - LKW und PKW liefern eine große\r\n",
        "Reflektionsstärke. Motorräder und\r\n",
        "Fahrräder liefern deutlich geringere\r\n",
        "Reflektionsstärken.\r\n",
        "\r\n"
      ]
    },
    {
      "cell_type": "code",
      "metadata": {
        "id": "clvUVPbq0wXG"
      },
      "source": [
        "def speed(speed: float) -> str: \n",
        "  \"\"\"Classify a given speed. Limits are defined by lower and upper bounds\"\"\"\n",
        "  if speed <= SPEED_LOWER_BOUND:\n",
        "    return 'f'\n",
        "  elif SPEED_LOWER_BOUND < speed < SPEED_UPPER_BOUND:\n",
        "    return 'plm'\n",
        "  elif speed >= SPEED_UPPER_BOUND:\n",
        "    return 'pm'\n",
        "\n",
        "def reflective_strength(reflective_strength: float) -> str:\n",
        "  \"\"\"Classify a given reflective strength. Limits are defined by lower and upper bounds\"\"\"\n",
        "  if reflective_strength < REFLECT_LOWER_BOUND:\n",
        "    return 'fm'\n",
        "  elif REFLECT_LOWER_BOUND <= reflective_strength <= REFLECT_UPPER_BOUND:\n",
        "    return 'pl'\n",
        "  elif reflective_strength > REFLECT_UPPER_BOUND:\n",
        "    return 'l'\n",
        "\n",
        "def width(width: float) -> str:\n",
        "  \"\"\"Classify a given width. Limits are definied by lower and upper bounds\"\"\"\n",
        "  if CAR_WIDTH_LOWER_BOUND <= width <= CAR_WIDTH_UPPER_BOUND:\n",
        "    return 'p'\n",
        "  elif TRUCK_WIDTH_LOWER_BOUND <= width <= TRUCK_WIDTH_UPPER_BOUND:\n",
        "    return 'l'\n",
        "  elif TWOWHEEL_WIDTH_LOWER_BOUND <= width <= TWOWHEEL_WIDTH_UPPER_BOUND:\n",
        "    return 'fm'\n",
        "  else:\n",
        "    # Return nothing if measurement is meaningless\n",
        "    return ''\n",
        "\n",
        "def distance(distance: float, old_distance: float) -> str:\n",
        "  \"\"\"Classify a given distance by its predecessor\"\"\"\n",
        "  # Check if ahead driving object gained x% of distance within 100ms\n",
        "  if distance > old_distance*DISTANCE_PERCENTAGE_THRESHOLD:\n",
        "    return 'm'\n",
        "  else:\n",
        "    return ''\n"
      ],
      "execution_count": 6,
      "outputs": []
    },
    {
      "cell_type": "markdown",
      "metadata": {
        "id": "x_zAlmCEh_wV"
      },
      "source": [
        "Laut Aufgabenbeschreibung funktionieren die Sensoren im Nahbereich gut und werden auf Entfernung immer schlechter. \r\n",
        "\r\n",
        "**Assumption:** Evidence increases as a function of distance:\r\n",
        "\r\n",
        "evidence = 1 - distance/2 /100\r\n",
        "\r\n",
        "omega = 1 - evidence\r\n",
        "\r\n"
      ]
    },
    {
      "cell_type": "code",
      "metadata": {
        "id": "lLHFIQxRjF2q"
      },
      "source": [
        "def compute_evidence(distance: float) -> float:\r\n",
        "  \"\"\"Compute an evidence value dependent on a given distance\"\"\"\r\n",
        "  return 1-distance/2/100"
      ],
      "execution_count": 7,
      "outputs": []
    },
    {
      "cell_type": "code",
      "metadata": {
        "id": "Bw7hYTehRZwK"
      },
      "source": [
        "def createMassFunction(om: list, distance: float) -> MassFunction:\n",
        "  \"\"\" Wrapper function for creation of pyds MassFunction \"\"\"\n",
        "  # Remove empty elements\n",
        "  om = list(filter(None, om)) \n",
        "  # Remove duplicates\n",
        "  om = list(dict.fromkeys(om))\n",
        "  # Create param list\n",
        "  param = {}\n",
        "\n",
        "  # Iterate over all elements of omega\n",
        "  for elem in om:\n",
        "    # Create param entry with computed evidence score\n",
        "    param[elem] = compute_evidence(distance=distance)/len(om)\n",
        "\n",
        "  # Set omega as the counter probability of the evidence\n",
        "  param[omega] = 1 - compute_evidence(distance=distance)\n",
        "\n",
        "  return MassFunction(param)"
      ],
      "execution_count": 8,
      "outputs": []
    },
    {
      "cell_type": "code",
      "metadata": {
        "colab": {
          "base_uri": "https://localhost:8080/"
        },
        "id": "2VeaW1Gnz9D8",
        "outputId": "d8d9679a-4d5f-4ef0-c686-b827d3280a0a"
      },
      "source": [
        "#@title Select dataset\n",
        "# Storage of distance predecessor\n",
        "old_dist = 0\n",
        "# Storage of all mass functions\n",
        "mass_functions = []\n",
        "# Select the dataset\n",
        "dataset_number = 0 #@param [\"0\", \"1\", \"2\", \"3\", \"4\", \"5\"] {type:\"raw\"}\n",
        "\n",
        "for row in dfs[dataset_number].iloc:\n",
        "  # Omega, which is calculated using the measurement limits\n",
        "  omega_ = []\n",
        "  # Iterate over the features\n",
        "  for i in range(1,5):\n",
        "    # Reformat for float casting\n",
        "    s = row[i].replace(',', '.')\n",
        "    # Feature 1: Distance\n",
        "    if i == 1:\n",
        "      # If there is no predecessor\n",
        "      if old_dist == 0:\n",
        "        # Get object prediction for distance\n",
        "        omega_.append(distance(float(s), float(s)))\n",
        "        # Set current distance as predecessor\n",
        "        old_dist = float(s)\n",
        "      # If there is a predecessor\n",
        "      else:\n",
        "        # Get object prediction for distance\n",
        "        omega_.append(distance(float(s), old_dist))\n",
        "        # Set current distance as predecessor\n",
        "        old_dist = float(s)\n",
        "      # Feature 2: Width\n",
        "    elif i == 2:\n",
        "      # Get object prediction for width\n",
        "      omega_.append(width(float(s)))\n",
        "    # Feature 3: Reflective Strength\n",
        "    elif i == 3:\n",
        "      # Get object prediction for reflective strength\n",
        "      omega_.append(reflective_strength(float(s)))\n",
        "    # Feature 4: Speed/Velocity\n",
        "    elif i == 4:\n",
        "      # Get object prediction for speed\n",
        "      omega_.append(speed(float(s)))\n",
        "\n",
        "  # Print current iteration\n",
        "  print(f'Takt {row[0]}: {omega_}')\n",
        "  # Append the newly created massfunction to the list\n",
        "  mass_functions.append(createMassFunction(omega_, float(row[1].replace(',', '.'))))"
      ],
      "execution_count": 9,
      "outputs": [
        {
          "output_type": "stream",
          "text": [
            "Takt 1: ['', 'fm', 'fm', 'pm']\n",
            "Takt 2: ['', '', 'fm', 'pm']\n",
            "Takt 3: ['', '', 'fm', 'pm']\n",
            "Takt 4: ['', '', 'fm', 'pm']\n",
            "Takt 5: ['', '', 'fm', 'pm']\n",
            "Takt 6: ['', '', 'fm', 'pm']\n",
            "Takt 7: ['', '', 'fm', 'pm']\n",
            "Takt 8: ['', '', 'fm', 'pm']\n",
            "Takt 9: ['', 'fm', 'pl', 'pm']\n",
            "Takt 10: ['', '', 'pl', 'pm']\n",
            "Takt 11: ['', '', 'pl', 'pm']\n",
            "Takt 12: ['', '', 'fm', 'pm']\n",
            "Takt 13: ['', 'fm', 'pl', 'pm']\n",
            "Takt 14: ['', 'fm', 'pl', 'pm']\n",
            "Takt 15: ['', '', 'pl', 'pm']\n",
            "Takt 16: ['', 'fm', 'pl', 'pm']\n",
            "Takt 17: ['', '', 'pl', 'pm']\n",
            "Takt 18: ['', 'fm', 'pl', 'pm']\n"
          ],
          "name": "stdout"
        }
      ]
    },
    {
      "cell_type": "code",
      "metadata": {
        "colab": {
          "base_uri": "https://localhost:8080/"
        },
        "id": "179nTJMRmzVm",
        "outputId": "a5a45f16-f875-48ab-9675-ef57a270d91a"
      },
      "source": [
        "# Show all massfunctions (without dempster rule applied to them)\r\n",
        "for i, fun in enumerate(mass_functions):\r\n",
        "  print(f'MassFuntion at {i*100}ms: {fun}')"
      ],
      "execution_count": 10,
      "outputs": [
        {
          "output_type": "stream",
          "text": [
            "MassFuntion at 0ms: {{'m', 'f'}:0.347; {'m', 'p'}:0.347; {'l', 'f', 'p', 'm'}:0.30600000000000005}\n",
            "MassFuntion at 100ms: {{'m', 'f'}:0.348; {'m', 'p'}:0.348; {'l', 'f', 'p', 'm'}:0.30400000000000005}\n",
            "MassFuntion at 200ms: {{'m', 'f'}:0.34875; {'m', 'p'}:0.34875; {'l', 'f', 'p', 'm'}:0.3025}\n",
            "MassFuntion at 300ms: {{'m', 'f'}:0.349; {'m', 'p'}:0.349; {'l', 'f', 'p', 'm'}:0.30200000000000005}\n",
            "MassFuntion at 400ms: {{'m', 'f'}:0.34975; {'m', 'p'}:0.34975; {'l', 'f', 'p', 'm'}:0.3005}\n",
            "MassFuntion at 500ms: {{'m', 'f'}:0.35075; {'m', 'p'}:0.35075; {'l', 'f', 'p', 'm'}:0.2985}\n",
            "MassFuntion at 600ms: {{'m', 'f'}:0.35175; {'m', 'p'}:0.35175; {'l', 'f', 'p', 'm'}:0.2965}\n",
            "MassFuntion at 700ms: {{'m', 'f'}:0.35275; {'m', 'p'}:0.35275; {'l', 'f', 'p', 'm'}:0.2945}\n",
            "MassFuntion at 800ms: {{'l', 'f', 'p', 'm'}:0.2929999999999999; {'m', 'f'}:0.2356666666666667; {'l', 'p'}:0.2356666666666667; {'m', 'p'}:0.2356666666666667}\n",
            "MassFuntion at 900ms: {{'l', 'p'}:0.35425; {'m', 'p'}:0.35425; {'l', 'f', 'p', 'm'}:0.2915}\n",
            "MassFuntion at 1000ms: {{'l', 'p'}:0.35475; {'m', 'p'}:0.35475; {'l', 'f', 'p', 'm'}:0.2905}\n",
            "MassFuntion at 1100ms: {{'m', 'f'}:0.35575; {'m', 'p'}:0.35575; {'l', 'f', 'p', 'm'}:0.2885}\n",
            "MassFuntion at 1200ms: {{'l', 'f', 'p', 'm'}:0.2869999999999999; {'m', 'f'}:0.2376666666666667; {'l', 'p'}:0.2376666666666667; {'m', 'p'}:0.2376666666666667}\n",
            "MassFuntion at 1300ms: {{'l', 'f', 'p', 'm'}:0.2865; {'m', 'f'}:0.23783333333333334; {'l', 'p'}:0.23783333333333334; {'m', 'p'}:0.23783333333333334}\n",
            "MassFuntion at 1400ms: {{'l', 'p'}:0.35750000000000004; {'m', 'p'}:0.35750000000000004; {'l', 'f', 'p', 'm'}:0.2849999999999999}\n",
            "MassFuntion at 1500ms: {{'l', 'f', 'p', 'm'}:0.28300000000000003; {'m', 'f'}:0.239; {'l', 'p'}:0.239; {'m', 'p'}:0.239}\n",
            "MassFuntion at 1600ms: {{'l', 'p'}:0.3595; {'m', 'p'}:0.3595; {'l', 'f', 'p', 'm'}:0.281}\n",
            "MassFuntion at 1700ms: {{'l', 'f', 'p', 'm'}:0.28; {'m', 'f'}:0.24; {'l', 'p'}:0.24; {'m', 'p'}:0.24}\n"
          ],
          "name": "stdout"
        }
      ]
    },
    {
      "cell_type": "markdown",
      "metadata": {
        "id": "i2C-ayh9DEnp"
      },
      "source": [
        "# Dempster Rule"
      ]
    },
    {
      "cell_type": "code",
      "metadata": {
        "colab": {
          "base_uri": "https://localhost:8080/"
        },
        "id": "tAwAD72ZW-p7",
        "outputId": "976f3502-2c5b-4f19-a56b-5b1a57879817"
      },
      "source": [
        "dempster_list = []\r\n",
        "\r\n",
        "# Empty object for storage of massfunction predecessor\r\n",
        "c = None\r\n",
        "# Iterate over all functions\r\n",
        "for i, func in enumerate(mass_functions):\r\n",
        "  # If there is no predecessor \r\n",
        "  if i == 0:\r\n",
        "    # Set current function as predecessor\r\n",
        "    c = func\r\n",
        "  else:\r\n",
        "    # Apply dempster rule on predecessor\r\n",
        "    print(c)\r\n",
        "    print(mass_functions[i], \"\\n\")\r\n",
        "    c = c.combine_conjunctive(mass_function=mass_functions[i])\r\n",
        "\r\n",
        "  # Iteratively print massfunctions\r\n",
        "  #print(f'{c}')\r\n",
        "  dempster_list.append(c)\r\n",
        "\r\n",
        "# Show final massfunction\r\n",
        "print(f'Final Massfunction: {c}')"
      ],
      "execution_count": 11,
      "outputs": [
        {
          "output_type": "stream",
          "text": [
            "{{'m', 'f'}:0.347; {'m', 'p'}:0.347; {'l', 'f', 'p', 'm'}:0.30600000000000005}\n",
            "{{'m', 'f'}:0.348; {'m', 'p'}:0.348; {'l', 'f', 'p', 'm'}:0.30400000000000005} \n",
            "\n",
            "{{'m', 'f'}:0.332732; {'m', 'p'}:0.332732; {'m'}:0.24151199999999998; {'l', 'f', 'm', 'p'}:0.09302400000000002}\n",
            "{{'m', 'f'}:0.34875; {'m', 'p'}:0.34875; {'l', 'f', 'p', 'm'}:0.3025} \n",
            "\n",
            "{{'m'}:0.47359257000000005; {'m', 'f'}:0.24913383500000003; {'m', 'p'}:0.24913383500000003; {'l', 'f', 'm', 'p'}:0.028139760000000007}\n",
            "{{'m', 'f'}:0.349; {'m', 'p'}:0.349; {'l', 'f', 'p', 'm'}:0.30200000000000005} \n",
            "\n",
            "{{'m'}:0.64748798683; {'m', 'f'}:0.17200690282500003; {'m', 'p'}:0.17200690282500003; {'l', 'f', 'm', 'p'}:0.008498207520000004}\n",
            "{{'m', 'f'}:0.34975; {'m', 'p'}:0.34975; {'l', 'f', 'p', 'm'}:0.3005} \n",
            "\n",
            "{{'m'}:0.7678068153560875; {'m', 'f'}:0.11481973664207627; {'m', 'p'}:0.11481973664207627; {'l', 'f', 'm', 'p'}:0.002553711359760001}\n",
            "{{'m', 'f'}:0.35075; {'m', 'p'}:0.35075; {'l', 'f', 'p', 'm'}:0.2985} \n",
            "\n",
            "{{'m'}:0.848352860610504; {'m', 'f'}:0.07544242827430385; {'m', 'p'}:0.07544242827430385; {'l', 'f', 'm', 'p'}:0.0007622828408883603}\n",
            "{{'m', 'f'}:0.35175; {'m', 'p'}:0.35175; {'l', 'f', 'p', 'm'}:0.2965} \n",
            "\n",
            "{{'m'}:0.9014266089014767; {'m', 'f'}:0.04917368711809995; {'m', 'p'}:0.04917368711809995; {'l', 'f', 'm', 'p'}:0.00022601686232339883}\n",
            "{{'m', 'f'}:0.35275; {'m', 'p'}:0.35275; {'l', 'f', 'p', 'm'}:0.2945} \n",
            "\n",
            "{{'m'}:0.9361186451632962; {'m', 'f'}:0.031907396435374775; {'m', 'p'}:0.031907396435374775; {'l', 'f', 'm', 'p'}:6.656196595424095e-05}\n",
            "{{'l', 'f', 'p', 'm'}:0.2929999999999999; {'m', 'f'}:0.2356666666666667; {'l', 'p'}:0.2356666666666667; {'m', 'p'}:0.2356666666666667} \n",
            "\n",
            "{{'m'}:0.9464639067717135; {'m', 'f'}:0.021874273540375442; {'m', 'p'}:0.021874273540375442; {'p'}:0.009741956657458521; {'l', 'f', 'm', 'p'}:2.5266810704758477e-05; {'l', 'p'}:2.0322679372314278e-05}\n",
            "{{'l', 'p'}:0.35425; {'m', 'p'}:0.35425; {'l', 'f', 'p', 'm'}:0.2915} \n",
            "\n",
            "{{'m'}:0.9421002626213111; {'p'}:0.026634730033762828; {'m', 'p'}:0.02151444460075649; {'m', 'f'}:0.009705751590667082; {'l', 'p'}:3.36001120140601e-05; {'l', 'f', 'm', 'p'}:1.1211041488355848e-05}\n",
            "{{'l', 'p'}:0.35475; {'m', 'p'}:0.35475; {'l', 'f', 'p', 'm'}:0.2905} \n",
            "\n",
            "{{'m'}:0.9229806721229675; {'p'}:0.0517537006955272; {'m', 'p'}:0.02096510793221326; {'m', 'f'}:0.004256864782962682; {'l', 'p'}:3.8737393473501874e-05; {'l', 'f', 'm', 'p'}:4.917072855852418e-06}\n",
            "{{'m', 'f'}:0.35575; {'m', 'p'}:0.35575; {'l', 'f', 'p', 'm'}:0.2885} \n",
            "\n",
            "{{'m'}:0.949447103568922; {'p'}:0.03398223053040944; {'m', 'p'}:0.013762088718507476; {'m', 'f'}:0.002795746460527929; {'l', 'p'}:1.1385518006349172e-05; {'l', 'f', 'm', 'p'}:1.4452036267523685e-06}\n",
            "{{'l', 'f', 'p', 'm'}:0.2869999999999999; {'m', 'f'}:0.2376666666666667; {'l', 'p'}:0.2376666666666667; {'m', 'p'}:0.2376666666666667} \n",
            "\n",
            "{{'m'}:0.9505305318415443; {'p'}:0.03811273844258737; {'m', 'p'}:0.00943157074757297; {'m', 'f'}:0.0019163661095227202; {'l', 'p'}:8.251099340701734e-06; {'l', 'f', 'm', 'p'}:5.417594319171251e-07}\n",
            "{{'l', 'f', 'p', 'm'}:0.2865; {'m', 'f'}:0.23783333333333334; {'l', 'p'}:0.23783333333333334; {'m', 'p'}:0.23783333333333334} \n",
            "\n",
            "{{'m'}:0.9512717837207413; {'p'}:0.040937933404793125; {'m', 'p'}:0.006469585931545494; {'m', 'f'}:0.0013146656386106776; {'l', 'p'}:5.828253472923727e-06; {'l', 'f', 'm', 'p'}:2.0305083652784128e-07}\n",
            "{{'l', 'p'}:0.35750000000000004; {'m', 'p'}:0.35750000000000004; {'l', 'f', 'p', 'm'}:0.2849999999999999} \n",
            "\n",
            "{{'m'}:0.9275332392244584; {'p'}:0.06558931138068604; {'m', 'p'}:0.006303403413586565; {'m', 'f'}:0.0005681697040753883; {'l', 'p'}:5.788523067876172e-06; {'l', 'f', 'm', 'p'}:8.775412569860911e-08}\n",
            "{{'l', 'f', 'p', 'm'}:0.28300000000000003; {'m', 'f'}:0.239; {'l', 'p'}:0.239; {'m', 'p'}:0.239} \n",
            "\n",
            "{{'m'}:0.9278544761479007; {'p'}:0.06743727497989385; {'m', 'p'}:0.004315238501876553; {'m', 'f'}:0.0003889875632358137; {'l', 'p'}:3.9902376442072504e-06; {'l', 'f', 'm', 'p'}:3.256944885410537e-08}\n",
            "{{'l', 'p'}:0.3595; {'m', 'p'}:0.3595; {'l', 'f', 'p', 'm'}:0.281} \n",
            "\n",
            "{{'m'}:0.8921413447127235; {'p'}:0.10354255248444794; {'m', 'p'}:0.004148186391074128; {'m', 'f'}:0.0001640493525089637; {'l', 'p'}:3.853323595572773e-06; {'l', 'f', 'm', 'p'}:1.3735649930922705e-08}\n",
            "{{'l', 'f', 'p', 'm'}:0.28; {'m', 'f'}:0.24; {'l', 'p'}:0.24; {'m', 'p'}:0.24} \n",
            "\n",
            "Final Massfunction: {{'m'}:0.8923341831249542; {'p'}:0.1047165486468593; {'m', 'p'}:0.002834524024229694; {'m', 'f'}:0.00011210178277573766; {'l', 'p'}:2.6373672988343225e-06; {'l', 'f', 'm', 'p'}:5.053882232996986e-09}\n"
          ],
          "name": "stdout"
        }
      ]
    },
    {
      "cell_type": "code",
      "metadata": {
        "colab": {
          "base_uri": "https://localhost:8080/"
        },
        "id": "hYHElaH_nPCq",
        "outputId": "574e3575-7ed6-4ec6-b074-7db5c3617a12"
      },
      "source": [
        "dempster_list[-1]"
      ],
      "execution_count": 12,
      "outputs": [
        {
          "output_type": "execute_result",
          "data": {
            "text/plain": [
              "{frozenset({'m'}): 0.8923341831249542,\n",
              " frozenset({'f', 'm'}): 0.00011210178277573766,\n",
              " frozenset({'p'}): 0.1047165486468593,\n",
              " frozenset({'m', 'p'}): 0.002834524024229694,\n",
              " frozenset({'l', 'p'}): 2.6373672988343225e-06,\n",
              " frozenset({'f', 'l', 'm', 'p'}): 5.053882232996986e-09}"
            ]
          },
          "metadata": {
            "tags": []
          },
          "execution_count": 12
        }
      ]
    },
    {
      "cell_type": "code",
      "metadata": {
        "id": "SpB9azx2Zu1f"
      },
      "source": [
        "def compute_plausibility(mass_function: MassFunction) -> None:\r\n",
        "  for elem in omega:\r\n",
        "    # Print out every possible plausibility in omega\r\n",
        "    print(f'Plausibility of {elem}: {mass_function.pl({elem})}')\r\n",
        "\r\n",
        "def compute_belief(mass_function: MassFunction) -> None:\r\n",
        "  for elem in omega:\r\n",
        "    # Print out every possible believe in omega\r\n",
        "    print(f'B({elem}): {mass_function.bel({elem})}')\r\n",
        "\r\n",
        "  # Some additional believes\r\n",
        "  print(f'B(four wheels) = B(p,l) = {c.bel(\"pl\")}')\r\n",
        "  print(f'B(two wheels) = B(f,m) = {c.bel(\"fm\")}')\r\n",
        "\r\n",
        "def compute_doubt(mass_function: MassFunction, lbl: str) -> None: \r\n",
        "  # Print doubt of massfunction with given label\r\n",
        "  print(f'Doubt on classification of {lbl}: {mass_function.bel(omega.replace(lbl, \"\"))}')"
      ],
      "execution_count": 13,
      "outputs": []
    },
    {
      "cell_type": "code",
      "metadata": {
        "colab": {
          "base_uri": "https://localhost:8080/"
        },
        "id": "QS05oezZao6K",
        "outputId": "b88df5c9-7871-4e8b-ad4a-a8f6cf4404a4"
      },
      "source": [
        "compute_plausibility(c)"
      ],
      "execution_count": 14,
      "outputs": [
        {
          "output_type": "stream",
          "text": [
            "Plausibility of p: 0.10755371509227006\n",
            "Plausibility of l: 2.6424211810673196e-06\n",
            "Plausibility of m: 0.8952808139858418\n",
            "Plausibility of f: 0.00011210683665797066\n"
          ],
          "name": "stdout"
        }
      ]
    },
    {
      "cell_type": "code",
      "metadata": {
        "colab": {
          "base_uri": "https://localhost:8080/"
        },
        "id": "kLQxQZcXdoqP",
        "outputId": "7e0f398e-c56e-4b38-867c-9579ed10ff81"
      },
      "source": [
        "compute_belief(c)"
      ],
      "execution_count": 15,
      "outputs": [
        {
          "output_type": "stream",
          "text": [
            "B(p): 0.1047165486468593\n",
            "B(l): 0.0\n",
            "B(m): 0.8923341831249542\n",
            "B(f): 0.0\n",
            "B(four wheels) = B(p,l) = 0.10471918601415812\n",
            "B(two wheels) = B(f,m) = 0.8924462849077299\n"
          ],
          "name": "stdout"
        }
      ]
    },
    {
      "cell_type": "code",
      "metadata": {
        "colab": {
          "base_uri": "https://localhost:8080/"
        },
        "id": "QLpUecXDeurV",
        "outputId": "de626350-ab41-44cc-d883-daf5c020105f"
      },
      "source": [
        "#@title Compute Doubt for given label\n",
        "doubt = \"m\" #@param [\"p\", \"l\", \"m\", \"f\"]\n",
        "\n",
        "compute_doubt(c, doubt)"
      ],
      "execution_count": 16,
      "outputs": [
        {
          "output_type": "stream",
          "text": [
            "Doubt on classification of m: 0.10471918601415812\n"
          ],
          "name": "stdout"
        }
      ]
    },
    {
      "cell_type": "markdown",
      "metadata": {
        "id": "pT5ShEcQFTFv"
      },
      "source": [
        "# Evaluation"
      ]
    },
    {
      "cell_type": "code",
      "metadata": {
        "id": "pbUl1MlcFUwU"
      },
      "source": [
        "import matplotlib.pyplot as plt"
      ],
      "execution_count": 17,
      "outputs": []
    },
    {
      "cell_type": "code",
      "metadata": {
        "id": "JQSvNY9RfYZB",
        "colab": {
          "base_uri": "https://localhost:8080/"
        },
        "outputId": "d7a55e65-a494-4f32-83e9-2d3456c8bd2c"
      },
      "source": [
        "mass_functions"
      ],
      "execution_count": 18,
      "outputs": [
        {
          "output_type": "execute_result",
          "data": {
            "text/plain": [
              "[{frozenset({'f', 'm'}): 0.347,\n",
              "  frozenset({'m', 'p'}): 0.347,\n",
              "  frozenset({'f', 'l', 'm', 'p'}): 0.30600000000000005},\n",
              " {frozenset({'f', 'm'}): 0.348,\n",
              "  frozenset({'m', 'p'}): 0.348,\n",
              "  frozenset({'f', 'l', 'm', 'p'}): 0.30400000000000005},\n",
              " {frozenset({'f', 'm'}): 0.34875,\n",
              "  frozenset({'m', 'p'}): 0.34875,\n",
              "  frozenset({'f', 'l', 'm', 'p'}): 0.3025},\n",
              " {frozenset({'f', 'm'}): 0.349,\n",
              "  frozenset({'m', 'p'}): 0.349,\n",
              "  frozenset({'f', 'l', 'm', 'p'}): 0.30200000000000005},\n",
              " {frozenset({'f', 'm'}): 0.34975,\n",
              "  frozenset({'m', 'p'}): 0.34975,\n",
              "  frozenset({'f', 'l', 'm', 'p'}): 0.3005},\n",
              " {frozenset({'f', 'm'}): 0.35075,\n",
              "  frozenset({'m', 'p'}): 0.35075,\n",
              "  frozenset({'f', 'l', 'm', 'p'}): 0.2985},\n",
              " {frozenset({'f', 'm'}): 0.35175,\n",
              "  frozenset({'m', 'p'}): 0.35175,\n",
              "  frozenset({'f', 'l', 'm', 'p'}): 0.2965},\n",
              " {frozenset({'f', 'm'}): 0.35275,\n",
              "  frozenset({'m', 'p'}): 0.35275,\n",
              "  frozenset({'f', 'l', 'm', 'p'}): 0.2945},\n",
              " {frozenset({'f', 'm'}): 0.2356666666666667,\n",
              "  frozenset({'l', 'p'}): 0.2356666666666667,\n",
              "  frozenset({'m', 'p'}): 0.2356666666666667,\n",
              "  frozenset({'f', 'l', 'm', 'p'}): 0.2929999999999999},\n",
              " {frozenset({'l', 'p'}): 0.35425,\n",
              "  frozenset({'m', 'p'}): 0.35425,\n",
              "  frozenset({'f', 'l', 'm', 'p'}): 0.2915},\n",
              " {frozenset({'l', 'p'}): 0.35475,\n",
              "  frozenset({'m', 'p'}): 0.35475,\n",
              "  frozenset({'f', 'l', 'm', 'p'}): 0.2905},\n",
              " {frozenset({'f', 'm'}): 0.35575,\n",
              "  frozenset({'m', 'p'}): 0.35575,\n",
              "  frozenset({'f', 'l', 'm', 'p'}): 0.2885},\n",
              " {frozenset({'f', 'm'}): 0.2376666666666667,\n",
              "  frozenset({'l', 'p'}): 0.2376666666666667,\n",
              "  frozenset({'m', 'p'}): 0.2376666666666667,\n",
              "  frozenset({'f', 'l', 'm', 'p'}): 0.2869999999999999},\n",
              " {frozenset({'f', 'm'}): 0.23783333333333334,\n",
              "  frozenset({'l', 'p'}): 0.23783333333333334,\n",
              "  frozenset({'m', 'p'}): 0.23783333333333334,\n",
              "  frozenset({'f', 'l', 'm', 'p'}): 0.2865},\n",
              " {frozenset({'l', 'p'}): 0.35750000000000004,\n",
              "  frozenset({'m', 'p'}): 0.35750000000000004,\n",
              "  frozenset({'f', 'l', 'm', 'p'}): 0.2849999999999999},\n",
              " {frozenset({'f', 'm'}): 0.239,\n",
              "  frozenset({'l', 'p'}): 0.239,\n",
              "  frozenset({'m', 'p'}): 0.239,\n",
              "  frozenset({'f', 'l', 'm', 'p'}): 0.28300000000000003},\n",
              " {frozenset({'l', 'p'}): 0.3595,\n",
              "  frozenset({'m', 'p'}): 0.3595,\n",
              "  frozenset({'f', 'l', 'm', 'p'}): 0.281},\n",
              " {frozenset({'f', 'm'}): 0.24,\n",
              "  frozenset({'l', 'p'}): 0.24,\n",
              "  frozenset({'m', 'p'}): 0.24,\n",
              "  frozenset({'f', 'l', 'm', 'p'}): 0.28}]"
            ]
          },
          "metadata": {
            "tags": []
          },
          "execution_count": 18
        }
      ]
    },
    {
      "cell_type": "code",
      "metadata": {
        "id": "xmJK4DbaNeSV"
      },
      "source": [
        "def append_value(dict_obj, key, value):\r\n",
        "    # Check if key exist in dict or not\r\n",
        "    if key in dict_obj:\r\n",
        "        # Key exist in dict.\r\n",
        "        # Check if type of value of key is list or not\r\n",
        "        if not isinstance(dict_obj[key], list):\r\n",
        "            # If type is not list then make it list\r\n",
        "            dict_obj[key] = [dict_obj[key]]\r\n",
        "        # Append the value in list\r\n",
        "        dict_obj[key].append(value)\r\n",
        "    else:\r\n",
        "        # As key is not in dict,\r\n",
        "        # so, add key-value pair\r\n",
        "        dict_obj[key] = [value]"
      ],
      "execution_count": 19,
      "outputs": []
    },
    {
      "cell_type": "code",
      "metadata": {
        "id": "biNKOCN6vm_P"
      },
      "source": [
        "def correct_data(dict_obj):\r\n",
        "  max_key = max(dict_obj, key= lambda x: len(set(dict_obj[x])))\r\n",
        "  for key, value in dict_obj.items():\r\n",
        "    missing_values = len(dict_obj[max_key])-len(value)\r\n",
        "    for _ in range(missing_values):\r\n",
        "      dict_obj[key].insert(0, None)\r\n",
        "  return dict_obj"
      ],
      "execution_count": 20,
      "outputs": []
    },
    {
      "cell_type": "code",
      "metadata": {
        "id": "IWQqw4-UJzlK",
        "colab": {
          "base_uri": "https://localhost:8080/",
          "height": 602
        },
        "outputId": "870cad25-68ee-4a8e-c656-26ddf9f01162"
      },
      "source": [
        "dic = {}\r\n",
        "\r\n",
        "for mf in dempster_list:\r\n",
        "  for i in mf:\r\n",
        "    val = mf[i]\r\n",
        "    key = ''.join(list(i))\r\n",
        "    # dic[key] = [val]\r\n",
        "    append_value(dic, key, val)\r\n",
        "\r\n",
        "dic = correct_data(dic)\r\n",
        "d = pd.DataFrame(dic)\r\n",
        "\r\n",
        "fig = plt.figure(figsize=(15,9))\r\n",
        "plt.plot(d)\r\n",
        "fig.suptitle('Verlauf der Wahrscheinlichkeiten', fontsize=22, y=0.95)\r\n",
        "plt.xlabel('Iteration', fontsize=16)\r\n",
        "plt.ylabel('Wahrscheinlichkeit', fontsize=16)\r\n",
        "plt.legend(d)\r\n",
        "plt.show()"
      ],
      "execution_count": 21,
      "outputs": [
        {
          "output_type": "display_data",
          "data": {
            "image/png": "[encoded data removed]",
            "text/plain": [
              "<Figure size 1080x648 with 1 Axes>"
            ]
          },
          "metadata": {
            "tags": [],
            "needs_background": "light"
          }
        }
      ]
    },
    {
      "cell_type": "code",
      "metadata": {
        "id": "BNXgk5v8zfpI",
        "colab": {
          "base_uri": "https://localhost:8080/",
          "height": 607
        },
        "outputId": "ccb8e2e4-38e8-4739-aa50-e0dfeacebbaf"
      },
      "source": [
        "d"
      ],
      "execution_count": 22,
      "outputs": [
        {
          "output_type": "execute_result",
          "data": {
            "text/html": [
              "<div>\n",
              "<style scoped>\n",
              "    .dataframe tbody tr th:only-of-type {\n",
              "        vertical-align: middle;\n",
              "    }\n",
              "\n",
              "    .dataframe tbody tr th {\n",
              "        vertical-align: top;\n",
              "    }\n",
              "\n",
              "    .dataframe thead th {\n",
              "        text-align: right;\n",
              "    }\n",
              "</style>\n",
              "<table border=\"1\" class=\"dataframe\">\n",
              "  <thead>\n",
              "    <tr style=\"text-align: right;\">\n",
              "      <th></th>\n",
              "      <th>mf</th>\n",
              "      <th>mp</th>\n",
              "      <th>lfpm</th>\n",
              "      <th>m</th>\n",
              "      <th>lfmp</th>\n",
              "      <th>p</th>\n",
              "      <th>lp</th>\n",
              "    </tr>\n",
              "  </thead>\n",
              "  <tbody>\n",
              "    <tr>\n",
              "      <th>0</th>\n",
              "      <td>0.347000</td>\n",
              "      <td>0.347000</td>\n",
              "      <td>NaN</td>\n",
              "      <td>NaN</td>\n",
              "      <td>NaN</td>\n",
              "      <td>NaN</td>\n",
              "      <td>NaN</td>\n",
              "    </tr>\n",
              "    <tr>\n",
              "      <th>1</th>\n",
              "      <td>0.332732</td>\n",
              "      <td>0.332732</td>\n",
              "      <td>NaN</td>\n",
              "      <td>0.241512</td>\n",
              "      <td>9.302400e-02</td>\n",
              "      <td>NaN</td>\n",
              "      <td>NaN</td>\n",
              "    </tr>\n",
              "    <tr>\n",
              "      <th>2</th>\n",
              "      <td>0.249134</td>\n",
              "      <td>0.249134</td>\n",
              "      <td>NaN</td>\n",
              "      <td>0.473593</td>\n",
              "      <td>2.813976e-02</td>\n",
              "      <td>NaN</td>\n",
              "      <td>NaN</td>\n",
              "    </tr>\n",
              "    <tr>\n",
              "      <th>3</th>\n",
              "      <td>0.172007</td>\n",
              "      <td>0.172007</td>\n",
              "      <td>NaN</td>\n",
              "      <td>0.647488</td>\n",
              "      <td>8.498208e-03</td>\n",
              "      <td>NaN</td>\n",
              "      <td>NaN</td>\n",
              "    </tr>\n",
              "    <tr>\n",
              "      <th>4</th>\n",
              "      <td>0.114820</td>\n",
              "      <td>0.114820</td>\n",
              "      <td>NaN</td>\n",
              "      <td>0.767807</td>\n",
              "      <td>2.553711e-03</td>\n",
              "      <td>NaN</td>\n",
              "      <td>NaN</td>\n",
              "    </tr>\n",
              "    <tr>\n",
              "      <th>5</th>\n",
              "      <td>0.075442</td>\n",
              "      <td>0.075442</td>\n",
              "      <td>NaN</td>\n",
              "      <td>0.848353</td>\n",
              "      <td>7.622828e-04</td>\n",
              "      <td>NaN</td>\n",
              "      <td>NaN</td>\n",
              "    </tr>\n",
              "    <tr>\n",
              "      <th>6</th>\n",
              "      <td>0.049174</td>\n",
              "      <td>0.049174</td>\n",
              "      <td>NaN</td>\n",
              "      <td>0.901427</td>\n",
              "      <td>2.260169e-04</td>\n",
              "      <td>NaN</td>\n",
              "      <td>NaN</td>\n",
              "    </tr>\n",
              "    <tr>\n",
              "      <th>7</th>\n",
              "      <td>0.031907</td>\n",
              "      <td>0.031907</td>\n",
              "      <td>NaN</td>\n",
              "      <td>0.936119</td>\n",
              "      <td>6.656197e-05</td>\n",
              "      <td>NaN</td>\n",
              "      <td>NaN</td>\n",
              "    </tr>\n",
              "    <tr>\n",
              "      <th>8</th>\n",
              "      <td>0.021874</td>\n",
              "      <td>0.021874</td>\n",
              "      <td>NaN</td>\n",
              "      <td>0.946464</td>\n",
              "      <td>2.526681e-05</td>\n",
              "      <td>0.009742</td>\n",
              "      <td>0.000020</td>\n",
              "    </tr>\n",
              "    <tr>\n",
              "      <th>9</th>\n",
              "      <td>0.009706</td>\n",
              "      <td>0.021514</td>\n",
              "      <td>NaN</td>\n",
              "      <td>0.942100</td>\n",
              "      <td>1.121104e-05</td>\n",
              "      <td>0.026635</td>\n",
              "      <td>0.000034</td>\n",
              "    </tr>\n",
              "    <tr>\n",
              "      <th>10</th>\n",
              "      <td>0.004257</td>\n",
              "      <td>0.020965</td>\n",
              "      <td>NaN</td>\n",
              "      <td>0.922981</td>\n",
              "      <td>4.917073e-06</td>\n",
              "      <td>0.051754</td>\n",
              "      <td>0.000039</td>\n",
              "    </tr>\n",
              "    <tr>\n",
              "      <th>11</th>\n",
              "      <td>0.002796</td>\n",
              "      <td>0.013762</td>\n",
              "      <td>NaN</td>\n",
              "      <td>0.949447</td>\n",
              "      <td>1.445204e-06</td>\n",
              "      <td>0.033982</td>\n",
              "      <td>0.000011</td>\n",
              "    </tr>\n",
              "    <tr>\n",
              "      <th>12</th>\n",
              "      <td>0.001916</td>\n",
              "      <td>0.009432</td>\n",
              "      <td>NaN</td>\n",
              "      <td>0.950531</td>\n",
              "      <td>5.417594e-07</td>\n",
              "      <td>0.038113</td>\n",
              "      <td>0.000008</td>\n",
              "    </tr>\n",
              "    <tr>\n",
              "      <th>13</th>\n",
              "      <td>0.001315</td>\n",
              "      <td>0.006470</td>\n",
              "      <td>NaN</td>\n",
              "      <td>0.951272</td>\n",
              "      <td>2.030508e-07</td>\n",
              "      <td>0.040938</td>\n",
              "      <td>0.000006</td>\n",
              "    </tr>\n",
              "    <tr>\n",
              "      <th>14</th>\n",
              "      <td>0.000568</td>\n",
              "      <td>0.006303</td>\n",
              "      <td>NaN</td>\n",
              "      <td>0.927533</td>\n",
              "      <td>8.775413e-08</td>\n",
              "      <td>0.065589</td>\n",
              "      <td>0.000006</td>\n",
              "    </tr>\n",
              "    <tr>\n",
              "      <th>15</th>\n",
              "      <td>0.000389</td>\n",
              "      <td>0.004315</td>\n",
              "      <td>NaN</td>\n",
              "      <td>0.927854</td>\n",
              "      <td>3.256945e-08</td>\n",
              "      <td>0.067437</td>\n",
              "      <td>0.000004</td>\n",
              "    </tr>\n",
              "    <tr>\n",
              "      <th>16</th>\n",
              "      <td>0.000164</td>\n",
              "      <td>0.004148</td>\n",
              "      <td>NaN</td>\n",
              "      <td>0.892141</td>\n",
              "      <td>1.373565e-08</td>\n",
              "      <td>0.103543</td>\n",
              "      <td>0.000004</td>\n",
              "    </tr>\n",
              "    <tr>\n",
              "      <th>17</th>\n",
              "      <td>0.000112</td>\n",
              "      <td>0.002835</td>\n",
              "      <td>0.306</td>\n",
              "      <td>0.892334</td>\n",
              "      <td>5.053882e-09</td>\n",
              "      <td>0.104717</td>\n",
              "      <td>0.000003</td>\n",
              "    </tr>\n",
              "  </tbody>\n",
              "</table>\n",
              "</div>"
            ],
            "text/plain": [
              "          mf        mp   lfpm         m          lfmp         p        lp\n",
              "0   0.347000  0.347000    NaN       NaN           NaN       NaN       NaN\n",
              "1   0.332732  0.332732    NaN  0.241512  9.302400e-02       NaN       NaN\n",
              "2   0.249134  0.249134    NaN  0.473593  2.813976e-02       NaN       NaN\n",
              "3   0.172007  0.172007    NaN  0.647488  8.498208e-03       NaN       NaN\n",
              "4   0.114820  0.114820    NaN  0.767807  2.553711e-03       NaN       NaN\n",
              "5   0.075442  0.075442    NaN  0.848353  7.622828e-04       NaN       NaN\n",
              "6   0.049174  0.049174    NaN  0.901427  2.260169e-04       NaN       NaN\n",
              "7   0.031907  0.031907    NaN  0.936119  6.656197e-05       NaN       NaN\n",
              "8   0.021874  0.021874    NaN  0.946464  2.526681e-05  0.009742  0.000020\n",
              "9   0.009706  0.021514    NaN  0.942100  1.121104e-05  0.026635  0.000034\n",
              "10  0.004257  0.020965    NaN  0.922981  4.917073e-06  0.051754  0.000039\n",
              "11  0.002796  0.013762    NaN  0.949447  1.445204e-06  0.033982  0.000011\n",
              "12  0.001916  0.009432    NaN  0.950531  5.417594e-07  0.038113  0.000008\n",
              "13  0.001315  0.006470    NaN  0.951272  2.030508e-07  0.040938  0.000006\n",
              "14  0.000568  0.006303    NaN  0.927533  8.775413e-08  0.065589  0.000006\n",
              "15  0.000389  0.004315    NaN  0.927854  3.256945e-08  0.067437  0.000004\n",
              "16  0.000164  0.004148    NaN  0.892141  1.373565e-08  0.103543  0.000004\n",
              "17  0.000112  0.002835  0.306  0.892334  5.053882e-09  0.104717  0.000003"
            ]
          },
          "metadata": {
            "tags": []
          },
          "execution_count": 22
        }
      ]
    }
  ]
}