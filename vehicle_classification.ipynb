{
  "nbformat": 4,
  "nbformat_minor": 0,
  "metadata": {
    "colab": {
      "name": "vehicle_classification.ipynb",
      "provenance": [],
      "authorship_tag": "ABX9TyMZwsetfhvhMbK/UOFDtHqt",
      "include_colab_link": true
    },
    "kernelspec": {
      "name": "python3",
      "display_name": "Python 3"
    }
  },
  "cells": [
    {
      "cell_type": "markdown",
      "metadata": {
        "id": "view-in-github",
        "colab_type": "text"
      },
      "source": [
        "<a href=\"https://colab.research.google.com/github/lucastanger/vehicle_classification/blob/main/vehicle_classification.ipynb\" target=\"_parent\"><img src=\"https://colab.research.google.com/assets/colab-badge.svg\" alt=\"Open In Colab\"/></a>"
      ]
    },
    {
      "cell_type": "code",
      "metadata": {
        "id": "WmQGZ7L-b7oe"
      },
      "source": [
        "import pandas as pd"
      ],
      "execution_count": 1,
      "outputs": []
    },
    {
      "cell_type": "code",
      "metadata": {
        "colab": {
          "base_uri": "https://localhost:8080/"
        },
        "id": "3hdE5v-HdYi2",
        "outputId": "88c23b1c-7f25-4c26-9b2e-95911ccd4288"
      },
      "source": [
        "dfs = []\r\n",
        "\r\n",
        "for i in range(1, 7):\r\n",
        "  dfs.append(pd.read_csv('https://raw.githubusercontent.com/lucastanger/vehicle_classification/main/data/DE11_{}.csv'.format(i), sep=\";\"))\r\n",
        "\r\n",
        "dfs"
      ],
      "execution_count": 13,
      "outputs": [
        {
          "output_type": "execute_result",
          "data": {
            "text/plain": [
              "[    Takt Radar / Distanz (m) Breite (m) Reflektionsstaerke Geschwindigkeit\n",
              " 0      1                61,2      0,735           0,050715          119,56\n",
              " 1      2                60,8       0,63         0,03803625          119,92\n",
              " 2      3                60,5       0,42           0,050715          120,64\n",
              " 3      4                60,4       0,63         0,06339375          119,92\n",
              " 4      5                60,1       0,63          0,0760725          119,56\n",
              " 5      6                59,7      0,525          0,0760725          119,56\n",
              " 6      7                59,3       0,63         0,08875125          119,56\n",
              " 7      8                58,9       0,63         0,08875125          119,92\n",
              " 8      9                58,6      0,735            0,10143          119,92\n",
              " 9     10                58,3      0,067            0,10143          120,28\n",
              " 10    11                58,1       0,63            0,10143          119,56\n",
              " 11    12                57,7       0,67         0,08875125          119,92\n",
              " 12    13                57,4       0,74            0,10143          120,64\n",
              " 13    14                57,3       0,78         0,11410875          119,92\n",
              " 14    15                  57        1,2            0,10143          119,56\n",
              " 15    16                56,6        0,7         0,11410875          119,56\n",
              " 16    17                56,2       0,64          0,1267875          120,28\n",
              " 17    18                  56       0,74          0,1267875             120,\n",
              "    Takt Radar / Distanz (m) Breite (m) Reflektionsstaerke Geschwindigkeit\n",
              " 0     1                  75       2,52              0,432           81,36\n",
              " 1     2                75,1        2,4             0,4032           81,36\n",
              " 2     3                75,2       2,52               0,36              81\n",
              " 3     4                75,2        2,4              0,432           81,36\n",
              " 4     5                75,3       2,64              0,504           80,64\n",
              " 5     6                75,2        2,4               0,36           80,28\n",
              " 6     7                  75       2,28               0,72           80,64\n",
              " 7     8                74,9       2,52             0,3168           80,64\n",
              " 8     9                74,8        2,4             0,4032           80,64\n",
              " 9    10                74,7        2,5               0,42              81,\n",
              "     Takt Radar / Distanz (m) Breite (m) Reflektionsstaerke Geschwindigkeit\n",
              " 0      1                  60        1,1              0,072            90,5\n",
              " 1      2                  58        1,2              0,069            82,8\n",
              " 2      3                  56       1,21              0,073            82,8\n",
              " 3      4                  54       1,02              0,075            82,8\n",
              " 4      5                  53       1,05               0,08            86,4\n",
              " 5      6                  53       1,12              0,085              90\n",
              " 6      7                  52        1,1               0,08            90,5\n",
              " 7      8                  51       1,05              0,081            86,4\n",
              " 8      9                  52       1,12              0,073            93,6\n",
              " 9     10                52,5       0,99              0,069            91,8\n",
              " 10    11                  55       1,05              0,052              99\n",
              " 11    12                  64       1,12              0,048           122,4\n",
              " 12    13                  78       1,18              0,062           140,4\n",
              " 13    14                  91       1,03              0,049           136,8\n",
              " 14    15                 105        1,1              0,045           140,4\n",
              " 15    16                 118       1,08              0,041           136,8\n",
              " 16    17                 128       1,02              0,029             126\n",
              " 17    18                 136       1,11              0,032           118,8\n",
              " 18    19                 145       1,01              0,023           122,4\n",
              " 19    20                 155       1,02               0,02             126,\n",
              "     Takt Radar / Distanz (m) Breite (m) Reflektionsstaerke Geschwindigkeit\n",
              " 0      1                  40       0,86               0,09          122,08\n",
              " 1      2                40,3       0,92              0,087          121,72\n",
              " 2      3                40,5       0,85              0,084           126,4\n",
              " 3      4                  42       0,88         0,06339375          128,92\n",
              " 4      5                44,2       0,77          0,0760725          129,28\n",
              " 5      6                46,5       0,85              0,065           122,8\n",
              " 6      7                  47       0,76              0,071          122,08\n",
              " 7      8                47,3       0,81              0,075          121,72\n",
              " 8      9                47,5       0,73               0,07           119,2\n",
              " 9     10                  47       0,78               0,08          125,32\n",
              " 10    11                48,2       0,82              0,081           126,4\n",
              " 11    12                49,7       0,87              0,064           126,4\n",
              " 12    13                51,2       0,69              0,062          127,48\n",
              " 13    14                  53       0,72               0,07          126,76\n",
              " 14    15                54,6       0,79              0,064          126,76\n",
              " 15    16                56,2       0,81              0,058          127,48\n",
              " 16    17                  58       0,75              0,052          128,56\n",
              " 17    18                60,1       0,74              0,049             130,\n",
              "     Takt Radar / Distanz (m) Breite (m) Reflektionsstaerke Geschwindigkeit\n",
              " 0      1                  70        0,6              0,025            27,6\n",
              " 1      2                  61       0,74               0,03            31,2\n",
              " 2      3                  53       0,63              0,035            31,2\n",
              " 3      4                  45       0,79              0,038            30,8\n",
              " 4      5                  38       0,84              0,034            30,4\n",
              " 5      6                  32       0,65              0,041            30,2\n",
              " 6      7                26,5       0,81              0,045            30,8\n",
              " 7      8                  22       0,49               0,04            30,6\n",
              " 8      9                  18       0,87              0,046              31\n",
              " 9     10                15,5        0,9              0,051            31,6\n",
              " 10    11                  14       0,59              0,055            31,4\n",
              " 11    12                  13       0,66               0,05            31,4\n",
              " 12    13                  12        0,7              0,061            31,4\n",
              " 13    14                  11       0,75              0,062            31,2\n",
              " 14    15                10,5       0,74               0,07            30,2\n",
              " 15    16                  10       0,76              0,059            31,8\n",
              " 16    17                10,5       0,77              0,069            31,8\n",
              " 17    18                  11       0,75              0,067            31,5,\n",
              "     Takt Radar / Distanz (m) Breite (m) Reflektionsstaerke Geschwindigkeit\n",
              " 0      1                  75          2               0,63            73,2\n",
              " 1      2                74,5        2,1               0,67            73,2\n",
              " 2      3                  74        2,2               0,69           72,48\n",
              " 3      4                73,3        2,1               0,77           72,84\n",
              " 4      5                72,7          2               0,72           72,48\n",
              " 5      6                  72       2,15                0,8           72,84\n",
              " 6      7                71,4       2,06               0,83           69,24\n",
              " 7      8                69,8        2,1                0,9           72,84\n",
              " 8      9                69,2       2,05               0,88           72,48\n",
              " 9     10                68,5          2               0,97           72,12\n",
              " 10    10                67,7        2,1               0,94           72,48\n",
              " 11    10                  67       2,05               1,05              73]"
            ]
          },
          "metadata": {
            "tags": []
          },
          "execution_count": 13
        }
      ]
    },
    {
      "cell_type": "code",
      "metadata": {
        "colab": {
          "base_uri": "https://localhost:8080/",
          "height": 299
        },
        "id": "1z7Z2KUwk18-",
        "outputId": "edcb1693-f7c2-4fa4-bc0b-4c76157b6462"
      },
      "source": [
        "from pyds import MassFunction"
      ],
      "execution_count": 14,
      "outputs": [
        {
          "output_type": "error",
          "ename": "ModuleNotFoundError",
          "evalue": "ignored",
          "traceback": [
            "\u001b[0;31m---------------------------------------------------------------------------\u001b[0m",
            "\u001b[0;31mModuleNotFoundError\u001b[0m                       Traceback (most recent call last)",
            "\u001b[0;32m<ipython-input-14-08ad7acfa331>\u001b[0m in \u001b[0;36m<module>\u001b[0;34m()\u001b[0m\n\u001b[0;32m----> 1\u001b[0;31m \u001b[0;32mfrom\u001b[0m \u001b[0mpyds\u001b[0m \u001b[0;32mimport\u001b[0m \u001b[0mMassFunction\u001b[0m\u001b[0;34m\u001b[0m\u001b[0;34m\u001b[0m\u001b[0m\n\u001b[0m",
            "\u001b[0;31mModuleNotFoundError\u001b[0m: No module named 'pyds'",
            "",
            "\u001b[0;31m---------------------------------------------------------------------------\u001b[0;32m\nNOTE: If your import is failing due to a missing package, you can\nmanually install dependencies using either !pip or !apt.\n\nTo view examples of installing some common dependencies, click the\n\"Open Examples\" button below.\n\u001b[0;31m---------------------------------------------------------------------------\u001b[0m\n"
          ]
        }
      ]
    },
    {
      "cell_type": "code",
      "metadata": {
        "id": "n9r792sikqqi"
      },
      "source": [
        "omega = 'plmf'"
      ],
      "execution_count": null,
      "outputs": []
    }
  ]
}